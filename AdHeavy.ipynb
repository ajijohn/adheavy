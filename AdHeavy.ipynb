{
 "cells": [
  {
   "cell_type": "markdown",
   "metadata": {},
   "source": [
    "# AdHeavy Work"
   ]
  },
  {
   "cell_type": "markdown",
   "metadata": {},
   "source": [
    "Today's workshop will address various concepts in Natural Language Processing, primarily through the use of NTLK. A fundmental understanding of Python is necessary. We will cover:\n",
    "\n",
    "1. Preparing your own corpus\n",
    "2. Tagging\n",
    "3. Chunking\n",
    "4. Document classification\n",
    "\n",
    "You will need:\n",
    "\n",
    "* NLTK ( \\$ pip install nltk)\n",
    "* Brown corpus from NLTK ( >>> nltk.download() )\n",
    "* Punkt tokenizer from NLTK ( >>> nltk.download() )\n",
    "* Movie reviews corpus from NLTK ( >>> nltk.download() )\n",
    "* Punkt tokenizer from NLTK ( >>> nltk.download() )\n",
    "* BeautifulSoup ( \\$ pip install beautifulsoup4)\n",
    "\n",
    "This workshop will further help to solidfy understandings of regex and list comprehensions."
   ]
  },
  {
   "cell_type": "markdown",
   "metadata": {},
   "source": [
    "Much of today's work will be adapted, or taken directly, from the NLTK book found here: http://www.nltk.org/book/ . The guide for BeautifulSoup is here: http://www.crummy.com/software/BeautifulSoup/bs4/doc/ . For further explanation of grammars see *Data Science from Scratch*: http://shop.oreilly.com/product/0636920033400.do ."
   ]
  },
  {
   "cell_type": "markdown",
   "metadata": {},
   "source": [
    "# 1) Preparing your own corpus"
   ]
  },
  {
   "cell_type": "markdown",
   "metadata": {},
   "source": [
    "We are going to take Jonathan Swift's *Gulliver's Travels* from archive.org to use as our text throughout today's workshop. Although we will utilize pre-made corpora to explore more robust options, it is useful to know how to clean your own text files you may have, create your own corpus, declare it properly, and run analyses, so we will start from scratch."
   ]
  },
  {
   "cell_type": "markdown",
   "metadata": {},
   "source": [
    "## String manipulation and cleaning"
   ]
  },
  {
   "cell_type": "markdown",
   "metadata": {},
   "source": [
    "Use Selenium to open a browser so that the JavaScript loads"
   ]
  },
  {
   "cell_type": "code",
   "execution_count": 1,
   "metadata": {
    "collapsed": false
   },
   "outputs": [],
   "source": [
    "# use selenium to open a browser instance so javascript loads\n",
    "from selenium import webdriver\n",
    "url = \"http://www.yahoo.com\"\n",
    "browser = webdriver.Firefox()\n",
    "browser.get(url)\n",
    "html_source = browser.page_source\n",
    "# print(html_source)"
   ]
  },
  {
   "cell_type": "markdown",
   "metadata": {},
   "source": [
    "Create and trim a beautiful soup object"
   ]
  },
  {
   "cell_type": "code",
   "execution_count": 2,
   "metadata": {
    "collapsed": true
   },
   "outputs": [],
   "source": [
    "# define a bs  - link reuse function - first version only look under <a >\n",
    "def extracthttplinks(bpage):\n",
    "    hlinks=[]\n",
    "    for link in bspage.find_all('a'):\n",
    "        if str(link.get('href')).startswith('http'):\n",
    "            hlinks.append(link.get('href'))\n",
    "    return hlinks        \n",
    "\n",
    "#better way of doing this as we basically need all the 'link' tags\n",
    "def extracthttplinksV2(bpage):\n",
    "    hlinks=[]\n",
    "    for link in bspage.find_all('link'):\n",
    "            hlinks.append(link.get('href'))\n",
    "    return hlinks  "
   ]
  },
  {
   "cell_type": "code",
   "execution_count": 3,
   "metadata": {
    "collapsed": false,
    "scrolled": true
   },
   "outputs": [
    {
     "name": "stdout",
     "output_type": "stream",
     "text": [
      "['https://www.yahoo.com/', 'https://mail.yahoo.com/', 'https://www.flickr.com/', 'https://www.tumblr.com/', 'https://answers.yahoo.com/', 'https://groups.yahoo.com/', 'https://mobile.yahoo.com/', 'https://everything.yahoo.com/', 'https://www.yahoo.com/politics/', 'https://www.yahoo.com/celebrity/', 'https://www.yahoo.com/movies/', 'https://www.yahoo.com/music/', 'https://www.yahoo.com/tv/', 'https://www.yahoo.com/style/', 'https://www.yahoo.com/beauty/', 'https://www.yahoo.com/tech/', 'https://shopping.yahoo.com/', 'https://www.yahoo.com/autos/', 'https://www.yahoo.com/', 'https://login.yahoo.com/config/login?.src=fpctx&.intl=us&.lang=en-US&.done=https%3A%2F%2Fwww.yahoo.com', 'https://mail.yahoo.com/', 'https://login.yahoo.com/config/login?.src=fpctx&.intl=us&.lang=en-US&.done=https%3A%2F%2Fwww.yahoo.com', 'https://mail.yahoo.com/', 'https://news.yahoo.com/', 'https://sports.yahoo.com/', 'https://finance.yahoo.com/', 'https://www.yahoo.com/autos/', 'https://www.yahoo.com/celebrity/', 'https://shopping.yahoo.com', 'https://www.yahoo.com/movies/', 'https://www.yahoo.com/politics/', 'https://www.yahoo.com/beauty/', 'https://www.yahoo.com/style/', 'https://www.yahoo.com/tech/', 'https://www.yahoo.com/tv/', 'https://everything.yahoo.com/', 'https://www.yahoo.com/style/', 'https://www.yahoo.com/tech/', 'https://www.yahoo.com/tv/', 'https://everything.yahoo.com/', 'http://sports.yahoo.com/news/sources--kings-to-interview-patrick-ewing-for-head-coaching-job-023700080-nba.html', 'https://www.yahoo.com/movies/the-jungle-book-tops-keanu-and-mothers-day-161657125.html', 'https://www.yahoo.com/news/former-circus-lions-begin-journey-171036273/photo-p-one-33-lions-enjoys-photo-111036941.html', 'https://www.yahoo.com/news/trump-backers-yell-foul-over-loss-arizona-gop-015835691--politics.html', 'http://finance.yahoo.com/news/you-could-live-your-life-only-using-berkshire-hathaway-owned-companies-products-warren-buffett-154248892.html', 'https://www.washingtonpost.com/news/post-nation/wp/2016/05/01/he-started-crying-like-a-little-baby-11-year-old-brags-about-shooting-suspected-home-invader/', 'https://www.washingtonpost.com/news/post-nation/wp/2016/05/01/he-started-crying-like-a-little-baby-11-year-old-brags-about-shooting-suspected-home-invader/', 'https://www.washingtonpost.com/news/post-nation/wp/2016/05/01/he-started-crying-like-a-little-baby-11-year-old-brags-about-shooting-suspected-home-invader/', 'http://www.miamiherald.com/news/nation-world/national/article75006017.html', 'http://www.ibtimes.co.uk/he-started-crying-like-little-baby-says-11-year-old-alabama-boy-after-shooting-home-intruder-1557722?utm_source=yahoo&utm_medium=referral&utm_campaign=rss&utm_content=/rss/yahoous/news', 'https://beap.gemini.yahoo.com/mbclk?bv=1.0.0&es=.PXvleYGIS.hyWQOCGGzASyl4GkrlcwcbLPovIyO_FJr_IuTu5azJ2ZbNx3Ga4fRpScqGw90pZQ8M1QsH3we20kcy7BYw9lzRII9gzNlDmIPJvNZV2AOGINj04496dhcUMa7f_1YBKb1_G703bg4z3dJZtyxClPby_BnL9hHZa6C1VMl5BvPOiq.wbrpWVFTi9V0a.HEOxuAnnj8Py2q8PR_KRUZeVV_9pnBgNFE47wnrSCeTZ6JC1s4H86qfOX0QrZnmv7yLDz1sFuojOuX7sS2Ng5WfJEFRXkobiRai6MxSFU2D._spinQyNeLV3_1ECFN9o7Uu4jvL1ILMHvC02n_hhw4yYdmILjOYWSc4BtVrDRiBowhLz.0kAiHUenT8EGkb0Bea2XQDH5h6cQHzjX_zRHmp2L9VdiyBq4rYPW0jU.8kZ_18ZDa_Khp4v928Ng1eY6XzwQAQMblSKgWWMHGESYfncUUHryPvx1tbvnb%26lp=http%3A%2F%2Fagorafinancial.cake.aclz.net%2F%3Fsc%3D408%26c%3D171%26s1%3D', 'http://help.yahoo.com/kb/index?page=content&y=PROD_FRONT&locale=en_US&id=SLN14553', 'https://info.yahoo.com/privacy/us/yahoo/relevantads.html', 'https://beap.gemini.yahoo.com/mbclk?bv=1.0.0&es=.PXvleYGIS.hyWQOCGGzASyl4GkrlcwcbLPovIyO_FJr_IuTu5azJ2ZbNx3Ga4fRpScqGw90pZQ8M1QsH3we20kcy7BYw9lzRII9gzNlDmIPJvNZV2AOGINj04496dhcUMa7f_1YBKb1_G703bg4z3dJZtyxClPby_BnL9hHZa6C1VMl5BvPOiq.wbrpWVFTi9V0a.HEOxuAnnj8Py2q8PR_KRUZeVV_9pnBgNFE47wnrSCeTZ6JC1s4H86qfOX0QrZnmv7yLDz1sFuojOuX7sS2Ng5WfJEFRXkobiRai6MxSFU2D._spinQyNeLV3_1ECFN9o7Uu4jvL1ILMHvC02n_hhw4yYdmILjOYWSc4BtVrDRiBowhLz.0kAiHUenT8EGkb0Bea2XQDH5h6cQHzjX_zRHmp2L9VdiyBq4rYPW0jU.8kZ_18ZDa_Khp4v928Ng1eY6XzwQAQMblSKgWWMHGESYfncUUHryPvx1tbvnb%26lp=http%3A%2F%2Fagorafinancial.cake.aclz.net%2F%3Fsc%3D408%26c%3D171%26s1%3D', 'https://beap.gemini.yahoo.com/mbclk?bv=1.0.0&es=.PXvleYGIS.hyWQOCGGzASyl4GkrlcwcbLPovIyO_FJr_IuTu5azJ2ZbNx3Ga4fRpScqGw90pZQ8M1QsH3we20kcy7BYw9lzRII9gzNlDmIPJvNZV2AOGINj04496dhcUMa7f_1YBKb1_G703bg4z3dJZtyxClPby_BnL9hHZa6C1VMl5BvPOiq.wbrpWVFTi9V0a.HEOxuAnnj8Py2q8PR_KRUZeVV_9pnBgNFE47wnrSCeTZ6JC1s4H86qfOX0QrZnmv7yLDz1sFuojOuX7sS2Ng5WfJEFRXkobiRai6MxSFU2D._spinQyNeLV3_1ECFN9o7Uu4jvL1ILMHvC02n_hhw4yYdmILjOYWSc4BtVrDRiBowhLz.0kAiHUenT8EGkb0Bea2XQDH5h6cQHzjX_zRHmp2L9VdiyBq4rYPW0jU.8kZ_18ZDa_Khp4v928Ng1eY6XzwQAQMblSKgWWMHGESYfncUUHryPvx1tbvnb%26lp=http%3A%2F%2Fagorafinancial.cake.aclz.net%2F%3Fsc%3D408%26c%3D171%26s1%3D', 'https://www.yahoo.com/music/meme-made-shaquille-o-neal-172200872.html', 'https://www.yahoo.com/music/meme-made-shaquille-o-neal-172200872.html', 'https://www.yahoo.com/music/meme-made-shaquille-o-neal-172200872.html', 'http://www.si.com/extra-mustard/2016/05/01/shaq-drake-kobe-bryant-meme-nba-tnt', 'http://www.sbnation.com/lookit/2016/5/1/11548274/a-drake-meme-made-shaq-so-mad-he-walked-off-the-set-video', 'http://www.chicagotribune.com/news/ct-white-house-correspondents-dinner-scuffle-20160501-story.html', 'http://www.chicagotribune.com/news/ct-white-house-correspondents-dinner-scuffle-20160501-story.html', 'http://www.chicagotribune.com/news/ct-white-house-correspondents-dinner-scuffle-20160501-story.html', 'http://www.miamiherald.com/news/nation-world/national/article75000522.html', 'https://www.yahoo.com/movies/fox-news-huffington-post-reporters-break-fight-white-231416862.html', 'https://www.yahoo.com/news/protesters-storm-leave-green-zone-183551169.html', 'https://www.yahoo.com/news/protesters-storm-leave-green-zone-183551169.html', 'https://www.yahoo.com/news/protesters-storm-leave-green-zone-183551169.html', 'http://www.ibtimes.co.uk/iraqi-pm-orders-arrest-shiite-protesters-occupying-tahrir-square-after-storming-parliament-1557672?utm_source=yahoo&utm_medium=referral&utm_campaign=rss&utm_content=/rss/yahoous/news', 'http://www.huffingtonpost.com/entry/iraq-protests-obama-administration-plans-in-doubt_us_5726233ce4b01a5ebde5eab6?ncid=txtlnkusaolp00000592', 'http://www.foxnews.com/opinion/2016/05/01/spark-life-science-and-bible-meet-again.html', 'http://www.foxnews.com/opinion/2016/05/01/spark-life-science-and-bible-meet-again.html', 'https://beap.gemini.yahoo.com/mbclk?bv=1.0.0&es=qj_KoUAGIS.V2yY.ZNa8zkUCg9fhPq5Ilk2anOrzgmyqXT2UoL2dmULxU7JERYycl6arCkFWUHRuixfdklQAP7maMcH9xAifX_MlfU.vnyQn2zz1Kl6zZYtnhp52Qso7gnG_n7zV_GNbNPxjTO6q.xEdAexkxXzHl.T3Lje0C.5vMwwu2pBrBgzwPh3xXG.GcGyqPmpMz0t5Z1K3q6K_pVraOwKHIF7wdHHWCM7eS9RGKs1JbEIUQ5oyRABCjN5SOUn_Thia8T6WEswrI6JeeYZFu0RyNZlXf3lORr2LOqBV3hDPKIKuaO8IvDnQ7KVqmrF6dvBhl24AjgNDwar7e0rent.4ZCAqIXyesS1nmHcBNLtEYTaKMtydJhmrN4t9Ja14CmeDoecanmL_h3t1VEcgCRPfuTbeTW4v3Lsntq2.FtQOG_TNv16pQev8EQZfF6jCqbgqfoAtIjpRLb_Ton8.b9Ow2ErNyxt_ikniBgZ8Ao_5CHiQosFpMIk-%26lp=http%3A%2F%2Fwww.smarterweblife.com%2F1203%2F%3Fhash%3D56c5f79ea2968%26sid1%3D', 'http://help.yahoo.com/kb/index?page=content&y=PROD_FRONT&locale=en_US&id=SLN14553', 'https://info.yahoo.com/privacy/us/yahoo/relevantads.html', 'https://beap.gemini.yahoo.com/mbclk?bv=1.0.0&es=qj_KoUAGIS.V2yY.ZNa8zkUCg9fhPq5Ilk2anOrzgmyqXT2UoL2dmULxU7JERYycl6arCkFWUHRuixfdklQAP7maMcH9xAifX_MlfU.vnyQn2zz1Kl6zZYtnhp52Qso7gnG_n7zV_GNbNPxjTO6q.xEdAexkxXzHl.T3Lje0C.5vMwwu2pBrBgzwPh3xXG.GcGyqPmpMz0t5Z1K3q6K_pVraOwKHIF7wdHHWCM7eS9RGKs1JbEIUQ5oyRABCjN5SOUn_Thia8T6WEswrI6JeeYZFu0RyNZlXf3lORr2LOqBV3hDPKIKuaO8IvDnQ7KVqmrF6dvBhl24AjgNDwar7e0rent.4ZCAqIXyesS1nmHcBNLtEYTaKMtydJhmrN4t9Ja14CmeDoecanmL_h3t1VEcgCRPfuTbeTW4v3Lsntq2.FtQOG_TNv16pQev8EQZfF6jCqbgqfoAtIjpRLb_Ton8.b9Ow2ErNyxt_ikniBgZ8Ao_5CHiQosFpMIk-%26lp=http%3A%2F%2Fwww.smarterweblife.com%2F1203%2F%3Fhash%3D56c5f79ea2968%26sid1%3D', 'https://beap.gemini.yahoo.com/mbclk?bv=1.0.0&es=qj_KoUAGIS.V2yY.ZNa8zkUCg9fhPq5Ilk2anOrzgmyqXT2UoL2dmULxU7JERYycl6arCkFWUHRuixfdklQAP7maMcH9xAifX_MlfU.vnyQn2zz1Kl6zZYtnhp52Qso7gnG_n7zV_GNbNPxjTO6q.xEdAexkxXzHl.T3Lje0C.5vMwwu2pBrBgzwPh3xXG.GcGyqPmpMz0t5Z1K3q6K_pVraOwKHIF7wdHHWCM7eS9RGKs1JbEIUQ5oyRABCjN5SOUn_Thia8T6WEswrI6JeeYZFu0RyNZlXf3lORr2LOqBV3hDPKIKuaO8IvDnQ7KVqmrF6dvBhl24AjgNDwar7e0rent.4ZCAqIXyesS1nmHcBNLtEYTaKMtydJhmrN4t9Ja14CmeDoecanmL_h3t1VEcgCRPfuTbeTW4v3Lsntq2.FtQOG_TNv16pQev8EQZfF6jCqbgqfoAtIjpRLb_Ton8.b9Ow2ErNyxt_ikniBgZ8Ao_5CHiQosFpMIk-%26lp=http%3A%2F%2Fwww.smarterweblife.com%2F1203%2F%3Fhash%3D56c5f79ea2968%26sid1%3D', 'http://abcnews.go.com/International/wireStory/puerto-rico-governor-warns-default-crisis-worsens-38802151', 'https://www.washingtonpost.com/news/post-nation/wp/2016/05/01/six-children-orphaned-after-both-parents-die-24-hours-apart/', 'https://www.washingtonpost.com/news/post-nation/wp/2016/05/01/six-children-orphaned-after-both-parents-die-24-hours-apart/', 'https://gma.yahoo.com/ariz-school-yanks-poster-students-offensive-004004677--abc-news-topstories.html', 'https://gma.yahoo.com/ariz-school-yanks-poster-students-offensive-004004677--abc-news-topstories.html', 'http://soccer.nbcsports.com/2016/05/01/video-louis-van-gaal-has-animated-post-match-reaction-to-fellaini-incident-vs-leicester-city/?ocid=Yahoo&partner=ya5nbcs', 'http://soccer.nbcsports.com/2016/05/01/video-louis-van-gaal-has-animated-post-match-reaction-to-fellaini-incident-vs-leicester-city/?ocid=Yahoo&partner=ya5nbcs', 'https://search.yahoo.com/search?cs=bz&p=Atlanta+Braves&fr=fp-tts-562&fr2=p:fp,m:tn,ct:all,pg:1,stl:crsl,b:562', 'https://search.yahoo.com/search?cs=bz&p=The+Jungle+Book&fr=fp-tts-562&fr2=p:fp,m:tn,ct:all,pg:1,stl:crsl,b:562', 'https://search.yahoo.com/search?cs=bz&p=Kate+Middleton&fr=fp-tts-562&fr2=p:fp,m:tn,ct:all,pg:1,stl:crsl,b:562', 'https://search.yahoo.com/search?cs=bz&p=Steph+Curry&fr=fp-tts-562&fr2=p:fp,m:tn,ct:all,pg:1,stl:crsl,b:562', 'https://search.yahoo.com/search?cs=bz&p=Audi+Q7&fr=fp-tts-562&fr2=p:fp,m:tn,ct:all,pg:1,stl:crsl,b:562', 'https://search.yahoo.com/search?cs=bz&p=Allergy+symptoms&fr=fp-tts-562&fr2=p:fp,m:tn,ct:all,pg:1,stl:crsl,b:562', 'https://search.yahoo.com/search?cs=bz&p=Ariana+Grande&fr=fp-tts-562&fr2=p:fp,m:tn,ct:all,pg:1,stl:crsl,b:562', 'https://search.yahoo.com/search?cs=bz&p=Ted+Cruz&fr=fp-tts-562&fr2=p:fp,m:tn,ct:all,pg:1,stl:crsl,b:562', 'https://search.yahoo.com/search?cs=bz&p=Bathing+suits&fr=fp-tts-562&fr2=p:fp,m:tn,ct:all,pg:1,stl:crsl,b:562', 'https://search.yahoo.com/search?cs=bz&p=Michael+Strahan&fr=fp-tts-562&fr2=p:fp,m:tn,ct:all,pg:1,stl:crsl,b:562', 'https://search.yahoo.com/search?p=Personalized+wine+glasses&fr=fp-tts-thg-562&fr2=p:fp,m:tn,ct:gift,pg:1,stl:crsl,b:562', 'https://search.yahoo.com/search?p=Mother%27s+Day+cards&fr=fp-tts-thg-562&fr2=p:fp,m:tn,ct:gift,pg:1,stl:crsl,b:562', 'https://search.yahoo.com/search?p=Outdoor+planters&fr=fp-tts-thg-562&fr2=p:fp,m:tn,ct:gift,pg:1,stl:crsl,b:562', 'https://search.yahoo.com/search?p=Women%27s+hats&fr=fp-tts-thg-562&fr2=p:fp,m:tn,ct:gift,pg:1,stl:crsl,b:562', 'https://search.yahoo.com/search?p=Designer+jeans&fr=fp-tts-thg-562&fr2=p:fp,m:tn,ct:gift,pg:1,stl:crsl,b:562', 'https://search.yahoo.com/search?p=BECCA+cosmetics&fr=fp-tts-thg-562&fr2=p:fp,m:tn,ct:gift,pg:1,stl:crsl,b:562', 'https://search.yahoo.com/search?p=Aromatherapy+diffuser&fr=fp-tts-thg-562&fr2=p:fp,m:tn,ct:gift,pg:1,stl:crsl,b:562', 'https://search.yahoo.com/search?p=Wrap+dresses&fr=fp-tts-thg-562&fr2=p:fp,m:tn,ct:gift,pg:1,stl:crsl,b:562', 'https://search.yahoo.com/search?p=Candy+bouquets&fr=fp-tts-thg-562&fr2=p:fp,m:tn,ct:gift,pg:1,stl:crsl,b:562', 'https://search.yahoo.com/search?p=Custom+aprons&fr=fp-tts-thg-562&fr2=p:fp,m:tn,ct:gift,pg:1,stl:crsl,b:562', 'https://weather.yahoo.com', 'https://weather.yahoo.com/us/california/alameda-12587670/', 'https://weather.yahoo.com/us/california/alameda-12587670/', 'https://weather.yahoo.com/us/california/alameda-12587670/', 'https://weather.yahoo.com/us/california/alameda-12587670/', 'http://sports.yahoo.com/news/why-a-spurs-series-rout-could-lead-kevin-durant-to-leave-thunder-155323397.html', 'https://www.yahoo.com/movies/captain-america-civil-war-opens-to-huge-2022m-160744483.html', 'https://bs.serving-sys.com/BurstingPipe/adServer.bs?cn=tf&c=20&mc=click&pli=16563095&PluID=0&ord=$%7BCACHEBUSTER%7D', 'http://info.yahoo.com/legal/us/yahoo/utos/terms/', 'http://info.yahoo.com/privacy/us/yahoo/', 'https://advertising.yahoo.com/', 'http://info.yahoo.com/privacy/us/yahoo/relevantads.html', 'http://careers.yahoo.com/us', 'http://help.yahoo.com/l/us/yahoo/helpcentral/', 'https://yahoo.uservoice.com/forums/341361-yahoo-home']\n",
      "119\n",
      "19\n"
     ]
    }
   ],
   "source": [
    "from bs4 import BeautifulSoup\n",
    "# clean and extract only raw text \n",
    "bspage = BeautifulSoup(html_source, \"html.parser\") #or \"html.parser\"\n",
    "\n",
    "# get list of http urls to study \n",
    "httplinks = []\n",
    "for link in bspage.find_all('a'):\n",
    "    if str(link.get('href')).startswith('http'):\n",
    "        httplinks.append(link.get('href'))\n",
    "        \n",
    "print(httplinks)\n",
    "\n",
    "\n",
    "\n",
    "print(len(extracthttplinks(bspage)))\n",
    "print(len(extracthttplinksV2(bspage)))\n",
    "\n"
   ]
  },
  {
   "cell_type": "code",
   "execution_count": null,
   "metadata": {
    "collapsed": true
   },
   "outputs": [],
   "source": []
  },
  {
   "cell_type": "code",
   "execution_count": 4,
   "metadata": {
    "collapsed": false
   },
   "outputs": [
    {
     "name": "stdout",
     "output_type": "stream",
     "text": [
      "['//s.yimg.com', '//s.yimg.com', '//y.analytics.yahoo.com', '//y.analytics.yahoo.com', '//geo.query.yahoo.com', '//geo.query.yahoo.com', '//csc.beap.bc.yahoo.com', '//csc.beap.bc.yahoo.com', '//geo.yahoo.com', '//geo.yahoo.com', '//comet.yahoo.com', '//comet.yahoo.com', '/sy/os/mit/media/p/common/images/favicon_new-7483e38.svg', '/sy/rz/l/favicon.ico', 'https://www.yahoo.com/', '/sy/os/fp/atomic-css.dec16d7b.css', '/sy/zz/combo?nn/lib/metro/g/myy/advance_base_rc4_0.0.38.css&nn/lib/metro/g/myy/font_rc4_spdy_0.0.37.css&nn/lib/metro/g/myy/yahoo20_grid_0.0.104.css&nn/lib/metro/g/myy/video_styles_0.0.23.css&nn/lib/metro/g/myy/advance_color_0.0.7.css&nn/lib/metro/g/theme/viewer_modal_center_0.0.11.css&nn/lib/metro/g/theme/yglyphs-legacy_0.0.5.css&nn/lib/metro/g/sda/fp_sda_0.0.4.css&nn/lib/metro/g/sda/sda_advance_0.0.8.css&nn/lib/metro/g/fpfooter/advance_0.0.4.css&/os/stencil/3.1.0/styles-ltr.css&/os/yc/css/bundle.c60a6d54.css', 'https://search.yahoo.com/opensearch.xml', 'https://s.yimg.com/zz/combo?yui:3.18.0/widget-base/assets/skins/sam/widget-base.css&yui:3.18.0/autocomplete-list/assets/skins/sam/autocomplete-list.css']\n"
     ]
    }
   ],
   "source": [
    "#bspage.find_all('link')\n",
    "print(extracthttplinksV2(bspage))"
   ]
  },
  {
   "cell_type": "code",
   "execution_count": 5,
   "metadata": {
    "collapsed": false
   },
   "outputs": [
    {
     "name": "stdout",
     "output_type": "stream",
     "text": [
      "['//s.yimg.com', '//s.yimg.com', '//y.analytics.yahoo.com', '//y.analytics.yahoo.com', '//geo.query.yahoo.com', '//geo.query.yahoo.com', '//csc.beap.bc.yahoo.com', '//csc.beap.bc.yahoo.com', '//geo.yahoo.com', '//geo.yahoo.com', '//comet.yahoo.com', '//comet.yahoo.com', '/sy/os/mit/media/p/common/images/favicon_new-7483e38.svg', '/sy/rz/l/favicon.ico', 'https://www.yahoo.com/', '/sy/os/fp/atomic-css.dec16d7b.css', '/sy/zz/combo?nn/lib/metro/g/myy/advance_base_rc4_0.0.38.css&nn/lib/metro/g/myy/font_rc4_spdy_0.0.37.css&nn/lib/metro/g/myy/yahoo20_grid_0.0.104.css&nn/lib/metro/g/myy/video_styles_0.0.23.css&nn/lib/metro/g/myy/advance_color_0.0.7.css&nn/lib/metro/g/theme/viewer_modal_center_0.0.11.css&nn/lib/metro/g/theme/yglyphs-legacy_0.0.5.css&nn/lib/metro/g/sda/fp_sda_0.0.4.css&nn/lib/metro/g/sda/sda_advance_0.0.8.css&nn/lib/metro/g/fpfooter/advance_0.0.4.css&/os/stencil/3.1.0/styles-ltr.css&/os/yc/css/bundle.c60a6d54.css', 'https://search.yahoo.com/opensearch.xml', 'https://s.yimg.com/zz/combo?yui:3.18.0/widget-base/assets/skins/sam/widget-base.css&yui:3.18.0/autocomplete-list/assets/skins/sam/autocomplete-list.css']\n"
     ]
    }
   ],
   "source": [
    "print(extracthttplinksV2(bspage))"
   ]
  },
  {
   "cell_type": "markdown",
   "metadata": {},
   "source": [
    "Grab a list of ad-serving networks to cross-check above httplinks list"
   ]
  },
  {
   "cell_type": "code",
   "execution_count": 6,
   "metadata": {
    "collapsed": false
   },
   "outputs": [
    {
     "name": "stdout",
     "output_type": "stream",
     "text": [
      "['101com.com', '101order.com', '123found.com', '180hits.de', '180searchassistant.com', '1x1rank.com', '207.net', '247media.com', '24log.com', '24log.de', '24pm-affiliation.com', '2mdn.net', '2o7.net', '360yield.com', '4affiliate.net', '4d5.net', '50websads.com', '518ad.com', '51yes.com', '600z.com', '777partner.com', '777seo.com', '77tracking.com', '7bpeople.com', '7search.com', '99count.com', 'a-ads.com', 'a-counter.kiev.ua', 'a.0day.kiev.ua', 'a.aproductmsg.com', 'a.collective-media.net', 'a.consumer.net', 'a.mktw.net', 'a.sakh.com', 'a.ucoz.net', 'a.ucoz.ru', 'a.xanga.com', 'a32.g.a.yimg.com', 'aaddzz.com', 'abacho.net', 'abc-ads.com', 'absoluteclickscom.com', 'abz.com', 'ac.rnm.ca', 'accounts.pkr.com.invalid', 'acsseo.com', 'actionsplash.com', 'actualdeals.com', 'acuityads.com', 'ad-balancer.at', 'ad-balancer.net', 'ad-center.com', 'ad-images.suntimes.com', 'ad-pay.de', 'ad-rotator.com', 'ad-server.gulasidorna.se', 'ad-serverparc.nl', 'ad-souk.com', 'ad-space.net', 'ad-tech.com', 'ad-up.com', 'ad.100.tbn.ru', 'ad.71i.de', 'ad.980x.com', 'ad.a8.net', 'ad.abcnews.com', 'ad.abctv.com', 'ad.about.com', 'ad.aboutit.de', 'ad.aboutwebservices.com', 'ad.abum.com', 'ad.afy11.net', 'ad.allstar.cz', 'ad.altervista.org', 'ad.amgdgt.com', 'ad.anuntis.com', 'ad.auditude.com', 'ad.bizo.com', 'ad.bnmla.com', 'ad.bondage.com', 'ad.caradisiac.com', 'ad.centrum.cz', 'ad.cgi.cz', 'ad.choiceradio.com', 'ad.clix.pt', 'ad.cooks.com', 'ad.crwdcntrl.net', 'ad.digitallook.com', 'ad.directrev.com', 'ad.doctissimo.fr', 'ad.domainfactory.de', 'ad.e-kolay.net', 'ad.eurosport.com', 'ad.f1cd.ru', 'ad.flurry.com', 'ad.foxnetworks.com', 'ad.freecity.de', 'ad.gate24.ch', 'ad.globe7.com', 'ad.grafika.cz', 'ad.hbv.de', 'ad.hodomobile.com', 'ad.httpool.com', 'ad.hyena.cz', 'ad.iinfo.cz', 'ad.ilove.ch', 'ad.infoseek.com', 'ad.jamba.net', 'ad.jamster.co.uk', 'ad.jetsoftware.com', 'ad.keenspace.com', 'ad.leadbolt.net', 'ad.liveinternet.ru', 'ad.lupa.cz', 'ad.m5prod.net', 'ad.media-servers.net', 'ad.mediastorm.hu', 'ad.mgd.de', 'ad.musicmatch.com', 'ad.nachtagenten.de', 'ad.nozonedata.com', 'ad.nttnavi.co.jp', 'ad.nwt.cz', 'ad.onad.eu', 'ad.pandora.tv', 'ad.playground.ru', 'ad.preferances.com', 'ad.profiwin.de', 'ad.prv.pl', 'ad.rambler.ru', 'ad.reunion.com', 'ad.scanmedios.com', 'ad.sensismediasmart.com.au', 'ad.seznam.cz', 'ad.simgames.net', 'ad.slutload.com', 'ad.smartclip.net', 'ad.tbn.ru', 'ad.technoratimedia.com', 'ad.thewheelof.com', 'ad.top50.to', 'ad.turn.com', 'ad.tv2.no', 'ad.twitchguru.com', 'ad.usatoday.com', 'ad.virtual-nights.com', 'ad.watch.impress.co.jp', 'ad.wavu.hu', 'ad.way.cz', 'ad.weatherbug.com', 'ad.wsod.com', 'ad.wz.cz', 'ad.yadro.ru', 'ad.yourmedia.com', 'ad.zanox.com', 'ad0.bigmir.net', 'ad01.mediacorpsingapore.com', 'ad1.emediate.dk', 'ad1.emule-project.org', 'ad1.kde.cz', 'ad1.pamedia.com.au', 'ad2.iinfo.cz', 'ad2.ip.ro', 'ad2.linxcz.cz', 'ad2.lupa.cz', 'ad2flash.com', 'ad2games.com', 'ad3.iinfo.cz', 'ad3.pamedia.com.au', 'ad4game.com', 'adaction.de', 'adadvisor.net', 'adap.tv', 'adapt.tv', 'adbanner.ro', 'adbard.net', 'adblade.com', 'adblockanalytics.com', 'adboost.de.vu', 'adboost.net', 'adbooth.net', 'adbot.com', 'adbrite.com', 'adbroker.de', 'adbunker.com', 'adbutler.com', 'adbutler.de', 'adbuyer.com', 'adbuyer3.lycos.com', 'adcash.com', 'adcast.deviantart.com', 'adcell.de', 'adcenter.mdf.se', 'adcenter.net', 'adcentriconline.com', 'adcept.net', 'adclick.com', 'adclient.uimserv.net', 'adclient1.tucows.com', 'adcloud.net', 'adcomplete.com', 'adconion.com', 'adcontent.gamespy.com', 'adcycle.com', 'add.newmedia.cz', 'addealing.com', 'addesktop.com', 'addfreestats.com', 'addme.com', 'adecn.com', 'ademails.com', 'adengage.com', 'adexpose.com', 'adext.inkclub.com', 'adf.ly', 'adfactor.nl', 'adfarm.mediaplex.com', 'adflight.com', 'adforce.com', 'adform.com', 'adgardener.com', 'adgoto.com', 'adgridwork.com', 'adhese.be', 'adhese.com', 'adi.mainichi.co.jp', 'adimage.asiaone.com.sg', 'adimage.guardian.co.uk', 'adimages.been.com', 'adimages.carsoup.com', 'adimages.go.com', 'adimages.homestore.com', 'adimages.omroepzeeland.nl', 'adimages.sanomawsoy.fi', 'adimg.cnet.com', 'adimg.com.com', 'adimg.uimserv.net', 'adimg1.chosun.com', 'adimgs.sapo.pt', 'adimpact.com', 'adinjector.net', 'adinterax.com', 'adisfy.com', 'adition.com', 'adition.de', 'adition.net', 'adizio.com', 'adjix.com', 'adjug.com', 'adjuggler.com', 'adjuggler.yourdictionary.com', 'adjustnetwork.com', 'adk2.com', 'adk2ads.tictacti.com', 'adland.ru', 'adlantic.nl', 'adledge.com', 'adlegend.com', 'adlink.de', 'adlog.com.com', 'adloox.com', 'adlooxtracking.com', 'adlure.net', 'admagnet.net', 'admailtiser.com', 'adman.gr', 'adman.in.gr', 'adman.otenet.gr', 'admanagement.ch', 'admanager.btopenworld.com', 'admanager.carsoup.com', 'admarketplace.net', 'admarvel.com', 'admax.nexage.com', 'admedia.com', 'admedia.ro', 'admeld.com', 'admerize.be', 'admeta.com', 'admex.com', 'adminder.com', 'adminshop.com', 'admized.com', 'admob.com', 'admonitor.com', 'admotion.com.ar', 'admtpmp123.com', 'admtpmp124.com', 'adnet-media.net', 'adnet.asahi.com', 'adnet.biz', 'adnet.de', 'adnet.ru', 'adnet.worldreviewer.com', 'adnetinteractive.com', 'adnetwork.net', 'adnetworkperformance.com', 'adnews.maddog2000.de', 'adnotch.com', 'adnxs.com', 'adocean.pl', 'adonspot.com', 'adoperator.com', 'adorigin.com', 'adpepper.dk', 'adpepper.nl', 'adperium.com', 'adpia.vn', 'adplus.co.id', 'adplxmd.com', 'adprofile.net', 'adprojekt.pl', 'adq.nextag.com', 'adrazzi.com', 'adreactor.com', 'adremedy.com', 'adreporting.com', 'adres.internet.com', 'adrevolver.com', 'adriver.ru', 'adrolays.de', 'adrotate.de', 'adrotator.se', 'ads-click.com', 'ads.4tube.com', 'ads.5ci.lt', 'ads.abovetopsecret.com', 'ads.aceweb.net', 'ads.activestate.com', 'ads.adfox.ru', 'ads.administrator.de', 'ads.adshareware.net', 'ads.adultfriendfinder.com', 'ads.adultswim.com', 'ads.advance.net', 'ads.adverline.com', 'ads.affiliates.match.com', 'ads.ak.facebook.com.edgesuite.net', 'ads.allvatar.com', 'ads.alt.com', 'ads.alwayson-network.com', 'ads.amdmb.com', 'ads.amigos.com', 'ads.aol.co.uk', 'ads.aol.com', 'ads.apn.co.nz', 'ads.appsgeyser.com', 'ads.as4x.tmcs.net', 'ads.as4x.tmcs.ticketmaster.com', 'ads.asia1.com.sg', 'ads.asiafriendfinder.com', 'ads.ask.com', 'ads.aspalliance.com', 'ads.avazu.net', 'ads.batpmturner.com', 'ads.beenetworks.net', 'ads.belointeractive.com', 'ads.berlinonline.de', 'ads.betanews.com', 'ads.betfair.com', 'ads.betfair.com.au', 'ads.bigchurch.com', 'ads.bigfoot.com', 'ads.billiton.de', 'ads.bing.com', 'ads.bittorrent.com', 'ads.blog.com', 'ads.bloomberg.com', 'ads.bluelithium.com', 'ads.bluemountain.com', 'ads.bluesq.com', 'ads.bonniercorp.com', 'ads.boylesports.com', 'ads.brabys.com', 'ads.brain.pk', 'ads.brazzers.com', 'ads.bumq.com', 'ads.businessweek.com', 'ads.canalblog.com', 'ads.canoe.ca', 'ads.casinocity.com', 'ads.cbc.ca', 'ads.cc', 'ads.cc-dt.com', 'ads.centraliprom.com', 'ads.cgnetworks.com', 'ads.channel4.com', 'ads.cimedia.com', 'ads.clearchannel.com', 'ads.co.com', 'ads.com.com', 'ads.contactmusic.com', 'ads.contextweb.com', 'ads.crakmedia.com', 'ads.creative-serving.com', 'ads.creativematch.com', 'ads.cricbuzz.com', 'ads.cybersales.cz', 'ads.dada.it', 'ads.datinggold.com', 'ads.datingyes.com', 'ads.dazoot.ro', 'ads.deltha.hu', 'ads.dennisnet.co.uk', 'ads.desmoinesregister.com', 'ads.detelefoongids.nl', 'ads.deviantart.com', 'ads.digital-digest.com', 'ads.digitalmedianet.com', 'ads.digitalpoint.com', 'ads.directionsmag.com', 'ads.domeus.com', 'ads.eagletribune.com', 'ads.easy-forex.com', 'ads.eatinparis.com', 'ads.economist.com', 'ads.edbindex.dk', 'ads.egrana.com.br', 'ads.einmedia.com', 'ads.electrocelt.com', 'ads.elitetrader.com', 'ads.emirates.net.ae', 'ads.epltalk.com', 'ads.esmas.com', 'ads.eu.msn.com', 'ads.exactdrive.com', 'ads.expat-blog.biz', 'ads.expedia.com', 'ads.ezboard.com', 'ads.factorymedia.com', 'ads.fairfax.com.au', 'ads.faxo.com', 'ads.ferianc.com', 'ads.filmup.com', 'ads.financialcontent.com', 'ads.flooble.com', 'ads.fool.com', 'ads.footymad.net', 'ads.forbes.com', 'ads.forbes.net', 'ads.forium.de', 'ads.fortunecity.com', 'ads.fotosidan.se', 'ads.foxkidseurope.net', 'ads.foxnetworks.com', 'ads.foxnews.com', 'ads.freecity.de', 'ads.friendfinder.com', 'ads.ft.com', 'ads.futurenet.com', 'ads.gamecity.net', 'ads.gameforgeads.de', 'ads.gamershell.com', 'ads.gamespyid.com', 'ads.gamigo.de', 'ads.gaming-universe.de', 'ads.gawker.com', 'ads.geekswithblogs.net', 'ads.glispa.com', 'ads.globeandmail.com', 'ads.gmodules.com', 'ads.godlikeproductions.com', 'ads.goyk.com', 'ads.gplusmedia.com', 'ads.gradfinder.com', 'ads.groundspeak.com', 'ads.gsm-exchange.com', 'ads.gsmexchange.com', 'ads.guardian.co.uk', 'ads.guardianunlimited.co.uk', 'ads.guru3d.com', 'ads.hardwaresecrets.com', 'ads.harpers.org', 'ads.hbv.de', 'ads.hearstmags.com', 'ads.heartlight.org', 'ads.heias.com', 'ads.hideyourarms.com', 'ads.hollywood.com', 'ads.horsehero.com', 'ads.horyzon-media.com', 'ads.iafrica.com', 'ads.ibest.com.br', 'ads.ibryte.com', 'ads.icq.com', 'ads.ign.com', 'ads.img.co.za', 'ads.imgur.com', 'ads.indiatimes.com', 'ads.infi.net', 'ads.internic.co.il', 'ads.ipowerweb.com', 'ads.isoftmarketing.com', 'ads.itv.com', 'ads.iwon.com', 'ads.jewishfriendfinder.com', 'ads.jiwire.com', 'ads.jobsite.co.uk', 'ads.jpost.com', 'ads.jubii.dk', 'ads.justhungry.com', 'ads.kaktuz.net', 'ads.kelbymediagroup.com', 'ads.kinobox.cz', 'ads.kinxxx.com', 'ads.kompass.com', 'ads.krawall.de', 'ads.lesbianpersonals.com', 'ads.linuxfoundation.org', 'ads.linuxjournal.com', 'ads.linuxsecurity.com', 'ads.livenation.com', 'ads.mariuana.it', 'ads.massinfra.nl', 'ads.mcafee.com', 'ads.mediaodyssey.com', 'ads.mediaturf.net', 'ads.medienhaus.de', 'ads.mgnetwork.com', 'ads.mmania.com', 'ads.moceanads.com', 'ads.motor-forum.nl', 'ads.motormedia.nl', 'ads.msn.com', 'ads.multimania.lycos.fr', 'ads.nationalgeographic.com', 'ads.ncm.com', 'ads.netclusive.de', 'ads.netmechanic.com', 'ads.networksolutions.com', 'ads.newdream.net', 'ads.newgrounds.com', 'ads.newmedia.cz', 'ads.newsint.co.uk', 'ads.newsquest.co.uk', 'ads.ninemsn.com.au', 'ads.nj.com', 'ads.nola.com', 'ads.nordichardware.com', 'ads.nordichardware.se', 'ads.nwsource.com', 'ads.nyi.net', 'ads.nytimes.com', 'ads.nyx.cz', 'ads.nzcity.co.nz', 'ads.o2.pl', 'ads.oddschecker.com', 'ads.okcimg.com', 'ads.ole.com', 'ads.olivebrandresponse.com', 'ads.oneplace.com', 'ads.ookla.com', 'ads.optusnet.com.au', 'ads.outpersonals.com', 'ads.p161.net', 'ads.passion.com', 'ads.pennet.com', 'ads.penny-arcade.com', 'ads.pheedo.com', 'ads.phpclasses.org', 'ads.pickmeup-ltd.com', 'ads.pkr.com', 'ads.planet.nl', 'ads.pni.com', 'ads.pof.com', 'ads.powweb.com', 'ads.primissima.it', 'ads.printscr.com', 'ads.prisacom.com', 'ads.program3.com', 'ads.psd2html.com', 'ads.pushplay.com', 'ads.quoka.de', 'ads.rcs.it', 'ads.recoletos.es', 'ads.rediff.com', 'ads.redlightcenter.com', 'ads.redtube.com', 'ads.resoom.de', 'ads.returnpath.net', 'ads.rottentomatoes.com', 'ads.rpgdot.com', 'ads.s3.sitepoint.com', 'ads.satyamonline.com', 'ads.savannahnow.com', 'ads.saymedia.com', 'ads.scifi.com', 'ads.seniorfriendfinder.com', 'ads.sexinyourcity.com', 'ads.shizmoo.com', 'ads.shopstyle.com', 'ads.sift.co.uk', 'ads.silverdisc.co.uk', 'ads.slim.com', 'ads.smartclick.com', 'ads.soft32.com', 'ads.space.com', 'ads.spoonfeduk.com', 'ads.sptimes.com', 'ads.stackoverflow.com', 'ads.stationplay.com', 'ads.struq.com', 'ads.sun.com', 'ads.supplyframe.com', 'ads.t-online.de', 'ads.tahono.com', 'ads.techtv.com', 'ads.techweb.com', 'ads.telegraph.co.uk', 'ads.theglobeandmail.com', 'ads.themovienation.com', 'ads.thestar.com', 'ads.timeout.com', 'ads.tjwi.info', 'ads.tmcs.net', 'ads.totallyfreestuff.com', 'ads.townhall.com', 'ads.trinitymirror.co.uk', 'ads.tripod.com', 'ads.tripod.lycos.co.uk', 'ads.tripod.lycos.de', 'ads.tripod.lycos.es', 'ads.tripod.lycos.it', 'ads.tripod.lycos.nl', 'ads.tripod.spray.se', 'ads.tso.dennisnet.co.uk', 'ads.uknetguide.co.uk', 'ads.ultimate-guitar.com', 'ads.uncrate.com', 'ads.undertone.com', 'ads.usatoday.com', 'ads.v3.com', 'ads.verticalresponse.com', 'ads.vgchartz.com', 'ads.videosz.com', 'ads.virtual-nights.com', 'ads.virtualcountries.com', 'ads.vnumedia.com', 'ads.waps.cn', 'ads.wapx.cn', 'ads.weather.ca', 'ads.web.aol.com', 'ads.web.cs.com', 'ads.web.de', 'ads.webmasterpoint.org', 'ads.websiteservices.com', 'ads.whi.co.nz', 'ads.whoishostingthis.com', 'ads.wiezoekje.nl', 'ads.wikia.nocookie.net', 'ads.wineenthusiast.com', 'ads.wunderground.com', 'ads.wwe.biz', 'ads.xhamster.com', 'ads.xtra.co.nz', 'ads.y-0.net', 'ads.yimg.com', 'ads.yldmgrimg.net', 'ads.yourfreedvds.com', 'ads.youtube.com', 'ads.zdnet.com', 'ads.ztod.com', 'ads03.redtube.com', 'ads1.canoe.ca', 'ads1.mediacapital.pt', 'ads1.msn.com', 'ads1.rne.com', 'ads1.theglobeandmail.com', 'ads1.virtual-nights.com', 'ads10.speedbit.com', 'ads180.com', 'ads2.brazzers.com', 'ads2.clearchannel.com', 'ads2.gamecity.net', 'ads2.jubii.dk', 'ads2.net-communities.co.uk', 'ads2.oneplace.com', 'ads2.rne.com', 'ads2.virtual-nights.com', 'ads2.xnet.cz', 'ads2004.treiberupdate.de', 'ads3.gamecity.net', 'ads3.virtual-nights.com', 'ads4.clearchannel.com', 'ads4.gamecity.net', 'ads4.virtual-nights.com', 'ads4homes.com', 'ads5.canoe.ca', 'ads5.virtual-nights.com', 'ads6.gamecity.net', 'ads7.gamecity.net', 'ads8.com', 'adsatt.abc.starwave.com', 'Adsatt.ABCNews.starwave.com', 'adsatt.espn.go.com', 'adsatt.espn.starwave.com', 'Adsatt.go.starwave.com', 'adsby.bidtheatre.com', 'adscale.de', 'adscholar.com', 'adscience.nl', 'adscpm.com', 'adsdaq.com', 'adsdk.com', 'adsend.de', 'adserv.evo-x.de', 'adserv.gamezone.de', 'adserv.iafrica.com', 'adserv.qconline.com', 'adserv.quality-channel.de', 'adserve.ams.rhythmxchange.com', 'adserver-live.yoc.mobi', 'adserver.43plc.com', 'adserver.71i.de', 'adserver.adultfriendfinder.com', 'adserver.aidameter.com', 'adserver.aol.fr', 'adserver.barrapunto.com', 'adserver.beggarspromo.com', 'adserver.betandwin.de', 'adserver.bing.com', 'adserver.bizhat.com', 'adserver.break-even.it', 'adserver.cams.com', 'adserver.clashmusic.com', 'adserver.com', 'adserver.digitoday.com', 'adserver.dotcommedia.de', 'adserver.finditquick.com', 'adserver.flossiemediagroup.com', 'adserver.freecity.de', 'adserver.freenet.de', 'adserver.friendfinder.com', 'adserver.hardsextube.com', 'adserver.hardwareanalysis.com', 'adserver.html.it', 'adserver.irishwebmasterforum.com', 'adserver.janes.com', 'adserver.kyoceramita-europe.com', 'adserver.libero.it', 'adserver.news.com.au', 'adserver.ngz-network.de', 'adserver.nydailynews.com', 'adserver.o2.pl', 'adserver.oddschecker.com', 'adserver.omroepzeeland.nl', 'adserver.pl', 'adserver.portalofevil.com', 'adserver.portugalmail.net', 'adserver.portugalmail.pt', 'adserver.quizdingo.com', 'adserver.realhomesex.net', 'adserver.sanomawsoy.fi', 'adserver.sciflicks.com', 'adserver.sharewareonline.com', 'adserver.spankaway.com', 'adserver.startnow.com', 'adserver.theonering.net', 'adserver.twitpic.com', 'adserver.viagogo.com', 'adserver.virginmedia.com', 'adserver.yahoo.com', 'adserver01.de', 'adserver1-images.backbeatmedia.com', 'adserver1.backbeatmedia.com', 'adserver1.mindshare.de', 'adserver1.mokono.com', 'adserver1.ogilvy-interactive.de', 'adserver2.mindshare.de', 'adserver2.popdata.de', 'adserverplus.com', 'adserversolutions.com', 'adservinginternational.com', 'adsfac.eu', 'adsfac.net', 'adsfac.us', 'adshost1.com', 'adside.com', 'adsk2.co', 'adskape.ru', 'adsklick.de', 'adsmarket.com', 'adsmart.co.uk', 'adsmart.com', 'adsmart.net', 'adsmogo.com', 'adsnative.com', 'adsoftware.com', 'adsoldier.com', 'adsonar.com', 'adspace.ro', 'adspeed.net', 'adspirit.de', 'adsponse.de', 'adsremote.scrippsnetworks.com', 'adsrevenue.net', 'adsrv.deviantart.com', 'adsrv.eacdn.com', 'adsrv.iol.co.za', 'adsrvr.org', 'adsstat.com', 'adstat.4u.pl', 'adstest.weather.com', 'adsupply.com', 'adsupplyads.com', 'adswitcher.com', 'adsymptotic.com', 'adsynergy.com', 'adsys.townnews.com', 'adsystem.simplemachines.org', 'adtech.de', 'adtechus.com', 'adtegrity.net', 'adthis.com', 'adtiger.de', 'adtoll.com', 'adtology.com', 'adtoma.com', 'adtrace.org', 'adtrade.net', 'adtrading.de', 'adtrak.net', 'adtriplex.com', 'adultadvertising.com', 'adv-adserver.com', 'adv-banner.libero.it', 'adv.cooperhosting.net', 'adv.freeonline.it', 'adv.hwupgrade.it', 'adv.livedoor.com', 'adv.webmd.com', 'adv.wp.pl', 'adv.yo.cz', 'advariant.com', 'adventory.com', 'advert.bayarea.com', 'advert.dyna.ultraweb.hu', 'adverticum.com', 'adverticum.net', 'adverticus.de', 'advertise.com', 'advertiseireland.com', 'advertisespace.com', 'advertising.com', 'advertising.guildlaunch.net', 'advertisingbanners.com', 'advertisingbox.com', 'advertmarket.com', 'advertmedia.de', 'advertpro.sitepoint.com', 'advertpro.ya.com', 'adverts.carltononline.com', 'advertserve.com', 'advertstream.com', 'advertwizard.com', 'advideo.uimserv.net', 'adview.ppro.de', 'advisormedia.cz', 'adviva.com', 'adviva.net', 'advnt.com', 'adwareremovergold.com', 'adwhirl.com', 'adwitserver.com', 'adworldnetwork.com', 'adworx.at', 'adworx.be', 'adworx.nl', 'adx.allstar.cz', 'adx.atnext.com', 'adx.gainesvillesun.com', 'adxpansion.com', 'adxpose.com', 'adxvalue.com', 'adyea.com', 'adzerk.net', 'adzerk.s3.amazonaws.com', 'adzones.com', 'af-ad.co.uk', 'affbuzzads.com', 'affili.net', 'affiliate.1800flowers.com', 'affiliate.7host.com', 'affiliate.doubleyourdating.com', 'affiliate.dtiserv.com', 'affiliate.gamestop.com', 'affiliate.mercola.com', 'affiliate.mogs.com', 'affiliate.offgamers.com', 'affiliate.travelnow.com', 'affiliate.viator.com', 'affiliatefuel.com', 'affiliatefuture.com', 'affiliates.allposters.com', 'affiliates.babylon.com', 'affiliates.devilfishpartners.com', 'affiliates.digitalriver.com', 'affiliates.globat.com', 'affiliates.ige.com', 'affiliates.internationaljock.com', 'affiliates.jlist.com', 'affiliates.streamray.com', 'affiliates.thinkhost.net', 'affiliates.thrixxx.com', 'affiliates.ultrahosting.com', 'affiliatetracking.com', 'affiliatetracking.net', 'affiliatewindow.com', 'affiliation-france.com', 'afftracking.justanswer.com', 'ah-ha.com', 'ahalogy.com', 'aidu-ads.de', 'aim4media.com', 'aistat.net', 'aktrack.pubmatic.com', 'alclick.com', 'alenty.com', 'alexa-sitestats.s3.amazonaws.com', 'all4spy.com', 'alladvantage.com', 'allosponsor.com', 'amazingcounters.com', 'amazon-adsystem.com', 'amung.us', 'an.tacoda.net', 'anahtars.com', 'analytics.adpost.org', 'analytics.google.com', 'analytics.live.com', 'analytics.yahoo.com', 'anm.intelli-direct.com', 'annonser.dagbladet.no', 'apex-ad.com', 'api.intensifier.de', 'apture.com', 'arc1.msn.com', 'arcadebanners.com', 'ard.xxxblackbook.com', 'are-ter.com', 'as.webmd.com', 'as1.advfn.com', 'as2.advfn.com', 'as5000.com', 'assets1.exgfnetwork.com', 'assoc-amazon.com', 'at-adserver.alltop.com', 'atdmt.com', 'athena-ads.wikia.com', 'atwola.com', 'auctionads.com', 'auctionads.net', 'audience2media.com', 'audit.median.hu', 'audit.webinform.hu', 'auto-bannertausch.de', 'autohits.dk', 'avenuea.com', 'avpa.javalobby.org', 'avres.net', 'avsads.com', 'awempire.com', 'awin1.com', 'aylarl.com', 'azfront.com', 'b-1st.com', 'b.aol.com', 'b.engadget.com', 'ba.afl.rakuten.co.jp', 'babs.tv2.dk', 'backbeatmedia.com', 'banik.redigy.cz', 'banner-exchange-24.de', 'banner.ad.nu', 'banner.alphacool.de', 'banner.ambercoastcasino.com', 'banner.blogranking.net', 'banner.buempliz-online.ch', 'banner.casino.net', 'banner.casinodelrio.com', 'banner.cotedazurpalace.com', 'banner.coza.com', 'banner.cz', 'banner.easyspace.com', 'banner.elisa.net', 'banner.eurogrand.com', 'banner.featuredusers.com', 'banner.getgo.de', 'banner.goldenpalace.com', 'banner.img.co.za', 'banner.inyourpocket.com', 'banner.jobsahead.com', 'banner.joylandcasino.com', 'banner.kiev.ua', 'banner.linux.se', 'banner.media-system.de', 'banner.mindshare.de', 'banner.nixnet.cz', 'banner.noblepoker.com', 'banner.northsky.com', 'banner.orb.net', 'banner.penguin.cz', 'banner.prestigecasino.com', 'banner.rbc.ru', 'banner.relcom.ru', 'banner.tanto.de', 'banner.titan-dsl.de', 'banner.vadian.net', 'banner.webmersion.com', 'banner.wirenode.com', 'bannerads.de', 'bannerboxes.com', 'bannercommunity.de', 'bannerconnect.com', 'bannerconnect.net', 'bannerexchange.cjb.net', 'bannerflow.com', 'bannergrabber.internet.gr', 'bannerhost.com', 'bannerimage.com', 'bannerlandia.com.ar', 'bannermall.com', 'bannermarkt.nl', 'bannerpower.com', 'banners.adultfriendfinder.com', 'banners.amigos.com', 'banners.apnuk.com', 'banners.asiafriendfinder.com', 'banners.audioholics.com', 'banners.babylon-x.com', 'banners.bol.com.br', 'banners.cams.com', 'banners.clubseventeen.com', 'banners.czi.cz', 'banners.dine.com', 'banners.direction-x.com', 'banners.directnic.com', 'banners.easydns.com', 'banners.ebay.com', 'banners.freett.com', 'banners.friendfinder.com', 'banners.getiton.com', 'banners.iq.pl', 'banners.isoftmarketing.com', 'banners.lifeserv.com', 'banners.linkbuddies.com', 'banners.passion.com', 'banners.resultonline.com', 'banners.sexsearch.com', 'banners.sys-con.com', 'banners.thomsonlocal.com', 'banners.videosz.com', 'banners.virtuagirlhd.com', 'banners.wunderground.com', 'bannerserver.com', 'bannersgomlm.com', 'bannershotlink.perfectgonzo.com', 'bannersng.yell.com', 'bannerspace.com', 'bannerswap.com', 'bannertesting.com', 'bannery.cz', 'bannieres.acces-contenu.com', 'bans.adserver.co.il', 'bans.bride.ru', 'barnesandnoble.bfast.com', 'baypops.com', 'bbelements.com', 'bbn.img.com.ua', 'begun.ru', 'belstat.com', 'belstat.nl', 'berp.com', 'best-pr.info', 'best-top.ro', 'bestsearch.net', 'bhclicks.com', 'bidclix.com', 'bidclix.net', 'bidtrk.com', 'bidvertiser.com', 'bigads.guj.de', 'bigbangmedia.com', 'bigclicks.com', 'billboard.cz', 'bitads.net', 'bitmedianetwork.com', 'bizad.nikkeibp.co.jp', 'bizrate.com', 'blast4traffic.com', 'blingbucks.com', 'blogads.com', 'blogcounter.de', 'blogherads.com', 'blogrush.com', 'blogtoplist.se', 'blogtopsites.com', 'blueadvertise.com', 'bluekai.com', 'bluelithium.com', 'bluewhaleweb.com', 'bm.annonce.cz', 'bn.bfast.com', 'boersego-ads.de', 'boldchat.com', 'boom.ro', 'boomads.com', 'boost-my-pr.de', 'box.anchorfree.net', 'bpath.com', 'braincash.com', 'brandreachsys.com', 'bravenet.com.invalid', 'bridgetrack.com', 'brightinfo.com', 'british-banners.com', 'bs.yandex.ru', 'budsinc.com', 'bullseye.backbeatmedia.com', 'buyhitscheap.com', 'buysellads.com', 'buzzonclick.com', 'bvalphaserver.com', 'bwp.download.com', 'c.bigmir.net', 'c.compete.com', 'c1.nowlinux.com', 'campaign.bharatmatrimony.com', 'caniamedia.com', 'carbonads.com', 'carbonads.net', 'casalemedia.com', 'casalmedia.com', 'cash4members.com', 'cash4popup.de', 'cashcrate.com', 'cashengines.com', 'cashfiesta.com', 'cashlayer.com', 'cashpartner.com', 'casinogames.com', 'casinopays.com', 'casinorewards.com', 'casinotraffic.com', 'casinotreasure.com', 'cbanners.virtuagirlhd.com', 'cben1.net', 'cbmall.com', 'cbx.net', 'cdn.freefacti.com', 'cecash.com', 'ceskydomov.alias.ngs.modry.cz', 'cetrk.com', 'cgicounter.puretec.de', 'ch.questionmarket.com', 'channelintelligence.com', 'chart.dk', 'chartbeat.com', 'chartbeat.net', 'checkm8.com', 'checkstat.nl', 'chestionar.ro', 'chitika.net', 'cibleclick.com', 'cityads.telus.net', 'cj.com', 'cjbmanagement.com', 'cjlog.com', 'claria.com', 'class-act-clicks.com', 'click.absoluteagency.com', 'click.fool.com', 'click.kmindex.ru', 'click2freemoney.com', 'click2paid.com', 'clickability.com', 'clickadz.com', 'clickagents.com', 'clickbank.com', 'clickbank.net', 'clickbooth.com', 'clickboothlnk.com', 'clickbrokers.com', 'clickcompare.co.uk', 'clickdensity.com', 'clickedyclick.com', 'clickhereforcellphones.com', 'clickhouse.com', 'clickhype.com', 'clicklink.jp', 'clickmedia.ro', 'clicks.equantum.com', 'clicks.mods.de', 'clickserve.cc-dt.com', 'clicksor.com', 'clicktag.de', 'clickthruserver.com', 'clickthrutraffic.com', 'clicktrace.info', 'clicktrack.ziyu.net', 'clicktracks.com', 'clicktrade.com', 'clickxchange.com', 'clickz.com', 'clickzxc.com', 'clicmanager.fr', 'clients.tbo.com', 'clixgalore.com', 'clkads.com', 'clkrev.com', 'cluster.adultworld.com', 'clustrmaps.com', 'cmpstar.com', 'cnomy.com', 'cnt.spbland.ru', 'cnt1.pocitadlo.cz', 'code-server.biz', 'colonize.com', 'comclick.com', 'commindo-media-ressourcen.de', 'commissionmonster.com', 'compactbanner.com', 'comprabanner.it', 'connextra.com', 'contaxe.de', 'content.acc-hd.de', 'content.ad', 'contentabc.com', 'contextweb.com', 'conversantmedia.com', 'conversionruler.com', 'cookies.cmpnet.com', 'coremetrics.com', 'count.rbc.ru', 'count.rin.ru', 'count.west263.com', 'counted.com', 'counter.avtoindex.com', 'counter.bloke.com', 'counter.cnw.cz', 'counter.cz', 'counter.dreamhost.com', 'counter.fateback.com', 'counter.mirohost.net', 'counter.mojgorod.ru', 'counter.nowlinux.com', 'counter.rambler.ru', 'counter.search.bg', 'counter.sparklit.com', 'counter.yadro.ru', 'counters.honesty.com', 'counting.kmindex.ru', 'counts.tucows.com', 'coupling-media.de', 'cpalead.com', 'cpays.com', 'cpmaffiliation.com', 'cpmstar.com', 'cpxadroit.com', 'cpxinteractive.com', 'cqcounter.com', 'crakmedia.com', 'craktraffic.com', 'crawlability.com', 'crazypopups.com', 'creafi-online-media.com', 'creative.ak.facebook.com', 'creative.whi.co.nz', 'creatives.as4x.tmcs.net', 'creatives.livejasmin.com', 'crispads.com', 'criteo.com', 'crowdgravity.com', 'crtv.mate1.com', 'crwdcntrl.net', 'ctnetwork.hu', 'cubics.com', 'customad.cnn.com', 'cyberbounty.com', 'cybermonitor.com', 'd.adroll.com', 'dakic-ia-300.com', 'danban.com', 'dapper.net', 'datashreddergold.com', 'dbbsrv.com', 'dc-storm.com', 'de17a.com', 'dealdotcom.com', 'debtbusterloans.com', 'decknetwork.net', 'deloo.de', 'demandbase.com', 'depilflash.tv', 'di1.shopping.com', 'dialerporn.com', 'didtheyreadit.com', 'direct-xxx-access.com', 'directaclick.com', 'directivepub.com', 'directleads.com', 'directorym.com', 'directtrack.com', 'discountclick.com', 'displayadsmedia.com', 'displaypagerank.com', 'dist.belnk.com', 'dmtracker.com', 'dmtracking.alibaba.com', 'dmtracking2.alibaba.com', 'dnads.directnic.com', 'domaining.in', 'domainsponsor.com', 'domainsteam.de', 'doubleclick.com', 'doubleclick.de', 'doubleclick.net', 'doublepimp.com', 'drumcash.com', 'dynamic.fmpub.net', 'e-adimages.scrippsnetworks.com', 'e-bannerx.com', 'e-debtconsolidation.com', 'e-m.fr', 'e-n-t-e-r-n-e-x.com', 'e-planning.net', 'e.kde.cz', 'eadexchange.com', 'eas.almamedia.fi', 'easyhits4u.com', 'ebayadvertising.com', 'ebocornac.com', 'ebuzzing.com', 'ecircle-ag.com', 'eclick.vn', 'ecoupons.com', 'edgeio.com', 'effectivemeasure.com', 'effectivemeasure.net', 'eiv.baidu.com', 'elitedollars.com', 'elitetoplist.com', 'emarketer.com', 'emediate.dk', 'emediate.eu', 'emonitor.takeit.cz', 'engine.awaps.net', 'engine.espace.netavenir.com', 'enginenetwork.com', 'enoratraffic.com', 'enquisite.com', 'entercasino.com', 'entrecard.s3.amazonaws.com', 'epiccash.com', 'eqads.com', 'ero-advertising.com', 'esellerate.net', 'estat.com', 'etahub.com', 'etargetnet.com', 'ethicalads.net', 'etracker.de', 'eu-adcenter.net', 'eu1.madsone.com', 'eur.a1.yimg.com', 'eurekster.com', 'euro-linkindex.de', 'euroclick.com', 'european-toplist.de', 'euroranking.de', 'euros4click.de', 'eusta.de', 'evergage.com', 'evidencecleanergold.com', 'ewebcounter.com', 'exchange-it.com', 'exchange.bg', 'exchangead.com', 'exchangeclicksonline.com', 'exit76.com', 'exitexchange.com', 'exitfuel.com', 'exoclick.com', 'exogripper.com', 'experteerads.com', 'exponential.com', 'express-submit.de', 'extractorandburner.com', 'extreme-dm.com', 'extremetracking.com', 'eyeblaster.com', 'eyereturn.com', 'eyeviewads.com', 'eyewonder.com', 'ezula.com', 'f5biz.com', 'fast-adv.it', 'fastclick.com', 'fastclick.com.edgesuite.net', 'fastclick.net', 'fb-promotions.com', 'fc.webmasterpro.de', 'feedbackresearch.com', 'feedjit.com', 'ffxcam.fairfax.com.au', 'fimc.net', 'fimserve.com', 'findcommerce.com', 'findyourcasino.com', 'fineclicks.com', 'first.nova.cz', 'firstlightera.com', 'flashtalking.com', 'fleshlightcash.com', 'flexbanner.com', 'flowgo.com', 'flurry.com', 'fonecta.leiki.com', 'foo.cosmocode.de', 'forex-affiliate.net', 'fpctraffic.com', 'fpctraffic2.com', 'fragmentserv.iac-online.de', 'free-banners.com', 'freebanner.com', 'freelogs.com', 'freeonlineusers.com', 'freepay.com', 'freestats.com', 'freestats.tv', 'freewebcounter.com', 'funklicks.com', 'funpageexchange.com', 'fusionads.net', 'fusionquest.com', 'fxclix.com', 'fxstyle.net', 'galaxien.com', 'game-advertising-online.com', 'gamehouse.com', 'gamesites100.net', 'gamesites200.com', 'gamesitestop100.com', 'gator.com', 'gbanners.hornymatches.com', 'gemius.pl', 'geo.digitalpoint.com', 'geobanner.adultfriendfinder.com', 'geovisite.com', 'german-linkindex.de', 'getclicky.com', 'globalismedia.com', 'globaltakeoff.net', 'globaltrack.com', 'globe7.com', 'globus-inter.com', 'gmads.net', 'go-clicks.de', 'go-rank.de', 'goingplatinum.com', 'gold.weborama.fr', 'goldstats.com', 'google-analytics.com', 'googleadservices.com', 'googlesyndication.com', 'gostats.com', 'gp.dejanews.com', 'gpr.hu', 'grafstat.ro', 'grapeshot.co.uk', 'greystripe.com', 'gtop.ro', 'gtop100.com', 'harrenmedia.com', 'harrenmedianetwork.com', 'havamedia.net', 'heias.com', 'hentaicounter.com', 'herbalaffiliateprogram.com', 'hexusads.fluent.ltd.uk', 'heyos.com', 'hgads.com', 'hidden.gogoceleb.com', 'hightrafficads.com', 'histats.com', 'hit-parade.com', 'hit-ranking.de', 'hit.bg', 'hit.ua', 'hit.webcentre.lycos.co.uk', 'hitbox.com', 'hitcents.com', 'hitexchange.net', 'hitfarm.com', 'hitiz.com', 'hitlist.ru', 'hitlounge.com', 'hitometer.com', 'hits.europuls.eu', 'hits.informer.com', 'hits.puls.lv', 'hits.theguardian.com', 'hits4me.com', 'hits4pay.com', 'hitslink.com', 'hittail.com', 'hollandbusinessadvertising.nl', 'homepageking.de', 'hostedads.realitykings.com', 'hotkeys.com', 'hotlog.ru', 'hotrank.com.tw', 'htmlhubing.xyz', 'httpool.com', 'hurricanedigitalmedia.com', 'hydramedia.com', 'hyperbanner.net', 'hypertracker.com', 'i-clicks.net', 'i.xx.openx.com', 'i1img.com', 'i1media.no', 'ia.iinfo.cz', 'iad.anm.co.uk', 'iadnet.com', 'iasds01.com', 'iconadserver.com', 'icptrack.com', 'idcounter.com', 'identads.com', 'idot.cz', 'idregie.com', 'idtargeting.com', 'ientrymail.com', 'iesnare.com', 'ifa.tube8live.com', 'ilbanner.com', 'ilead.itrack.it', 'iliillliO00OO0.321.cn', 'ilovecheating.com', 'imageads.canoe.ca', 'imagecash.net', 'images-pw.secureserver.net', 'images.v3.com', 'imarketservices.com', 'img.prohardver.hu', 'imgpromo.easyrencontre.com', 'imitrk.com', 'imonitor.nethost.cz', 'imprese.cz', 'impressionmedia.cz', 'impressionz.co.uk', 'imrworldwide.com', 'inboxdollars.com', 'incentaclick.com', 'indexstats.com', 'indieclick.com', 'industrybrains.com', 'inetlog.ru', 'infinite-ads.com', 'infinityads.com', 'infolinks.com', 'information.com', 'inringtone.com', 'insightexpress.com', 'insightexpressai.com', 'inspectorclick.com', 'instantmadness.com', 'intelliads.com', 'intellitxt.com', 'interactive.forthnet.gr', 'intergi.com', 'internetfuel.com', 'interreklame.de', 'interstat.hu', 'ip.ro', 'ip193.cn', 'iperceptions.com', 'ipro.com', 'ireklama.cz', 'itfarm.com', 'itop.cz', 'its-that-easy.com', 'itsptp.com', 'jcount.com', 'jinkads.de', 'joetec.net', 'jokedollars.com', 'js.users.51.la', 'juicyads.com', 'jumptap.com', 'justrelevant.com', 'justwebads.com', 'k.iinfo.cz', 'kanoodle.com', 'keymedia.hu', 'kindads.com', 'kissmetrics.com', 'kliks.nl', 'komoona.com', 'kompasads.com', 'kontera.com', 'kt-g.de', 'ktu.sv2.biz', 'lakequincy.com', 'layer-ad.de', 'layer-ads.de', 'lbn.ru', 'lct.salesforce.com', 'lead-analytics.nl', 'leadaffiliates.com', 'leadboltads.net', 'leadclick.com', 'leadingedgecash.com', 'leadzupc.com', 'leanoisgo.com', 'levelrate.de', 'lfstmedia.com', 'liftdna.com', 'ligatus.com', 'ligatus.de', 'lightningcast.net', 'lightspeedcash.com', 'link-booster.de', 'link4ads.com', 'linkadd.de', 'linkbuddies.com', 'linkexchange.com', 'linkexchange.ru', 'linkprice.com', 'linkrain.com', 'linkreferral.com', 'links-ranking.de', 'linkshighway.com', 'linkshighway.net', 'linkstorms.com', 'linkswaper.com', 'linktarget.com', 'liquidad.narrowcastmedia.com', 'liveintent.com', 'liverail.com', 'loading321.com', 'log.btopenworld.com', 'logua.com', 'lop.com', 'lucidmedia.com', 'lzjl.com', 'm.webtrends.com', 'm1.webstats4u.com', 'm4n.nl', 'madclient.uimserv.net', 'madisonavenue.com', 'mads.cnet.com', 'madvertise.de', 'marchex.com', 'market-buster.com', 'marketing.888.com', 'marketing.hearstmagazines.nl', 'marketing.nyi.net', 'marketing.osijek031.com', 'marketingsolutions.yahoo.com', 'maroonspider.com', 'mas.sector.sk', 'mastermind.com', 'matchcraft.com', 'mathtag.com', 'max.i12.de', 'maximumcash.com', 'mbn.com.ua', 'mbs.megaroticlive.com', 'mbuyu.nl', 'mdotm.com', 'measuremap.com', 'media-adrunner.mycomputer.com', 'media-servers.net', 'media.ftv-publicite.fr', 'media.funpic.de', 'media6degrees.com', 'mediaarea.eu', 'mediacharger.com', 'mediadvertising.ro', 'mediageneral.com', 'mediamath.com', 'mediamgr.ugo.com', 'mediaplazza.com', 'mediaplex.com', 'mediascale.de', 'mediatext.com', 'mediax.angloinfo.com', 'mediaz.angloinfo.com', 'medleyads.com', 'medyanetads.com', 'megacash.de', 'megago.com', 'megastats.com', 'megawerbung.de', 'memorix.sdv.fr', 'metaffiliation.com', 'metanetwork.com', 'methodcash.com', 'metrics.windowsitpro.com', 'mgid.com', 'miarroba.com', 'microstatic.pl', 'microticker.com', 'midnightclicking.com', 'mintrace.com', 'misstrends.com', 'mixpanel.com', 'mixtraffic.com', 'mlm.de', 'mmismm.com', 'mmtro.com', 'moatads.com', 'mobclix.com', 'mocean.mobi', 'moneyexpert.com', 'monsterpops.com', 'mopub.com', 'mouseflow.com', 'mpstat.us', 'mr-rank.de', 'mrskincash.com', 'mtree.com', 'musiccounter.ru', 'muwmedia.com', 'myaffiliateprogram.com', 'mybloglog.com', 'mycounter.ua', 'mypagerank.net', 'mypagerank.ru', 'mypowermall.com', 'mystat-in.net', 'mystat.pl', 'mytop-in.net', 'n69.com', 'naiadsystems.com', 'naj.sk', 'namimedia.com', 'nastydollars.com', 'navigator.io', 'navrcholu.cz', 'nbjmp.com', 'ndparking.com', 'nedstat.com', 'nedstat.nl', 'nedstatbasic.net', 'nedstatpro.net', 'nend.net', 'neocounter.neoworx-blog-tools.net', 'neoffic.com', 'net-filter.com', 'netaffiliation.com', 'netagent.cz', 'netclickstats.com', 'netcommunities.com', 'netdirect.nl', 'netflame.cc', 'netincap.com', 'netpool.netbookia.net', 'netshelter.net', 'network.business.com', 'neudesicmediagroup.com', 'newads.bangbros.com', 'newbie.com', 'newnet.qsrch.com', 'newnudecash.com', 'newopenx.detik.com', 'newt1.adultadworld.com', 'newt1.adultworld.com', 'newtopsites.com', 'ng3.ads.warnerbros.com', 'ngs.impress.co.jp', 'nitroclicks.com', 'novem.pl', 'nuggad.net', 'numax.nu-1.com', 'nuseek.com', 'oas.benchmark.fr', 'oas.foxnews.com', 'oas.repubblica.it', 'oas.roanoke.com', 'oas.salon.com', 'oas.toronto.com', 'oas.uniontrib.com', 'oas.villagevoice.com', 'oascentral.businessweek.com', 'oascentral.chicagobusiness.com', 'oascentral.fortunecity.com', 'oascentral.register.com', 'oewa.at', 'oewabox.at', 'offerforge.com', 'offermatica.com', 'olivebrandresponse.com', 'omniture.com', 'onclasrv.com', 'onclickads.net', 'oneandonlynetwork.com', 'onenetworkdirect.com', 'onestat.com', 'onestatfree.com', 'onewaylinkexchange.net', 'online-metrix.net', 'onlinecash.com', 'onlinecashmethod.com', 'onlinerewardcenter.com', 'openad.tf1.fr', 'openad.travelnow.com', 'openads.friendfinder.com', 'openads.org', 'openclick.com', 'openx.angelsgroup.org.uk', 'openx.blindferret.com', 'opienetwork.com', 'optimost.com', 'optmd.com', 'ordingly.com', 'ota.cartrawler.com', 'otto-images.developershed.com', 'outbrain.com', 'overture.com', 'owebmoney.ru', 'oxado.com', 'oxcash.com', 'oxen.hillcountrytexas.com', 'p.adpdx.com', 'pagead.l.google.com', 'pagefair.com', 'pagerank-estate-spb.ru', 'pagerank-ranking.com', 'pagerank-ranking.de', 'pagerank-server7.de', 'pagerank-submitter.com', 'pagerank-submitter.de', 'pagerank-suchmaschine.de', 'pagerank-united.de', 'pagerank4u.eu', 'pagerank4you.com', 'pageranktop.com', 'partage-facile.com', 'partner-ads.com', 'partner.pelikan.cz', 'partnerad.l.google.com', 'partnercash.de', 'partners.priceline.com', 'passion-4.net', 'pay-ads.com', 'paycounter.com', 'paypopup.com', 'payserve.com', 'pbnet.ru', 'pcash.imlive.com', 'peep-auktion.de', 'peer39.com', 'pennyweb.com', 'pepperjamnetwork.com', 'percentmobile.com', 'perf.weborama.fr', 'perfectaudience.com', 'perfiliate.com', 'performancerevenue.com', 'performancerevenues.com', 'performancing.com', 'pgmediaserve.com', 'pgpartner.com', 'pheedo.com', 'phoenix-adrunner.mycomputer.com', 'phpadsnew.new.natuurpark.nl', 'phpmyvisites.net', 'picadmedia.com', 'pillscash.com', 'pimproll.com', 'pixel.adsafeprotected.com', 'pixel.jumptap.com', 'planetactive.com', 'play4traffic.com', 'playhaven.com', 'plista.com', 'plugrush.com', 'pointroll.com', 'pop-under.ru', 'popads.net', 'popub.com', 'popunder.ru', 'popup.msn.com', 'popupmoney.com', 'popupnation.com', 'popups.infostart.com', 'popuptraffic.com', 'porngraph.com', 'porntrack.com', 'postrelease.com', 'potenza.cz', 'pr-star.de', 'pr-ten.de', 'pr5dir.com', 'praddpro.de', 'prchecker.info', 'precisioncounter.com', 'predictad.com', 'premium-offers.com', 'primaryads.com', 'primetime.net', 'privatecash.com', 'pro-advertising.com', 'pro.i-doctor.co.kr', 'proext.com', 'profero.com', 'projectwonderful.com', 'promo.badoink.com', 'promo.ulust.com', 'promo1.webcams.nl', 'promobenef.com', 'promos.fling.com', 'promote.pair.com', 'promotion-campaigns.com', 'pronetadvertising.com', 'propellerads.com', 'proranktracker.com', 'proton-tm.com', 'protraffic.com', 'provexia.com', 'prsitecheck.com', 'psstt.com', 'pub.chez.com', 'pub.club-internet.fr', 'pub.hardware.fr', 'pub.realmedia.fr', 'pubdirecte.com', 'publicidad.elmundo.es', 'pubmatic.com', 'pubs.lemonde.fr', 'pulse360.com', 'q.azcentral.com', 'qctop.com', 'qnsr.com', 'quantcast.com', 'quantserve.com', 'quarterserver.de', 'questaffiliates.net', 'quigo.com', 'quinst.com', 'quisma.com', 'rad.msn.com', 'radar.cedexis.com', 'radarurl.com', 'radiate.com', 'rampidads.com', 'rank-master.com', 'rank-master.de', 'rankchamp.de', 'ranking-charts.de', 'ranking-hits.de', 'ranking-id.de', 'ranking-links.de', 'ranking-liste.de', 'ranking-street.de', 'rankingchart.de', 'rankingscout.com', 'rankyou.com', 'rapidcounter.com', 'rate.ru', 'ratings.lycos.com', 'rb1.design.ru', 're-directme.com', 'reachjunction.com', 'reactx.com', 'readserver.net', 'realcastmedia.com', 'realclix.com', 'realmedia-a800.d4p.net', 'realtechnetwork.com', 'realteencash.com', 'realtracker.com', 'reduxmedia.com', 'reduxmediagroup.com', 'reedbusiness.com', 'reefaquarium.biz', 'referralware.com', 'regnow.com', 'reinvigorate.net', 'reklam.rfsl.se', 'reklama.mironet.cz', 'reklama.reflektor.cz', 'reklamcsere.hu', 'reklame.unwired-i.net', 'reklamer.com.ua', 'relevanz10.de', 'relmaxtop.com', 'remotead.cnet.com', 'republika.onet.pl', 'retargeter.com', 'rev2pub.com', 'revenue.net', 'revenuedirect.com', 'revsci.net', 'revstats.com', 'richmails.com', 'richmedia.yimg.com', 'richwebmaster.com', 'rightstats.com', 'rlcdn.com', 'rle.ru', 'rmads.msn.com', 'rmedia.boston.com', 'roar.com', 'robotreplay.com', 'roia.biz', 'rok.com.com', 'rose.ixbt.com', 'rotabanner.com', 'roxr.net', 'rtbpop.com', 'rtbpopd.com', 'ru-traffic.com', 'ru4.com', 'rubiconproject.com', 's.adroll.com', 's2d6.com', 'sageanalyst.net', 'sbx.pagesjaunes.fr', 'scambiobanner.aruba.it', 'scanscout.com', 'scopelight.com', 'scorecardresearch.com', 'scratch2cash.com', 'scripte-monster.de', 'searchfeast.com', 'searchmarketing.com', 'searchramp.com', 'secure.webconnect.net', 'sedoparking.com', 'sedotracker.com', 'seeq.com.invalid', 'sensismediasmart.com.au', 'seo4india.com', 'serv0.com', 'servedbyadbutler.com', 'servedbyopenx.com', 'servethis.com', 'services.hearstmags.com', 'serving-sys.com', 'sexaddpro.de', 'sexadvertentiesite.nl', 'sexcounter.com', 'sexinyourcity.com', 'sexlist.com', 'sextracker.com', 'sexystat.com', 'sezwho.com', 'shareadspace.com', 'shareasale.com', 'sharepointads.com', 'sher.index.hu', 'shinystat.com', 'shinystat.it', 'shoppingads.com', 'siccash.com', 'sidebar.angelfire.com', 'sinoa.com', 'sitebrand.geeks.com', 'sitemerkezi.net', 'sitemeter.com', 'sitestat.com', 'sixsigmatraffic.com', 'skylink.vn', 'slickaffiliate.com', 'slopeaota.com', 'sma.punto.net', 'smart4ads.com', 'smartadserver.com', 'smartbase.cdnservices.com', 'smowtion.com', 'snapads.com', 'snoobi.com', 'socialspark.com', 'softclick.com.br', 'spacash.com', 'sparkstudios.com', 'specificmedia.co.uk', 'specificpop.com', 'spezialreporte.de', 'spinbox.techtracker.com', 'spinbox.versiontracker.com', 'sponsorads.de', 'sponsorpro.de', 'sponsors.thoughtsmedia.com', 'spot.fitness.com', 'spotxchange.com', 'sprinks-clicks.about.com', 'spylog.com', 'spywarelabs.com', 'spywarenuker.com', 'spywords.com', 'srbijacafe.org', 'srwww1.com', 'starffa.com', 'start.freeze.com', 'stat.cliche.se', 'stat.dealtime.com', 'stat.dyna.ultraweb.hu', 'stat.pl', 'stat.su', 'stat.tudou.com', 'stat.webmedia.pl', 'stat.zenon.net', 'stat24.com', 'stat24.meta.ua', 'statcounter.com', 'static.fmpub.net', 'static.itrack.it', 'staticads.btopenworld.com', 'statistik-gallup.net', 'statm.the-adult-company.com', 'stats.blogger.com', 'stats.cts-bv.nl', 'stats.directnic.com', 'stats.hyperinzerce.cz', 'stats.mirrorfootball.co.uk', 'stats.olark.com', 'stats.suite101.com', 'stats.surfaid.ihost.com', 'stats.townnews.com', 'stats.unwired-i.net', 'stats.wordpress.com', 'stats.x14.eu', 'stats4all.com', 'statsie.com', 'statxpress.com', 'steelhouse.com', 'steelhousemedia.com', 'stickyadstv.com', 'suavalds.com', 'subscribe.hearstmags.com', 'sugoicounter.com', 'superclix.de', 'superstats.com', 'supertop.ru', 'supertop100.com', 'suptullog.com', 'surfmusik-adserver.de', 'swissadsolutions.com', 'swordfishdc.com', 'sx.trhnt.com', 't.insigit.com', 't.pusk.ru', 'taboola.com', 'tacoda.net', 'tagular.com', 'tailsweep.co.uk', 'tailsweep.com', 'tailsweep.se', 'takru.com', 'tangerinenet.biz', 'tapad.com', 'targad.de', 'targetingnow.com', 'targetnet.com', 'targetpoint.com', 'tatsumi-sys.jp', 'tcads.net', 'techclicks.net', 'teenrevenue.com', 'teliad.de', 'text-link-ads.com', 'textad.sexsearch.com', 'textads.biz', 'textads.opera.com', 'textlinks.com', 'tfag.de', 'theadhost.com', 'theads.me', 'thebugs.ws', 'thecounter.com', 'therapistla.com', 'therichkids.com', 'thrnt.com', 'thruport.com', 'tinybar.com', 'tizers.net', 'tlvmedia.com', 'tntclix.co.uk', 'top-casting-termine.de', 'top-site-list.com', 'top.list.ru', 'top.mail.ru', 'top.proext.com', 'top100-images.rambler.ru', 'top100.mafia.ru', 'top123.ro', 'top20.com', 'top20free.com', 'top90.ro', 'topbarh.box.sk', 'topblogarea.se', 'topbucks.com', 'topforall.com', 'topgamesites.net', 'toplist.cz', 'toplist.pornhost.com', 'toplista.mw.hu', 'toplistcity.com', 'topmmorpgsites.com', 'topping.com.ua', 'toprebates.com', 'topsafelist.net', 'topsearcher.com', 'topsir.com', 'topsite.lv', 'topsites.com.br', 'topstats.com', 'totemcash.com', 'touchclarity.com', 'touchclarity.natwest.com', 'tour.brazzers.com', 'tpnads.com', 'track.adform.net', 'track.anchorfree.com', 'track.gawker.com', 'trackalyzer.com', 'tracker.icerocket.com', 'tracker.marinsm.com', 'tracking.crunchiemedia.com', 'tracking.gajmp.com', 'tracking.internetstores.de', 'tracking.yourfilehost.com', 'tracking101.com', 'trackingsoft.com', 'trackmysales.com', 'tradeadexchange.com', 'tradedoubler.com', 'traffic-exchange.com', 'traffic.liveuniversenetwork.com', 'trafficadept.com', 'trafficcdn.liveuniversenetwork.com', 'trafficfactory.biz', 'trafficholder.com', 'traffichunt.com', 'trafficjunky.net', 'trafficleader.com', 'trafficsecrets.com', 'trafficspaces.net', 'trafficstrategies.com', 'trafficswarm.com', 'traffictrader.net', 'trafficz.com', 'trafficz.net', 'traffiq.com', 'trafic.ro', 'travis.bosscasinos.com', 'trekblue.com', 'trekdata.com', 'trendcounter.com', 'trhunt.com', 'tribalfusion.com', 'trix.net', 'truehits.net', 'truehits1.gits.net.th', 'truehits2.gits.net.th', 'tsms-ad.tsms.com', 'tubedspots.com', 'tubemogul.com', 'turn.com', 'tvas-a.pw', 'tvas-c.pw', 'tvmtracker.com', 'twittad.com', 'tyroo.com', 'uarating.com', 'ukbanners.com', 'ultramercial.com', 'ultsearch.com', 'unanimis.co.uk', 'untd.com', 'updated.com', 'urlcash.net', 'us.a1.yimg.com', 'usapromotravel.com', 'usmsad.tom.com', 'utarget.co.uk', 'utils.mediageneral.net', 'v1.cnzz.com', 'validclick.com', 'valuead.com', 'valueclick.com', 'valueclickmedia.com', 'valuecommerce.com', 'valuesponsor.com', 'veille-referencement.com', 'ventivmedia.com', 'vericlick.com', 'vertadnet.com', 'veruta.com', 'vervewireless.com', 'vibrantmedia.com', 'video-stats.video.google.com', 'videoegg.com', 'view4cash.de', 'viewpoint.com', 'visistat.com', 'visit.webhosting.yahoo.com', 'visitbox.de', 'visual-pagerank.fr', 'visualrevenue.com', 'voicefive.com', 'vpon.com', 'vrs.cz', 'vs.tucows.com', 'vungle.com', 'wads.webteh.com', 'warlog.info', 'warlog.ru', 'wdads.sx.atl.publicus.com', 'web-stat.com', 'web.informer.com', 'web2.deja.com', 'webads.co.nz', 'webads.nl', 'webangel.ru', 'webcash.nl', 'webcounter.cz', 'webcounter.goweb.de', 'webgains.com', 'webmaster-partnerprogramme24.de', 'webmasterplan.com', 'webmasterplan.de', 'weborama.fr', 'webpower.com', 'webreseau.com', 'webseoanalytics.com', 'websponsors.com', 'webstat.channel4.com', 'webstat.com', 'webstat.net', 'webstats4u.com', 'webtrackerplus.com', 'webtraffic.se', 'webtraxx.de', 'webtrendslive.com', 'wegcash.com', 'werbung.meteoxpress.com', 'wetrack.it', 'whaleads.com', 'whenu.com', 'whispa.com', 'whoisonline.net', 'wholesaletraffic.info', 'widespace.com', 'widgetbucks.com', 'wikia-ads.wikia.com', 'window.nixnet.cz', 'wintricksbanner.googlepages.com', 'witch-counter.de', 'wlmarketing.com', 'wmirk.ru', 'wonderlandads.com', 'wondoads.de', 'woopra.com', 'worldwide-cash.net', 'wtlive.com', 'www-banner.chat.ru', 'www-google-analytics.l.google.com', 'www.banner-link.com.br', 'www.dnps.com', 'www.kaplanindex.com', 'www.money4exit.de', 'www.photo-ads.co.uk', 'www1.gto-media.com', 'www8.glam.com', 'x-traceur.com', 'x6.yakiuchi.com', 'xchange.ro', 'xclicks.net', 'xertive.com', 'xg4ken.com', 'xiti.com', 'xplusone.com', 'xponsor.com', 'xq1.net', 'xrea.com', 'xtendmedia.com', 'xtremetop100.com', 'xxxcounter.com', 'xxxmyself.com', 'y.ibsys.com', 'yab-adimages.s3.amazonaws.com', 'yabuka.com', 'yadro.ru', 'yesads.com', 'yesadvertising.com', 'yieldads.com', 'yieldlab.net', 'yieldmanager.com', 'yieldmanager.net', 'yieldtraffic.com', 'yoc.mobi', 'yoggrt.com', 'z5x.net', 'zangocash.com', 'zanox-affiliate.de', 'zanox.com', 'zantracker.com', 'zedo.com', 'zencudo.co.uk', 'zenkreka.com', 'zenzuu.com', 'zeus.developershed.com', 'zeusclicks.com', 'zintext.com', 'zmedia.com']\n"
     ]
    }
   ],
   "source": [
    "import requests\n",
    "# this site's creator compiles a running list of hostnames that serve ads: https://pgl.yoyo.org/as/\n",
    "# he makes the list available in plaintext format in the URL below\n",
    "adlistpage = requests.get('https://pgl.yoyo.org/adservers/serverlist.php?mimetype=plaintext')\n",
    "\n",
    "adlisttext = adlistpage.text\n",
    "adlist = adlisttext.split()\n",
    "print(adlist)\n",
    "# print(len(adlist))"
   ]
  },
  {
   "cell_type": "code",
   "execution_count": 60,
   "metadata": {
    "collapsed": false
   },
   "outputs": [
    {
     "name": "stdout",
     "output_type": "stream",
     "text": [
      "[['101com'], ['101order'], ['123found'], ['180hits'], ['180searchassistant'], ['1x1rank'], ['207'], ['247media'], ['24log'], ['24log'], ['24pm-affiliation'], ['2mdn'], ['2o7'], ['360yield'], ['4affiliate'], ['4d5'], ['50websads'], ['518ad'], ['51yes'], ['600z'], ['777partner'], ['777seo'], ['77tracking'], ['7bpeople'], ['7search'], ['99count'], ['a-ads'], ['a-counter', 'kiev'], ['a', '0day', 'kiev'], ['a', 'aproductmsg'], ['a', 'collective-media'], ['a', 'consumer'], ['a', 'mktw'], ['a', 'sakh'], ['a', 'ucoz'], ['a', 'ucoz'], ['a', 'xanga'], ['a32', 'g', 'a', 'yimg'], ['aaddzz'], ['abacho'], ['abc-ads'], ['absoluteclickscom'], ['abz'], ['ac', 'rnm'], ['accounts', 'pkr', 'com'], ['acsseo'], ['actionsplash'], ['actualdeals'], ['acuityads'], ['ad-balancer'], ['ad-balancer'], ['ad-center'], ['ad-images', 'suntimes'], ['ad-pay'], ['ad-rotator'], ['ad-server', 'gulasidorna'], ['ad-serverparc'], ['ad-souk'], ['ad-space'], ['ad-tech'], ['ad-up'], ['ad', '100', 'tbn'], ['ad', '71i'], ['ad', '980x'], ['ad', 'a8'], ['ad', 'abcnews'], ['ad', 'abctv'], ['ad', 'about'], ['ad', 'aboutit'], ['ad', 'aboutwebservices'], ['ad', 'abum'], ['ad', 'afy11'], ['ad', 'allstar'], ['ad', 'altervista'], ['ad', 'amgdgt'], ['ad', 'anuntis'], ['ad', 'auditude'], ['ad', 'bizo'], ['ad', 'bnmla'], ['ad', 'bondage'], ['ad', 'caradisiac'], ['ad', 'centrum'], ['ad', 'cgi'], ['ad', 'choiceradio'], ['ad', 'clix'], ['ad', 'cooks'], ['ad', 'crwdcntrl'], ['ad', 'digitallook'], ['ad', 'directrev'], ['ad', 'doctissimo'], ['ad', 'domainfactory'], ['ad', 'e-kolay'], ['ad', 'eurosport'], ['ad', 'f1cd'], ['ad', 'flurry'], ['ad', 'foxnetworks'], ['ad', 'freecity'], ['ad', 'gate24'], ['ad', 'globe7'], ['ad', 'grafika'], ['ad', 'hbv'], ['ad', 'hodomobile'], ['ad', 'httpool'], ['ad', 'hyena'], ['ad', 'iinfo'], ['ad', 'ilove'], ['ad', 'infoseek'], ['ad', 'jamba'], ['ad', 'jamster', 'co'], ['ad', 'jetsoftware'], ['ad', 'keenspace'], ['ad', 'leadbolt'], ['ad', 'liveinternet'], ['ad', 'lupa'], ['ad', 'm5prod'], ['ad', 'media-servers'], ['ad', 'mediastorm'], ['ad', 'mgd'], ['ad', 'musicmatch'], ['ad', 'nachtagenten'], ['ad', 'nozonedata'], ['ad', 'nttnavi', 'co'], ['ad', 'nwt'], ['ad', 'onad'], ['ad', 'pandora'], ['ad', 'playground'], ['ad', 'preferances'], ['ad', 'profiwin'], ['ad', 'prv'], ['ad', 'rambler'], ['ad', 'reunion'], ['ad', 'scanmedios'], ['ad', 'sensismediasmart', 'com'], ['ad', 'seznam'], ['ad', 'simgames'], ['ad', 'slutload'], ['ad', 'smartclip'], ['ad', 'tbn'], ['ad', 'technoratimedia'], ['ad', 'thewheelof'], ['ad', 'top50'], ['ad', 'turn'], ['ad', 'tv2'], ['ad', 'twitchguru'], ['ad', 'usatoday'], ['ad', 'virtual-nights'], ['ad', 'watch', 'impress', 'co'], ['ad', 'wavu'], ['ad', 'way'], ['ad', 'weatherbug'], ['ad', 'wsod'], ['ad', 'wz'], ['ad', 'yadro'], ['ad', 'yourmedia'], ['ad', 'zanox'], ['ad0', 'bigmir'], ['ad01', 'mediacorpsingapore'], ['ad1', 'emediate'], ['ad1', 'emule-project'], ['ad1', 'kde'], ['ad1', 'pamedia', 'com'], ['ad2', 'iinfo'], ['ad2', 'ip'], ['ad2', 'linxcz'], ['ad2', 'lupa'], ['ad2flash'], ['ad2games'], ['ad3', 'iinfo'], ['ad3', 'pamedia', 'com'], ['ad4game'], ['adaction'], ['adadvisor'], ['adap'], ['adapt'], ['adbanner'], ['adbard'], ['adblade'], ['adblockanalytics'], ['adboost', 'de'], ['adboost'], ['adbooth'], ['adbot'], ['adbrite'], ['adbroker'], ['adbunker'], ['adbutler'], ['adbutler'], ['adbuyer'], ['adbuyer3', 'lycos'], ['adcash'], ['adcast', 'deviantart'], ['adcell'], ['adcenter', 'mdf'], ['adcenter'], ['adcentriconline'], ['adcept'], ['adclick'], ['adclient', 'uimserv'], ['adclient1', 'tucows'], ['adcloud'], ['adcomplete'], ['adconion'], ['adcontent', 'gamespy'], ['adcycle'], ['add', 'newmedia'], ['addealing'], ['addesktop'], ['addfreestats'], ['addme'], ['adecn'], ['ademails'], ['adengage'], ['adexpose'], ['adext', 'inkclub'], ['adf'], ['adfactor'], ['adfarm', 'mediaplex'], ['adflight'], ['adforce'], ['adform'], ['adgardener'], ['adgoto'], ['adgridwork'], ['adhese'], ['adhese'], ['adi', 'mainichi', 'co'], ['adimage', 'asiaone', 'com'], ['adimage', 'guardian', 'co'], ['adimages', 'been'], ['adimages', 'carsoup'], ['adimages', 'go'], ['adimages', 'homestore'], ['adimages', 'omroepzeeland'], ['adimages', 'sanomawsoy'], ['adimg', 'cnet'], ['adimg', 'com'], ['adimg', 'uimserv'], ['adimg1', 'chosun'], ['adimgs', 'sapo'], ['adimpact'], ['adinjector'], ['adinterax'], ['adisfy'], ['adition'], ['adition'], ['adition'], ['adizio'], ['adjix'], ['adjug'], ['adjuggler'], ['adjuggler', 'yourdictionary'], ['adjustnetwork'], ['adk2'], ['adk2ads', 'tictacti'], ['adland'], ['adlantic'], ['adledge'], ['adlegend'], ['adlink'], ['adlog', 'com'], ['adloox'], ['adlooxtracking'], ['adlure'], ['admagnet'], ['admailtiser'], ['adman'], ['adman', 'in'], ['adman', 'otenet'], ['admanagement'], ['admanager', 'btopenworld'], ['admanager', 'carsoup'], ['admarketplace'], ['admarvel'], ['admax', 'nexage'], ['admedia'], ['admedia'], ['admeld'], ['admerize'], ['admeta'], ['admex'], ['adminder'], ['adminshop'], ['admized'], ['admob'], ['admonitor'], ['admotion', 'com'], ['admtpmp123'], ['admtpmp124'], ['adnet-media'], ['adnet', 'asahi'], ['adnet'], ['adnet'], ['adnet'], ['adnet', 'worldreviewer'], ['adnetinteractive'], ['adnetwork'], ['adnetworkperformance'], ['adnews', 'maddog2000'], ['adnotch'], ['adnxs'], ['adocean'], ['adonspot'], ['adoperator'], ['adorigin'], ['adpepper'], ['adpepper'], ['adperium'], ['adpia'], ['adplus', 'co'], ['adplxmd'], ['adprofile'], ['adprojekt'], ['adq', 'nextag'], ['adrazzi'], ['adreactor'], ['adremedy'], ['adreporting'], ['adres', 'internet'], ['adrevolver'], ['adriver'], ['adrolays'], ['adrotate'], ['adrotator'], ['ads-click'], ['ads', '4tube'], ['ads', '5ci'], ['ads', 'abovetopsecret'], ['ads', 'aceweb'], ['ads', 'activestate'], ['ads', 'adfox'], ['ads', 'administrator'], ['ads', 'adshareware'], ['ads', 'adultfriendfinder'], ['ads', 'adultswim'], ['ads', 'advance'], ['ads', 'adverline'], ['ads', 'affiliates', 'match'], ['ads', 'ak', 'facebook', 'com', 'edgesuite'], ['ads', 'allvatar'], ['ads', 'alt'], ['ads', 'alwayson-network'], ['ads', 'amdmb'], ['ads', 'amigos'], ['ads', 'aol', 'co'], ['ads', 'aol'], ['ads', 'apn', 'co'], ['ads', 'appsgeyser'], ['ads', 'as4x', 'tmcs'], ['ads', 'as4x', 'tmcs', 'ticketmaster'], ['ads', 'asia1', 'com'], ['ads', 'asiafriendfinder'], ['ads', 'ask'], ['ads', 'aspalliance'], ['ads', 'avazu'], ['ads', 'batpmturner'], ['ads', 'beenetworks'], ['ads', 'belointeractive'], ['ads', 'berlinonline'], ['ads', 'betanews'], ['ads', 'betfair'], ['ads', 'betfair', 'com'], ['ads', 'bigchurch'], ['ads', 'bigfoot'], ['ads', 'billiton'], ['ads', 'bing'], ['ads', 'bittorrent'], ['ads', 'blog'], ['ads', 'bloomberg'], ['ads', 'bluelithium'], ['ads', 'bluemountain'], ['ads', 'bluesq'], ['ads', 'bonniercorp'], ['ads', 'boylesports'], ['ads', 'brabys'], ['ads', 'brain'], ['ads', 'brazzers'], ['ads', 'bumq'], ['ads', 'businessweek'], ['ads', 'canalblog'], ['ads', 'canoe'], ['ads', 'casinocity'], ['ads', 'cbc'], ['ads'], ['ads', 'cc-dt'], ['ads', 'centraliprom'], ['ads', 'cgnetworks'], ['ads', 'channel4'], ['ads', 'cimedia'], ['ads', 'clearchannel'], ['ads', 'co'], ['ads', 'com'], ['ads', 'contactmusic'], ['ads', 'contextweb'], ['ads', 'crakmedia'], ['ads', 'creative-serving'], ['ads', 'creativematch'], ['ads', 'cricbuzz'], ['ads', 'cybersales'], ['ads', 'dada'], ['ads', 'datinggold'], ['ads', 'datingyes'], ['ads', 'dazoot'], ['ads', 'deltha'], ['ads', 'dennisnet', 'co'], ['ads', 'desmoinesregister'], ['ads', 'detelefoongids'], ['ads', 'deviantart'], ['ads', 'digital-digest'], ['ads', 'digitalmedianet'], ['ads', 'digitalpoint'], ['ads', 'directionsmag'], ['ads', 'domeus'], ['ads', 'eagletribune'], ['ads', 'easy-forex'], ['ads', 'eatinparis'], ['ads', 'economist'], ['ads', 'edbindex'], ['ads', 'egrana', 'com'], ['ads', 'einmedia'], ['ads', 'electrocelt'], ['ads', 'elitetrader'], ['ads', 'emirates', 'net'], ['ads', 'epltalk'], ['ads', 'esmas'], ['ads', 'eu', 'msn'], ['ads', 'exactdrive'], ['ads', 'expat-blog'], ['ads', 'expedia'], ['ads', 'ezboard'], ['ads', 'factorymedia'], ['ads', 'fairfax', 'com'], ['ads', 'faxo'], ['ads', 'ferianc'], ['ads', 'filmup'], ['ads', 'financialcontent'], ['ads', 'flooble'], ['ads', 'fool'], ['ads', 'footymad'], ['ads', 'forbes'], ['ads', 'forbes'], ['ads', 'forium'], ['ads', 'fortunecity'], ['ads', 'fotosidan'], ['ads', 'foxkidseurope'], ['ads', 'foxnetworks'], ['ads', 'foxnews'], ['ads', 'freecity'], ['ads', 'friendfinder'], ['ads', 'ft'], ['ads', 'futurenet'], ['ads', 'gamecity'], ['ads', 'gameforgeads'], ['ads', 'gamershell'], ['ads', 'gamespyid'], ['ads', 'gamigo'], ['ads', 'gaming-universe'], ['ads', 'gawker'], ['ads', 'geekswithblogs'], ['ads', 'glispa'], ['ads', 'globeandmail'], ['ads', 'gmodules'], ['ads', 'godlikeproductions'], ['ads', 'goyk'], ['ads', 'gplusmedia'], ['ads', 'gradfinder'], ['ads', 'groundspeak'], ['ads', 'gsm-exchange'], ['ads', 'gsmexchange'], ['ads', 'guardian', 'co'], ['ads', 'guardianunlimited', 'co'], ['ads', 'guru3d'], ['ads', 'hardwaresecrets'], ['ads', 'harpers'], ['ads', 'hbv'], ['ads', 'hearstmags'], ['ads', 'heartlight'], ['ads', 'heias'], ['ads', 'hideyourarms'], ['ads', 'hollywood'], ['ads', 'horsehero'], ['ads', 'horyzon-media'], ['ads', 'iafrica'], ['ads', 'ibest', 'com'], ['ads', 'ibryte'], ['ads', 'icq'], ['ads', 'ign'], ['ads', 'img', 'co'], ['ads', 'imgur'], ['ads', 'indiatimes'], ['ads', 'infi'], ['ads', 'internic', 'co'], ['ads', 'ipowerweb'], ['ads', 'isoftmarketing'], ['ads', 'itv'], ['ads', 'iwon'], ['ads', 'jewishfriendfinder'], ['ads', 'jiwire'], ['ads', 'jobsite', 'co'], ['ads', 'jpost'], ['ads', 'jubii'], ['ads', 'justhungry'], ['ads', 'kaktuz'], ['ads', 'kelbymediagroup'], ['ads', 'kinobox'], ['ads', 'kinxxx'], ['ads', 'kompass'], ['ads', 'krawall'], ['ads', 'lesbianpersonals'], ['ads', 'linuxfoundation'], ['ads', 'linuxjournal'], ['ads', 'linuxsecurity'], ['ads', 'livenation'], ['ads', 'mariuana'], ['ads', 'massinfra'], ['ads', 'mcafee'], ['ads', 'mediaodyssey'], ['ads', 'mediaturf'], ['ads', 'medienhaus'], ['ads', 'mgnetwork'], ['ads', 'mmania'], ['ads', 'moceanads'], ['ads', 'motor-forum'], ['ads', 'motormedia'], ['ads', 'msn'], ['ads', 'multimania', 'lycos'], ['ads', 'nationalgeographic'], ['ads', 'ncm'], ['ads', 'netclusive'], ['ads', 'netmechanic'], ['ads', 'networksolutions'], ['ads', 'newdream'], ['ads', 'newgrounds'], ['ads', 'newmedia'], ['ads', 'newsint', 'co'], ['ads', 'newsquest', 'co'], ['ads', 'ninemsn', 'com'], ['ads', 'nj'], ['ads', 'nola'], ['ads', 'nordichardware'], ['ads', 'nordichardware'], ['ads', 'nwsource'], ['ads', 'nyi'], ['ads', 'nytimes'], ['ads', 'nyx'], ['ads', 'nzcity', 'co'], ['ads', 'o2'], ['ads', 'oddschecker'], ['ads', 'okcimg'], ['ads', 'ole'], ['ads', 'olivebrandresponse'], ['ads', 'oneplace'], ['ads', 'ookla'], ['ads', 'optusnet', 'com'], ['ads', 'outpersonals'], ['ads', 'p161'], ['ads', 'passion'], ['ads', 'pennet'], ['ads', 'penny-arcade'], ['ads', 'pheedo'], ['ads', 'phpclasses'], ['ads', 'pickmeup-ltd'], ['ads', 'pkr'], ['ads', 'planet'], ['ads', 'pni'], ['ads', 'pof'], ['ads', 'powweb'], ['ads', 'primissima'], ['ads', 'printscr'], ['ads', 'prisacom'], ['ads', 'program3'], ['ads', 'psd2html'], ['ads', 'pushplay'], ['ads', 'quoka'], ['ads', 'rcs'], ['ads', 'recoletos'], ['ads', 'rediff'], ['ads', 'redlightcenter'], ['ads', 'redtube'], ['ads', 'resoom'], ['ads', 'returnpath'], ['ads', 'rottentomatoes'], ['ads', 'rpgdot'], ['ads', 's3', 'sitepoint'], ['ads', 'satyamonline'], ['ads', 'savannahnow'], ['ads', 'saymedia'], ['ads', 'scifi'], ['ads', 'seniorfriendfinder'], ['ads', 'sexinyourcity'], ['ads', 'shizmoo'], ['ads', 'shopstyle'], ['ads', 'sift', 'co'], ['ads', 'silverdisc', 'co'], ['ads', 'slim'], ['ads', 'smartclick'], ['ads', 'soft32'], ['ads', 'space'], ['ads', 'spoonfeduk'], ['ads', 'sptimes'], ['ads', 'stackoverflow'], ['ads', 'stationplay'], ['ads', 'struq'], ['ads', 'sun'], ['ads', 'supplyframe'], ['ads', 't-online'], ['ads', 'tahono'], ['ads', 'techtv'], ['ads', 'techweb'], ['ads', 'telegraph', 'co'], ['ads', 'theglobeandmail'], ['ads', 'themovienation'], ['ads', 'thestar'], ['ads', 'timeout'], ['ads', 'tjwi'], ['ads', 'tmcs'], ['ads', 'totallyfreestuff'], ['ads', 'townhall'], ['ads', 'trinitymirror', 'co'], ['ads', 'tripod'], ['ads', 'tripod', 'lycos', 'co'], ['ads', 'tripod', 'lycos'], ['ads', 'tripod', 'lycos'], ['ads', 'tripod', 'lycos'], ['ads', 'tripod', 'lycos'], ['ads', 'tripod', 'spray'], ['ads', 'tso', 'dennisnet', 'co'], ['ads', 'uknetguide', 'co'], ['ads', 'ultimate-guitar'], ['ads', 'uncrate'], ['ads', 'undertone'], ['ads', 'usatoday'], ['ads', 'v3'], ['ads', 'verticalresponse'], ['ads', 'vgchartz'], ['ads', 'videosz'], ['ads', 'virtual-nights'], ['ads', 'virtualcountries'], ['ads', 'vnumedia'], ['ads', 'waps'], ['ads', 'wapx'], ['ads', 'weather'], ['ads', 'web', 'aol'], ['ads', 'web', 'cs'], ['ads', 'web'], ['ads', 'webmasterpoint'], ['ads', 'websiteservices'], ['ads', 'whi', 'co'], ['ads', 'whoishostingthis'], ['ads', 'wiezoekje'], ['ads', 'wikia', 'nocookie'], ['ads', 'wineenthusiast'], ['ads', 'wunderground'], ['ads', 'wwe'], ['ads', 'xhamster'], ['ads', 'xtra', 'co'], ['ads', 'y-0'], ['ads', 'yimg'], ['ads', 'yldmgrimg'], ['ads', 'yourfreedvds'], ['ads', 'youtube'], ['ads', 'zdnet'], ['ads', 'ztod'], ['ads03', 'redtube'], ['ads1', 'canoe'], ['ads1', 'mediacapital'], ['ads1', 'msn'], ['ads1', 'rne'], ['ads1', 'theglobeandmail'], ['ads1', 'virtual-nights'], ['ads10', 'speedbit'], ['ads180'], ['ads2', 'brazzers'], ['ads2', 'clearchannel'], ['ads2', 'gamecity'], ['ads2', 'jubii'], ['ads2', 'net-communities', 'co'], ['ads2', 'oneplace'], ['ads2', 'rne'], ['ads2', 'virtual-nights'], ['ads2', 'xnet'], ['ads2004', 'treiberupdate'], ['ads3', 'gamecity'], ['ads3', 'virtual-nights'], ['ads4', 'clearchannel'], ['ads4', 'gamecity'], ['ads4', 'virtual-nights'], ['ads4homes'], ['ads5', 'canoe'], ['ads5', 'virtual-nights'], ['ads6', 'gamecity'], ['ads7', 'gamecity'], ['ads8'], ['adsatt', 'abc', 'starwave'], ['Adsatt', 'ABCNews', 'starwave'], ['adsatt', 'espn', 'go'], ['adsatt', 'espn', 'starwave'], ['Adsatt', 'go', 'starwave'], ['adsby', 'bidtheatre'], ['adscale'], ['adscholar'], ['adscience'], ['adscpm'], ['adsdaq'], ['adsdk'], ['adsend'], ['adserv', 'evo-x'], ['adserv', 'gamezone'], ['adserv', 'iafrica'], ['adserv', 'qconline'], ['adserv', 'quality-channel'], ['adserve', 'ams', 'rhythmxchange'], ['adserver-live', 'yoc'], ['adserver', '43plc'], ['adserver', '71i'], ['adserver', 'adultfriendfinder'], ['adserver', 'aidameter'], ['adserver', 'aol'], ['adserver', 'barrapunto'], ['adserver', 'beggarspromo'], ['adserver', 'betandwin'], ['adserver', 'bing'], ['adserver', 'bizhat'], ['adserver', 'break-even'], ['adserver', 'cams'], ['adserver', 'clashmusic'], ['adserver'], ['adserver', 'digitoday'], ['adserver', 'dotcommedia'], ['adserver', 'finditquick'], ['adserver', 'flossiemediagroup'], ['adserver', 'freecity'], ['adserver', 'freenet'], ['adserver', 'friendfinder'], ['adserver', 'hardsextube'], ['adserver', 'hardwareanalysis'], ['adserver', 'html'], ['adserver', 'irishwebmasterforum'], ['adserver', 'janes'], ['adserver', 'kyoceramita-europe'], ['adserver', 'libero'], ['adserver', 'news', 'com'], ['adserver', 'ngz-network'], ['adserver', 'nydailynews'], ['adserver', 'o2'], ['adserver', 'oddschecker'], ['adserver', 'omroepzeeland'], ['adserver'], ['adserver', 'portalofevil'], ['adserver', 'portugalmail'], ['adserver', 'portugalmail'], ['adserver', 'quizdingo'], ['adserver', 'realhomesex'], ['adserver', 'sanomawsoy'], ['adserver', 'sciflicks'], ['adserver', 'sharewareonline'], ['adserver', 'spankaway'], ['adserver', 'startnow'], ['adserver', 'theonering'], ['adserver', 'twitpic'], ['adserver', 'viagogo'], ['adserver', 'virginmedia'], ['adserver', 'yahoo'], ['adserver01'], ['adserver1-images', 'backbeatmedia'], ['adserver1', 'backbeatmedia'], ['adserver1', 'mindshare'], ['adserver1', 'mokono'], ['adserver1', 'ogilvy-interactive'], ['adserver2', 'mindshare'], ['adserver2', 'popdata'], ['adserverplus'], ['adserversolutions'], ['adservinginternational'], ['adsfac'], ['adsfac'], ['adsfac'], ['adshost1'], ['adside'], ['adsk2'], ['adskape'], ['adsklick'], ['adsmarket'], ['adsmart', 'co'], ['adsmart'], ['adsmart'], ['adsmogo'], ['adsnative'], ['adsoftware'], ['adsoldier'], ['adsonar'], ['adspace'], ['adspeed'], ['adspirit'], ['adsponse'], ['adsremote', 'scrippsnetworks'], ['adsrevenue'], ['adsrv', 'deviantart'], ['adsrv', 'eacdn'], ['adsrv', 'iol', 'co'], ['adsrvr'], ['adsstat'], ['adstat', '4u'], ['adstest', 'weather'], ['adsupply'], ['adsupplyads'], ['adswitcher'], ['adsymptotic'], ['adsynergy'], ['adsys', 'townnews'], ['adsystem', 'simplemachines'], ['adtech'], ['adtechus'], ['adtegrity'], ['adthis'], ['adtiger'], ['adtoll'], ['adtology'], ['adtoma'], ['adtrace'], ['adtrade'], ['adtrading'], ['adtrak'], ['adtriplex'], ['adultadvertising'], ['adv-adserver'], ['adv-banner', 'libero'], ['adv', 'cooperhosting'], ['adv', 'freeonline'], ['adv', 'hwupgrade'], ['adv', 'livedoor'], ['adv', 'webmd'], ['adv', 'wp'], ['adv', 'yo'], ['advariant'], ['adventory'], ['advert', 'bayarea'], ['advert', 'dyna', 'ultraweb'], ['adverticum'], ['adverticum'], ['adverticus'], ['advertise'], ['advertiseireland'], ['advertisespace'], ['advertising'], ['advertising', 'guildlaunch'], ['advertisingbanners'], ['advertisingbox'], ['advertmarket'], ['advertmedia'], ['advertpro', 'sitepoint'], ['advertpro', 'ya'], ['adverts', 'carltononline'], ['advertserve'], ['advertstream'], ['advertwizard'], ['advideo', 'uimserv'], ['adview', 'ppro'], ['advisormedia'], ['adviva'], ['adviva'], ['advnt'], ['adwareremovergold'], ['adwhirl'], ['adwitserver'], ['adworldnetwork'], ['adworx'], ['adworx'], ['adworx'], ['adx', 'allstar'], ['adx', 'atnext'], ['adx', 'gainesvillesun'], ['adxpansion'], ['adxpose'], ['adxvalue'], ['adyea'], ['adzerk'], ['adzerk', 's3', 'amazonaws'], ['adzones'], ['af-ad', 'co'], ['affbuzzads'], ['affili'], ['affiliate', '1800flowers'], ['affiliate', '7host'], ['affiliate', 'doubleyourdating'], ['affiliate', 'dtiserv'], ['affiliate', 'gamestop'], ['affiliate', 'mercola'], ['affiliate', 'mogs'], ['affiliate', 'offgamers'], ['affiliate', 'travelnow'], ['affiliate', 'viator'], ['affiliatefuel'], ['affiliatefuture'], ['affiliates', 'allposters'], ['affiliates', 'babylon'], ['affiliates', 'devilfishpartners'], ['affiliates', 'digitalriver'], ['affiliates', 'globat'], ['affiliates', 'ige'], ['affiliates', 'internationaljock'], ['affiliates', 'jlist'], ['affiliates', 'streamray'], ['affiliates', 'thinkhost'], ['affiliates', 'thrixxx'], ['affiliates', 'ultrahosting'], ['affiliatetracking'], ['affiliatetracking'], ['affiliatewindow'], ['affiliation-france'], ['afftracking', 'justanswer'], ['ah-ha'], ['ahalogy'], ['aidu-ads'], ['aim4media'], ['aistat'], ['aktrack', 'pubmatic'], ['alclick'], ['alenty'], ['alexa-sitestats', 's3', 'amazonaws'], ['all4spy'], ['alladvantage'], ['allosponsor'], ['amazingcounters'], ['amazon-adsystem'], ['amung'], ['an', 'tacoda'], ['anahtars'], ['analytics', 'adpost'], ['analytics', 'google'], ['analytics', 'live'], ['analytics', 'yahoo'], ['anm', 'intelli-direct'], ['annonser', 'dagbladet'], ['apex-ad'], ['api', 'intensifier'], ['apture'], ['arc1', 'msn'], ['arcadebanners'], ['ard', 'xxxblackbook'], ['are-ter'], ['as', 'webmd'], ['as1', 'advfn'], ['as2', 'advfn'], ['as5000'], ['assets1', 'exgfnetwork'], ['assoc-amazon'], ['at-adserver', 'alltop'], ['atdmt'], ['athena-ads', 'wikia'], ['atwola'], ['auctionads'], ['auctionads'], ['audience2media'], ['audit', 'median'], ['audit', 'webinform'], ['auto-bannertausch'], ['autohits'], ['avenuea'], ['avpa', 'javalobby'], ['avres'], ['avsads'], ['awempire'], ['awin1'], ['aylarl'], ['azfront'], ['b-1st'], ['b', 'aol'], ['b', 'engadget'], ['ba', 'afl', 'rakuten', 'co'], ['babs', 'tv2'], ['backbeatmedia'], ['banik', 'redigy'], ['banner-exchange-24'], ['banner', 'ad'], ['banner', 'alphacool'], ['banner', 'ambercoastcasino'], ['banner', 'blogranking'], ['banner', 'buempliz-online'], ['banner', 'casino'], ['banner', 'casinodelrio'], ['banner', 'cotedazurpalace'], ['banner', 'coza'], ['banner'], ['banner', 'easyspace'], ['banner', 'elisa'], ['banner', 'eurogrand'], ['banner', 'featuredusers'], ['banner', 'getgo'], ['banner', 'goldenpalace'], ['banner', 'img', 'co'], ['banner', 'inyourpocket'], ['banner', 'jobsahead'], ['banner', 'joylandcasino'], ['banner', 'kiev'], ['banner', 'linux'], ['banner', 'media-system'], ['banner', 'mindshare'], ['banner', 'nixnet'], ['banner', 'noblepoker'], ['banner', 'northsky'], ['banner', 'orb'], ['banner', 'penguin'], ['banner', 'prestigecasino'], ['banner', 'rbc'], ['banner', 'relcom'], ['banner', 'tanto'], ['banner', 'titan-dsl'], ['banner', 'vadian'], ['banner', 'webmersion'], ['banner', 'wirenode'], ['bannerads'], ['bannerboxes'], ['bannercommunity'], ['bannerconnect'], ['bannerconnect'], ['bannerexchange', 'cjb'], ['bannerflow'], ['bannergrabber', 'internet'], ['bannerhost'], ['bannerimage'], ['bannerlandia', 'com'], ['bannermall'], ['bannermarkt'], ['bannerpower'], ['banners', 'adultfriendfinder'], ['banners', 'amigos'], ['banners', 'apnuk'], ['banners', 'asiafriendfinder'], ['banners', 'audioholics'], ['banners', 'babylon-x'], ['banners', 'bol', 'com'], ['banners', 'cams'], ['banners', 'clubseventeen'], ['banners', 'czi'], ['banners', 'dine'], ['banners', 'direction-x'], ['banners', 'directnic'], ['banners', 'easydns'], ['banners', 'ebay'], ['banners', 'freett'], ['banners', 'friendfinder'], ['banners', 'getiton'], ['banners', 'iq'], ['banners', 'isoftmarketing'], ['banners', 'lifeserv'], ['banners', 'linkbuddies'], ['banners', 'passion'], ['banners', 'resultonline'], ['banners', 'sexsearch'], ['banners', 'sys-con'], ['banners', 'thomsonlocal'], ['banners', 'videosz'], ['banners', 'virtuagirlhd'], ['banners', 'wunderground'], ['bannerserver'], ['bannersgomlm'], ['bannershotlink', 'perfectgonzo'], ['bannersng', 'yell'], ['bannerspace'], ['bannerswap'], ['bannertesting'], ['bannery'], ['bannieres', 'acces-contenu'], ['bans', 'adserver', 'co'], ['bans', 'bride'], ['barnesandnoble', 'bfast'], ['baypops'], ['bbelements'], ['bbn', 'img', 'com'], ['begun'], ['belstat'], ['belstat'], ['berp'], ['best-pr'], ['best-top'], ['bestsearch'], ['bhclicks'], ['bidclix'], ['bidclix'], ['bidtrk'], ['bidvertiser'], ['bigads', 'guj'], ['bigbangmedia'], ['bigclicks'], ['billboard'], ['bitads'], ['bitmedianetwork'], ['bizad', 'nikkeibp', 'co'], ['bizrate'], ['blast4traffic'], ['blingbucks'], ['blogads'], ['blogcounter'], ['blogherads'], ['blogrush'], ['blogtoplist'], ['blogtopsites'], ['blueadvertise'], ['bluekai'], ['bluelithium'], ['bluewhaleweb'], ['bm', 'annonce'], ['bn', 'bfast'], ['boersego-ads'], ['boldchat'], ['boom'], ['boomads'], ['boost-my-pr'], ['box', 'anchorfree'], ['bpath'], ['braincash'], ['brandreachsys'], ['bravenet', 'com'], ['bridgetrack'], ['brightinfo'], ['british-banners'], ['bs', 'yandex'], ['budsinc'], ['bullseye', 'backbeatmedia'], ['buyhitscheap'], ['buysellads'], ['buzzonclick'], ['bvalphaserver'], ['bwp', 'download'], ['c', 'bigmir'], ['c', 'compete'], ['c1', 'nowlinux'], ['campaign', 'bharatmatrimony'], ['caniamedia'], ['carbonads'], ['carbonads'], ['casalemedia'], ['casalmedia'], ['cash4members'], ['cash4popup'], ['cashcrate'], ['cashengines'], ['cashfiesta'], ['cashlayer'], ['cashpartner'], ['casinogames'], ['casinopays'], ['casinorewards'], ['casinotraffic'], ['casinotreasure'], ['cbanners', 'virtuagirlhd'], ['cben1'], ['cbmall'], ['cbx'], ['cdn', 'freefacti'], ['cecash'], ['ceskydomov', 'alias', 'ngs', 'modry'], ['cetrk'], ['cgicounter', 'puretec'], ['ch', 'questionmarket'], ['channelintelligence'], ['chart'], ['chartbeat'], ['chartbeat'], ['checkm8'], ['checkstat'], ['chestionar'], ['chitika'], ['cibleclick'], ['cityads', 'telus'], ['cj'], ['cjbmanagement'], ['cjlog'], ['claria'], ['class-act-clicks'], ['click', 'absoluteagency'], ['click', 'fool'], ['click', 'kmindex'], ['click2freemoney'], ['click2paid'], ['clickability'], ['clickadz'], ['clickagents'], ['clickbank'], ['clickbank'], ['clickbooth'], ['clickboothlnk'], ['clickbrokers'], ['clickcompare', 'co'], ['clickdensity'], ['clickedyclick'], ['clickhereforcellphones'], ['clickhouse'], ['clickhype'], ['clicklink'], ['clickmedia'], ['clicks', 'equantum'], ['clicks', 'mods'], ['clickserve', 'cc-dt'], ['clicksor'], ['clicktag'], ['clickthruserver'], ['clickthrutraffic'], ['clicktrace'], ['clicktrack', 'ziyu'], ['clicktracks'], ['clicktrade'], ['clickxchange'], ['clickz'], ['clickzxc'], ['clicmanager'], ['clients', 'tbo'], ['clixgalore'], ['clkads'], ['clkrev'], ['cluster', 'adultworld'], ['clustrmaps'], ['cmpstar'], ['cnomy'], ['cnt', 'spbland'], ['cnt1', 'pocitadlo'], ['code-server'], ['colonize'], ['comclick'], ['commindo-media-ressourcen'], ['commissionmonster'], ['compactbanner'], ['comprabanner'], ['connextra'], ['contaxe'], ['content', 'acc-hd'], ['content'], ['contentabc'], ['contextweb'], ['conversantmedia'], ['conversionruler'], ['cookies', 'cmpnet'], ['coremetrics'], ['count', 'rbc'], ['count', 'rin'], ['count', 'west263'], ['counted'], ['counter', 'avtoindex'], ['counter', 'bloke'], ['counter', 'cnw'], ['counter'], ['counter', 'dreamhost'], ['counter', 'fateback'], ['counter', 'mirohost'], ['counter', 'mojgorod'], ['counter', 'nowlinux'], ['counter', 'rambler'], ['counter', 'search'], ['counter', 'sparklit'], ['counter', 'yadro'], ['counters', 'honesty'], ['counting', 'kmindex'], ['counts', 'tucows'], ['coupling-media'], ['cpalead'], ['cpays'], ['cpmaffiliation'], ['cpmstar'], ['cpxadroit'], ['cpxinteractive'], ['cqcounter'], ['crakmedia'], ['craktraffic'], ['crawlability'], ['crazypopups'], ['creafi-online-media'], ['creative', 'ak', 'facebook'], ['creative', 'whi', 'co'], ['creatives', 'as4x', 'tmcs'], ['creatives', 'livejasmin'], ['crispads'], ['criteo'], ['crowdgravity'], ['crtv', 'mate1'], ['crwdcntrl'], ['ctnetwork'], ['cubics'], ['customad', 'cnn'], ['cyberbounty'], ['cybermonitor'], ['d', 'adroll'], ['dakic-ia-300'], ['danban'], ['dapper'], ['datashreddergold'], ['dbbsrv'], ['dc-storm'], ['de17a'], ['dealdotcom'], ['debtbusterloans'], ['decknetwork'], ['deloo'], ['demandbase'], ['depilflash'], ['di1', 'shopping'], ['dialerporn'], ['didtheyreadit'], ['direct-xxx-access'], ['directaclick'], ['directivepub'], ['directleads'], ['directorym'], ['directtrack'], ['discountclick'], ['displayadsmedia'], ['displaypagerank'], ['dist', 'belnk'], ['dmtracker'], ['dmtracking', 'alibaba'], ['dmtracking2', 'alibaba'], ['dnads', 'directnic'], ['domaining'], ['domainsponsor'], ['domainsteam'], ['doubleclick'], ['doubleclick'], ['doubleclick'], ['doublepimp'], ['drumcash'], ['dynamic', 'fmpub'], ['e-adimages', 'scrippsnetworks'], ['e-bannerx'], ['e-debtconsolidation'], ['e-m'], ['e-n-t-e-r-n-e-x'], ['e-planning'], ['e', 'kde'], ['eadexchange'], ['eas', 'almamedia'], ['easyhits4u'], ['ebayadvertising'], ['ebocornac'], ['ebuzzing'], ['ecircle-ag'], ['eclick'], ['ecoupons'], ['edgeio'], ['effectivemeasure'], ['effectivemeasure'], ['eiv', 'baidu'], ['elitedollars'], ['elitetoplist'], ['emarketer'], ['emediate'], ['emediate'], ['emonitor', 'takeit'], ['engine', 'awaps'], ['engine', 'espace', 'netavenir'], ['enginenetwork'], ['enoratraffic'], ['enquisite'], ['entercasino'], ['entrecard', 's3', 'amazonaws'], ['epiccash'], ['eqads'], ['ero-advertising'], ['esellerate'], ['estat'], ['etahub'], ['etargetnet'], ['ethicalads'], ['etracker'], ['eu-adcenter'], ['eu1', 'madsone'], ['eur', 'a1', 'yimg'], ['eurekster'], ['euro-linkindex'], ['euroclick'], ['european-toplist'], ['euroranking'], ['euros4click'], ['eusta'], ['evergage'], ['evidencecleanergold'], ['ewebcounter'], ['exchange-it'], ['exchange'], ['exchangead'], ['exchangeclicksonline'], ['exit76'], ['exitexchange'], ['exitfuel'], ['exoclick'], ['exogripper'], ['experteerads'], ['exponential'], ['express-submit'], ['extractorandburner'], ['extreme-dm'], ['extremetracking'], ['eyeblaster'], ['eyereturn'], ['eyeviewads'], ['eyewonder'], ['ezula'], ['f5biz'], ['fast-adv'], ['fastclick'], ['fastclick', 'com', 'edgesuite'], ['fastclick'], ['fb-promotions'], ['fc', 'webmasterpro'], ['feedbackresearch'], ['feedjit'], ['ffxcam', 'fairfax', 'com'], ['fimc'], ['fimserve'], ['findcommerce'], ['findyourcasino'], ['fineclicks'], ['first', 'nova'], ['firstlightera'], ['flashtalking'], ['fleshlightcash'], ['flexbanner'], ['flowgo'], ['flurry'], ['fonecta', 'leiki'], ['foo', 'cosmocode'], ['forex-affiliate'], ['fpctraffic'], ['fpctraffic2'], ['fragmentserv', 'iac-online'], ['free-banners'], ['freebanner'], ['freelogs'], ['freeonlineusers'], ['freepay'], ['freestats'], ['freestats'], ['freewebcounter'], ['funklicks'], ['funpageexchange'], ['fusionads'], ['fusionquest'], ['fxclix'], ['fxstyle'], ['galaxien'], ['game-advertising-online'], ['gamehouse'], ['gamesites100'], ['gamesites200'], ['gamesitestop100'], ['gator'], ['gbanners', 'hornymatches'], ['gemius'], ['geo', 'digitalpoint'], ['geobanner', 'adultfriendfinder'], ['geovisite'], ['german-linkindex'], ['getclicky'], ['globalismedia'], ['globaltakeoff'], ['globaltrack'], ['globe7'], ['globus-inter'], ['gmads'], ['go-clicks'], ['go-rank'], ['goingplatinum'], ['gold', 'weborama'], ['goldstats'], ['google-analytics'], ['googleadservices'], ['googlesyndication'], ['gostats'], ['gp', 'dejanews'], ['gpr'], ['grafstat'], ['grapeshot', 'co'], ['greystripe'], ['gtop'], ['gtop100'], ['harrenmedia'], ['harrenmedianetwork'], ['havamedia'], ['heias'], ['hentaicounter'], ['herbalaffiliateprogram'], ['hexusads', 'fluent', 'ltd'], ['heyos'], ['hgads'], ['hidden', 'gogoceleb'], ['hightrafficads'], ['histats'], ['hit-parade'], ['hit-ranking'], ['hit'], ['hit'], ['hit', 'webcentre', 'lycos', 'co'], ['hitbox'], ['hitcents'], ['hitexchange'], ['hitfarm'], ['hitiz'], ['hitlist'], ['hitlounge'], ['hitometer'], ['hits', 'europuls'], ['hits', 'informer'], ['hits', 'puls'], ['hits', 'theguardian'], ['hits4me'], ['hits4pay'], ['hitslink'], ['hittail'], ['hollandbusinessadvertising'], ['homepageking'], ['hostedads', 'realitykings'], ['hotkeys'], ['hotlog'], ['hotrank', 'com'], ['htmlhubing'], ['httpool'], ['hurricanedigitalmedia'], ['hydramedia'], ['hyperbanner'], ['hypertracker'], ['i-clicks'], ['i', 'xx', 'openx'], ['i1img'], ['i1media'], ['ia', 'iinfo'], ['iad', 'anm', 'co'], ['iadnet'], ['iasds01'], ['iconadserver'], ['icptrack'], ['idcounter'], ['identads'], ['idot'], ['idregie'], ['idtargeting'], ['ientrymail'], ['iesnare'], ['ifa', 'tube8live'], ['ilbanner'], ['ilead', 'itrack'], ['iliillliO00OO0', '321'], ['ilovecheating'], ['imageads', 'canoe'], ['imagecash'], ['images-pw', 'secureserver'], ['images', 'v3'], ['imarketservices'], ['img', 'prohardver'], ['imgpromo', 'easyrencontre'], ['imitrk'], ['imonitor', 'nethost'], ['imprese'], ['impressionmedia'], ['impressionz', 'co'], ['imrworldwide'], ['inboxdollars'], ['incentaclick'], ['indexstats'], ['indieclick'], ['industrybrains'], ['inetlog'], ['infinite-ads'], ['infinityads'], ['infolinks'], ['information'], ['inringtone'], ['insightexpress'], ['insightexpressai'], ['inspectorclick'], ['instantmadness'], ['intelliads'], ['intellitxt'], ['interactive', 'forthnet'], ['intergi'], ['internetfuel'], ['interreklame'], ['interstat'], ['ip'], ['ip193'], ['iperceptions'], ['ipro'], ['ireklama'], ['itfarm'], ['itop'], ['its-that-easy'], ['itsptp'], ['jcount'], ['jinkads'], ['joetec'], ['jokedollars'], ['js', 'users', '51'], ['juicyads'], ['jumptap'], ['justrelevant'], ['justwebads'], ['k', 'iinfo'], ['kanoodle'], ['keymedia'], ['kindads'], ['kissmetrics'], ['kliks'], ['komoona'], ['kompasads'], ['kontera'], ['kt-g'], ['ktu', 'sv2'], ['lakequincy'], ['layer-ad'], ['layer-ads'], ['lbn'], ['lct', 'salesforce'], ['lead-analytics'], ['leadaffiliates'], ['leadboltads'], ['leadclick'], ['leadingedgecash'], ['leadzupc'], ['leanoisgo'], ['levelrate'], ['lfstmedia'], ['liftdna'], ['ligatus'], ['ligatus'], ['lightningcast'], ['lightspeedcash'], ['link-booster'], ['link4ads'], ['linkadd'], ['linkbuddies'], ['linkexchange'], ['linkexchange'], ['linkprice'], ['linkrain'], ['linkreferral'], ['links-ranking'], ['linkshighway'], ['linkshighway'], ['linkstorms'], ['linkswaper'], ['linktarget'], ['liquidad', 'narrowcastmedia'], ['liveintent'], ['liverail'], ['loading321'], ['log', 'btopenworld'], ['logua'], ['lop'], ['lucidmedia'], ['lzjl'], ['m', 'webtrends'], ['m1', 'webstats4u'], ['m4n'], ['madclient', 'uimserv'], ['madisonavenue'], ['mads', 'cnet'], ['madvertise'], ['marchex'], ['market-buster'], ['marketing', '888'], ['marketing', 'hearstmagazines'], ['marketing', 'nyi'], ['marketing', 'osijek031'], ['marketingsolutions', 'yahoo'], ['maroonspider'], ['mas', 'sector'], ['mastermind'], ['matchcraft'], ['mathtag'], ['max', 'i12'], ['maximumcash'], ['mbn', 'com'], ['mbs', 'megaroticlive'], ['mbuyu'], ['mdotm'], ['measuremap'], ['media-adrunner', 'mycomputer'], ['media-servers'], ['media', 'ftv-publicite'], ['media', 'funpic'], ['media6degrees'], ['mediaarea'], ['mediacharger'], ['mediadvertising'], ['mediageneral'], ['mediamath'], ['mediamgr', 'ugo'], ['mediaplazza'], ['mediaplex'], ['mediascale'], ['mediatext'], ['mediax', 'angloinfo'], ['mediaz', 'angloinfo'], ['medleyads'], ['medyanetads'], ['megacash'], ['megago'], ['megastats'], ['megawerbung'], ['memorix', 'sdv'], ['metaffiliation'], ['metanetwork'], ['methodcash'], ['metrics', 'windowsitpro'], ['mgid'], ['miarroba'], ['microstatic'], ['microticker'], ['midnightclicking'], ['mintrace'], ['misstrends'], ['mixpanel'], ['mixtraffic'], ['mlm'], ['mmismm'], ['mmtro'], ['moatads'], ['mobclix'], ['mocean'], ['moneyexpert'], ['monsterpops'], ['mopub'], ['mouseflow'], ['mpstat'], ['mr-rank'], ['mrskincash'], ['mtree'], ['musiccounter'], ['muwmedia'], ['myaffiliateprogram'], ['mybloglog'], ['mycounter'], ['mypagerank'], ['mypagerank'], ['mypowermall'], ['mystat-in'], ['mystat'], ['mytop-in'], ['n69'], ['naiadsystems'], ['naj'], ['namimedia'], ['nastydollars'], ['navigator'], ['navrcholu'], ['nbjmp'], ['ndparking'], ['nedstat'], ['nedstat'], ['nedstatbasic'], ['nedstatpro'], ['nend'], ['neocounter', 'neoworx-blog-tools'], ['neoffic'], ['net-filter'], ['netaffiliation'], ['netagent'], ['netclickstats'], ['netcommunities'], ['netdirect'], ['netflame'], ['netincap'], ['netpool', 'netbookia'], ['netshelter'], ['network', 'business'], ['neudesicmediagroup'], ['newads', 'bangbros'], ['newbie'], ['newnet', 'qsrch'], ['newnudecash'], ['newopenx', 'detik'], ['newt1', 'adultadworld'], ['newt1', 'adultworld'], ['newtopsites'], ['ng3', 'ads', 'warnerbros'], ['ngs', 'impress', 'co'], ['nitroclicks'], ['novem'], ['nuggad'], ['numax', 'nu-1'], ['nuseek'], ['oas', 'benchmark'], ['oas', 'foxnews'], ['oas', 'repubblica'], ['oas', 'roanoke'], ['oas', 'salon'], ['oas', 'toronto'], ['oas', 'uniontrib'], ['oas', 'villagevoice'], ['oascentral', 'businessweek'], ['oascentral', 'chicagobusiness'], ['oascentral', 'fortunecity'], ['oascentral', 'register'], ['oewa'], ['oewabox'], ['offerforge'], ['offermatica'], ['olivebrandresponse'], ['omniture'], ['onclasrv'], ['onclickads'], ['oneandonlynetwork'], ['onenetworkdirect'], ['onestat'], ['onestatfree'], ['onewaylinkexchange'], ['online-metrix'], ['onlinecash'], ['onlinecashmethod'], ['onlinerewardcenter'], ['openad', 'tf1'], ['openad', 'travelnow'], ['openads', 'friendfinder'], ['openads'], ['openclick'], ['openx', 'angelsgroup', 'org'], ['openx', 'blindferret'], ['opienetwork'], ['optimost'], ['optmd'], ['ordingly'], ['ota', 'cartrawler'], ['otto-images', 'developershed'], ['outbrain'], ['overture'], ['owebmoney'], ['oxado'], ['oxcash'], ['oxen', 'hillcountrytexas'], ['p', 'adpdx'], ['pagead', 'l', 'google'], ['pagefair'], ['pagerank-estate-spb'], ['pagerank-ranking'], ['pagerank-ranking'], ['pagerank-server7'], ['pagerank-submitter'], ['pagerank-submitter'], ['pagerank-suchmaschine'], ['pagerank-united'], ['pagerank4u'], ['pagerank4you'], ['pageranktop'], ['partage-facile'], ['partner-ads'], ['partner', 'pelikan'], ['partnerad', 'l', 'google'], ['partnercash'], ['partners', 'priceline'], ['passion-4'], ['pay-ads'], ['paycounter'], ['paypopup'], ['payserve'], ['pbnet'], ['pcash', 'imlive'], ['peep-auktion'], ['peer39'], ['pennyweb'], ['pepperjamnetwork'], ['percentmobile'], ['perf', 'weborama'], ['perfectaudience'], ['perfiliate'], ['performancerevenue'], ['performancerevenues'], ['performancing'], ['pgmediaserve'], ['pgpartner'], ['pheedo'], ['phoenix-adrunner', 'mycomputer'], ['phpadsnew', 'new', 'natuurpark'], ['phpmyvisites'], ['picadmedia'], ['pillscash'], ['pimproll'], ['pixel', 'adsafeprotected'], ['pixel', 'jumptap'], ['planetactive'], ['play4traffic'], ['playhaven'], ['plista'], ['plugrush'], ['pointroll'], ['pop-under'], ['popads'], ['popub'], ['popunder'], ['popup', 'msn'], ['popupmoney'], ['popupnation'], ['popups', 'infostart'], ['popuptraffic'], ['porngraph'], ['porntrack'], ['postrelease'], ['potenza'], ['pr-star'], ['pr-ten'], ['pr5dir'], ['praddpro'], ['prchecker'], ['precisioncounter'], ['predictad'], ['premium-offers'], ['primaryads'], ['primetime'], ['privatecash'], ['pro-advertising'], ['pro', 'i-doctor', 'co'], ['proext'], ['profero'], ['projectwonderful'], ['promo', 'badoink'], ['promo', 'ulust'], ['promo1', 'webcams'], ['promobenef'], ['promos', 'fling'], ['promote', 'pair'], ['promotion-campaigns'], ['pronetadvertising'], ['propellerads'], ['proranktracker'], ['proton-tm'], ['protraffic'], ['provexia'], ['prsitecheck'], ['psstt'], ['pub', 'chez'], ['pub', 'club-internet'], ['pub', 'hardware'], ['pub', 'realmedia'], ['pubdirecte'], ['publicidad', 'elmundo'], ['pubmatic'], ['pubs', 'lemonde'], ['pulse360'], ['q', 'azcentral'], ['qctop'], ['qnsr'], ['quantcast'], ['quantserve'], ['quarterserver'], ['questaffiliates'], ['quigo'], ['quinst'], ['quisma'], ['rad', 'msn'], ['radar', 'cedexis'], ['radarurl'], ['radiate'], ['rampidads'], ['rank-master'], ['rank-master'], ['rankchamp'], ['ranking-charts'], ['ranking-hits'], ['ranking-id'], ['ranking-links'], ['ranking-liste'], ['ranking-street'], ['rankingchart'], ['rankingscout'], ['rankyou'], ['rapidcounter'], ['rate'], ['ratings', 'lycos'], ['rb1', 'design'], ['re-directme'], ['reachjunction'], ['reactx'], ['readserver'], ['realcastmedia'], ['realclix'], ['realmedia-a800', 'd4p'], ['realtechnetwork'], ['realteencash'], ['realtracker'], ['reduxmedia'], ['reduxmediagroup'], ['reedbusiness'], ['reefaquarium'], ['referralware'], ['regnow'], ['reinvigorate'], ['reklam', 'rfsl'], ['reklama', 'mironet'], ['reklama', 'reflektor'], ['reklamcsere'], ['reklame', 'unwired-i'], ['reklamer', 'com'], ['relevanz10'], ['relmaxtop'], ['remotead', 'cnet'], ['republika', 'onet'], ['retargeter'], ['rev2pub'], ['revenue'], ['revenuedirect'], ['revsci'], ['revstats'], ['richmails'], ['richmedia', 'yimg'], ['richwebmaster'], ['rightstats'], ['rlcdn'], ['rle'], ['rmads', 'msn'], ['rmedia', 'boston'], ['roar'], ['robotreplay'], ['roia'], ['rok', 'com'], ['rose', 'ixbt'], ['rotabanner'], ['roxr'], ['rtbpop'], ['rtbpopd'], ['ru-traffic'], ['ru4'], ['rubiconproject'], ['s', 'adroll'], ['s2d6'], ['sageanalyst'], ['sbx', 'pagesjaunes'], ['scambiobanner', 'aruba'], ['scanscout'], ['scopelight'], ['scorecardresearch'], ['scratch2cash'], ['scripte-monster'], ['searchfeast'], ['searchmarketing'], ['searchramp'], ['secure', 'webconnect'], ['sedoparking'], ['sedotracker'], ['seeq', 'com'], ['sensismediasmart', 'com'], ['seo4india'], ['serv0'], ['servedbyadbutler'], ['servedbyopenx'], ['servethis'], ['services', 'hearstmags'], ['serving-sys'], ['sexaddpro'], ['sexadvertentiesite'], ['sexcounter'], ['sexinyourcity'], ['sexlist'], ['sextracker'], ['sexystat'], ['sezwho'], ['shareadspace'], ['shareasale'], ['sharepointads'], ['sher', 'index'], ['shinystat'], ['shinystat'], ['shoppingads'], ['siccash'], ['sidebar', 'angelfire'], ['sinoa'], ['sitebrand', 'geeks'], ['sitemerkezi'], ['sitemeter'], ['sitestat'], ['sixsigmatraffic'], ['skylink'], ['slickaffiliate'], ['slopeaota'], ['sma', 'punto'], ['smart4ads'], ['smartadserver'], ['smartbase', 'cdnservices'], ['smowtion'], ['snapads'], ['snoobi'], ['socialspark'], ['softclick', 'com'], ['spacash'], ['sparkstudios'], ['specificmedia', 'co'], ['specificpop'], ['spezialreporte'], ['spinbox', 'techtracker'], ['spinbox', 'versiontracker'], ['sponsorads'], ['sponsorpro'], ['sponsors', 'thoughtsmedia'], ['spot', 'fitness'], ['spotxchange'], ['sprinks-clicks', 'about'], ['spylog'], ['spywarelabs'], ['spywarenuker'], ['spywords'], ['srbijacafe'], ['srwww1'], ['starffa'], ['start', 'freeze'], ['stat', 'cliche'], ['stat', 'dealtime'], ['stat', 'dyna', 'ultraweb'], ['stat'], ['stat'], ['stat', 'tudou'], ['stat', 'webmedia'], ['stat', 'zenon'], ['stat24'], ['stat24', 'meta'], ['statcounter'], ['static', 'fmpub'], ['static', 'itrack'], ['staticads', 'btopenworld'], ['statistik-gallup'], ['statm', 'the-adult-company'], ['stats', 'blogger'], ['stats', 'cts-bv'], ['stats', 'directnic'], ['stats', 'hyperinzerce'], ['stats', 'mirrorfootball', 'co'], ['stats', 'olark'], ['stats', 'suite101'], ['stats', 'surfaid', 'ihost'], ['stats', 'townnews'], ['stats', 'unwired-i'], ['stats', 'wordpress'], ['stats', 'x14'], ['stats4all'], ['statsie'], ['statxpress'], ['steelhouse'], ['steelhousemedia'], ['stickyadstv'], ['suavalds'], ['subscribe', 'hearstmags'], ['sugoicounter'], ['superclix'], ['superstats'], ['supertop'], ['supertop100'], ['suptullog'], ['surfmusik-adserver'], ['swissadsolutions'], ['swordfishdc'], ['sx', 'trhnt'], ['t', 'insigit'], ['t', 'pusk'], ['taboola'], ['tacoda'], ['tagular'], ['tailsweep', 'co'], ['tailsweep'], ['tailsweep'], ['takru'], ['tangerinenet'], ['tapad'], ['targad'], ['targetingnow'], ['targetnet'], ['targetpoint'], ['tatsumi-sys'], ['tcads'], ['techclicks'], ['teenrevenue'], ['teliad'], ['text-link-ads'], ['textad', 'sexsearch'], ['textads'], ['textads', 'opera'], ['textlinks'], ['tfag'], ['theadhost'], ['theads'], ['thebugs'], ['thecounter'], ['therapistla'], ['therichkids'], ['thrnt'], ['thruport'], ['tinybar'], ['tizers'], ['tlvmedia'], ['tntclix', 'co'], ['top-casting-termine'], ['top-site-list'], ['top', 'list'], ['top', 'mail'], ['top', 'proext'], ['top100-images', 'rambler'], ['top100', 'mafia'], ['top123'], ['top20'], ['top20free'], ['top90'], ['topbarh', 'box'], ['topblogarea'], ['topbucks'], ['topforall'], ['topgamesites'], ['toplist'], ['toplist', 'pornhost'], ['toplista', 'mw'], ['toplistcity'], ['topmmorpgsites'], ['topping', 'com'], ['toprebates'], ['topsafelist'], ['topsearcher'], ['topsir'], ['topsite'], ['topsites', 'com'], ['topstats'], ['totemcash'], ['touchclarity'], ['touchclarity', 'natwest'], ['tour', 'brazzers'], ['tpnads'], ['track', 'adform'], ['track', 'anchorfree'], ['track', 'gawker'], ['trackalyzer'], ['tracker', 'icerocket'], ['tracker', 'marinsm'], ['tracking', 'crunchiemedia'], ['tracking', 'gajmp'], ['tracking', 'internetstores'], ['tracking', 'yourfilehost'], ['tracking101'], ['trackingsoft'], ['trackmysales'], ['tradeadexchange'], ['tradedoubler'], ['traffic-exchange'], ['traffic', 'liveuniversenetwork'], ['trafficadept'], ['trafficcdn', 'liveuniversenetwork'], ['trafficfactory'], ['trafficholder'], ['traffichunt'], ['trafficjunky'], ['trafficleader'], ['trafficsecrets'], ['trafficspaces'], ['trafficstrategies'], ['trafficswarm'], ['traffictrader'], ['trafficz'], ['trafficz'], ['traffiq'], ['trafic'], ['travis', 'bosscasinos'], ['trekblue'], ['trekdata'], ['trendcounter'], ['trhunt'], ['tribalfusion'], ['trix'], ['truehits'], ['truehits1', 'gits', 'net'], ['truehits2', 'gits', 'net'], ['tsms-ad', 'tsms'], ['tubedspots'], ['tubemogul'], ['turn'], ['tvas-a'], ['tvas-c'], ['tvmtracker'], ['twittad'], ['tyroo'], ['uarating'], ['ukbanners'], ['ultramercial'], ['ultsearch'], ['unanimis', 'co'], ['untd'], ['updated'], ['urlcash'], ['us', 'a1', 'yimg'], ['usapromotravel'], ['usmsad', 'tom'], ['utarget', 'co'], ['utils', 'mediageneral'], ['v1', 'cnzz'], ['validclick'], ['valuead'], ['valueclick'], ['valueclickmedia'], ['valuecommerce'], ['valuesponsor'], ['veille-referencement'], ['ventivmedia'], ['vericlick'], ['vertadnet'], ['veruta'], ['vervewireless'], ['vibrantmedia'], ['video-stats', 'video', 'google'], ['videoegg'], ['view4cash'], ['viewpoint'], ['visistat'], ['visit', 'webhosting', 'yahoo'], ['visitbox'], ['visual-pagerank'], ['visualrevenue'], ['voicefive'], ['vpon'], ['vrs'], ['vs', 'tucows'], ['vungle'], ['wads', 'webteh'], ['warlog'], ['warlog'], ['wdads', 'sx', 'atl', 'publicus'], ['web-stat'], ['web', 'informer'], ['web2', 'deja'], ['webads', 'co'], ['webads'], ['webangel'], ['webcash'], ['webcounter'], ['webcounter', 'goweb'], ['webgains'], ['webmaster-partnerprogramme24'], ['webmasterplan'], ['webmasterplan'], ['weborama'], ['webpower'], ['webreseau'], ['webseoanalytics'], ['websponsors'], ['webstat', 'channel4'], ['webstat'], ['webstat'], ['webstats4u'], ['webtrackerplus'], ['webtraffic'], ['webtraxx'], ['webtrendslive'], ['wegcash'], ['werbung', 'meteoxpress'], ['wetrack'], ['whaleads'], ['whenu'], ['whispa'], ['whoisonline'], ['wholesaletraffic'], ['widespace'], ['widgetbucks'], ['wikia-ads', 'wikia'], ['window', 'nixnet'], ['wintricksbanner', 'googlepages'], ['witch-counter'], ['wlmarketing'], ['wmirk'], ['wonderlandads'], ['wondoads'], ['woopra'], ['worldwide-cash'], ['wtlive'], ['www-banner', 'chat'], ['www-google-analytics', 'l', 'google'], ['www', 'banner-link', 'com'], ['www', 'dnps'], ['www', 'kaplanindex'], ['www', 'money4exit'], ['www', 'photo-ads', 'co'], ['www1', 'gto-media'], ['www8', 'glam'], ['x-traceur'], ['x6', 'yakiuchi'], ['xchange'], ['xclicks'], ['xertive'], ['xg4ken'], ['xiti'], ['xplusone'], ['xponsor'], ['xq1'], ['xrea'], ['xtendmedia'], ['xtremetop100'], ['xxxcounter'], ['xxxmyself'], ['y', 'ibsys'], ['yab-adimages', 's3', 'amazonaws'], ['yabuka'], ['yadro'], ['yesads'], ['yesadvertising'], ['yieldads'], ['yieldlab'], ['yieldmanager'], ['yieldmanager'], ['yieldtraffic'], ['yoc'], ['yoggrt'], ['z5x'], ['zangocash'], ['zanox-affiliate'], ['zanox'], ['zantracker'], ['zedo'], ['zencudo', 'co'], ['zenkreka'], ['zenzuu'], ['zeus', 'developershed'], ['zeusclicks'], ['zintext'], ['zmedia']]\n",
      "0\n"
     ]
    }
   ],
   "source": [
    "# build adwords corpus\n",
    "# take out . and .com\n",
    "\n",
    "adcol=[]\n",
    "for ali in adlist:\n",
    "   splits = ali.split('.')\n",
    "    #this composition took a while !\n",
    "   akeys = [a for (idx,a) in enumerate(splits) if idx < len(splits)-1 ]\n",
    "   adcol.append(akeys)\n",
    "\n",
    "print(adcol)   \n",
    "\n",
    "count=0\n",
    "for htlink in httplinks:\n",
    "    for adc in adcol:\n",
    "        for ad in adc:\n",
    "            if htlink.find(ad) > -1:\n",
    "                count = count+1\n",
    "                break\n",
    "            break \n",
    "        break    \n",
    "print(count)        "
   ]
  },
  {
   "cell_type": "code",
   "execution_count": null,
   "metadata": {
    "collapsed": false
   },
   "outputs": [],
   "source": [
    "# test to see if we have doubleclick in there or not\n",
    "for adlink in adlist:\n",
    "    if 'double' in adlink: \n",
    "        print(adlink)\n",
    "        \n",
    "        "
   ]
  },
  {
   "cell_type": "markdown",
   "metadata": {},
   "source": [
    "Save any matches between the two lists into a new list"
   ]
  },
  {
   "cell_type": "code",
   "execution_count": null,
   "metadata": {
    "collapsed": false
   },
   "outputs": [],
   "source": [
    "from bs4 import BeautifulSoup\n",
    "from selenium import webdriver\n",
    "#Take Forbes.com or WSJ and see if it works\n",
    "browser = webdriver.Firefox()\n",
    "browser.get(\"http://www.wsj.com\")\n",
    "hs = browser.page_source\n",
    "\n",
    "bspage = BeautifulSoup(hs, \"html.parser\") #or \"html.parser\"\n",
    "\n",
    "httplinks = extracthttplinks(bspage)\n",
    "\n",
    "print(len(httplinks))\n",
    "print(httplinks)\n",
    "\n",
    "#find matches between two lists, and save the matches into a new list\n",
    "admatches = list(set(extracthttplinks(bspage)).intersection(adlist))\n",
    "\n",
    "# check length of the list of matches -- if 0 matches found, then print \"No matches found.\"\n",
    "if len(admatches) == 0:\n",
    "    print(\"No matches found.\")\n",
    "else:\n",
    "    print(admatches)"
   ]
  },
  {
   "cell_type": "code",
   "execution_count": null,
   "metadata": {
    "collapsed": false
   },
   "outputs": [],
   "source": [
    "bspage.find_all('link')"
   ]
  },
  {
   "cell_type": "code",
   "execution_count": null,
   "metadata": {
    "collapsed": false
   },
   "outputs": [],
   "source": [
    "# This was interesting , tried Forbes, WSJ and there were no matches. Lead to the \n",
    "#questionability of the list or the extraction of links \n",
    "\n",
    "#Search for 'ad' in each element of the list\n",
    "\n",
    "def findAdKeywordCount(htlinks):\n",
    "    count = 0\n",
    "    for link in htlinks:\n",
    "        if ('ad') in link or ('AD' in link):\n",
    "            count = count + 1\n",
    "            print(link)\n",
    "    return count\n",
    "\n",
    "matchingadlinks = findAdKeywordCount(httplinks)\n",
    "\n",
    "print(matchingadlinks)\n"
   ]
  },
  {
   "cell_type": "code",
   "execution_count": 8,
   "metadata": {
    "collapsed": false
   },
   "outputs": [
    {
     "name": "stdout",
     "output_type": "stream",
     "text": [
      "No matches found.\n",
      "<FreqDist with 67 samples and 2411 outcomes>\n"
     ]
    },
    {
     "data": {
      "text/plain": [
       "[('com', 1582),\n",
       " ('net', 202),\n",
       " ('de', 167),\n",
       " ('cz', 59),\n",
       " ('ru', 52),\n",
       " ('uk', 34),\n",
       " ('nl', 32),\n",
       " ('it', 19),\n",
       " ('fr', 18),\n",
       " ('ro', 17),\n",
       " ('pl', 16),\n",
       " ('hu', 15),\n",
       " ('org', 14),\n",
       " ('se', 13),\n",
       " ('ua', 10),\n",
       " ('biz', 10),\n",
       " ('au', 10),\n",
       " ('dk', 9),\n",
       " ('jp', 8),\n",
       " ('ca', 7),\n",
       " ('eu', 7),\n",
       " ('nz', 6),\n",
       " ('br', 6),\n",
       " ('info', 6),\n",
       " ('tv', 5),\n",
       " ('gr', 5),\n",
       " ('pt', 4),\n",
       " ('ch', 4),\n",
       " ('at', 4),\n",
       " ('cn', 4),\n",
       " ('sk', 3),\n",
       " ('za', 3),\n",
       " ('bg', 3),\n",
       " ('es', 3),\n",
       " ('mobi', 3),\n",
       " ('no', 3),\n",
       " ('us', 3),\n",
       " ('vn', 3),\n",
       " ('invalid', 3),\n",
       " ('be', 3),\n",
       " ('fi', 3),\n",
       " ('cc', 2),\n",
       " ('lv', 2),\n",
       " ('th', 2),\n",
       " ('il', 2),\n",
       " ('pw', 2),\n",
       " ('ar', 2),\n",
       " ('sg', 2),\n",
       " ('la', 1),\n",
       " ('tw', 1),\n",
       " ('in', 1),\n",
       " ('id', 1),\n",
       " ('vu', 1),\n",
       " ('ws', 1),\n",
       " ('me', 1),\n",
       " ('ae', 1),\n",
       " ('lt', 1),\n",
       " ('su', 1),\n",
       " ('ly', 1),\n",
       " ('xyz', 1),\n",
       " ('pk', 1),\n",
       " ('ad', 1),\n",
       " ('to', 1),\n",
       " ('nu', 1),\n",
       " ('co', 1),\n",
       " ('kr', 1),\n",
       " ('io', 1)]"
      ]
     },
     "execution_count": 8,
     "metadata": {},
     "output_type": "execute_result"
    }
   ],
   "source": [
    "import nltk\n",
    "'''\n",
    "Common string operationds\n",
    " \n",
    "s.lower(), s.upper() -- returns the lowercase or uppercase version of the string\n",
    "s.strip() -- returns a string with whitespace removed from the start and end\n",
    "s.isalpha()/s.isdigit()/s.isspace()... -- tests if all the string chars are in the various character classes\n",
    "s.startswith('other'), s.endswith('other') -- tests if the string starts or ends with the given other string\n",
    "s.find('other') -- searches for the given other string (not a regular expression) within s, and returns the first index where it begins or -1 if not found\n",
    "s.replace('old', 'new') -- returns a string where all occurrences of 'old' have been replaced by 'new'\n",
    "s.split('delim') -- returns a list of substrings separated by the given delimiter. The delimiter is not a regular expression, it's just text. 'aaa,bbb,ccc'.split(',') -> ['aaa', 'bbb', 'ccc']. As a convenient special case s.split() (with no arguments) splits on all whitespace chars.\n",
    "s.join(list) -- opposite of split(), joins the elements in the given list together using the string as the delimiter. e.g. '---'.join(['aaa', 'bbb', 'ccc']) -> aaa---bbb---ccc\n",
    "'''\n",
    "\n",
    "# find matches between two lists, and save the matches into a new list\n",
    "admatches = list(set(httplinks).intersection(adlist))\n",
    "\n",
    "# check length of the list of matches -- if 0 matches found, then print \"No matches found.\"\n",
    "if len(admatches) == 0:\n",
    "    print(\"No matches found.\")\n",
    "else:\n",
    "    print(admatches)\n",
    "\n",
    "#gives freq count\n",
    "def findAdDExtCount(adlist):\n",
    "    extl=[]\n",
    "    for alist in adlist:\n",
    "        splits = alist.split('.')\n",
    "        ext = splits[len(splits)-1]\n",
    "        extl.append(ext)\n",
    "    ext_fd = nltk.FreqDist(extl)        \n",
    "    return ext_fd\n",
    "\n",
    "#gives list of ext\n",
    "def findAdDExtList(adlist):\n",
    "    extl=[]\n",
    "    for alist in adlist:\n",
    "        splits = alist.split('.')\n",
    "        ext = splits[len(splits)-1]\n",
    "        extl.append(ext)       \n",
    "    return extl\n",
    "\n",
    "\n",
    "fd = findAdDExtCount(adlist)\n",
    "print(fd) \n",
    "fd.most_common()\n",
    "    \n",
    "def checkAndSpewAdProviderCount(plinks):\n",
    "    #crude way - take each link,\n",
    "    # take the http link , drop the http, 'http://'\n",
    "    # split it into words - link\n",
    "    # iter through the ad provider list\n",
    "    # if match found, then count as 1 , continue on , \n",
    "    # the count we get at the end is the heavy count\n",
    "    \n",
    "    # ideal way would be to write regular expressions for each link\n",
    "    # we compile each one and run the link thru\n",
    "    "
   ]
  },
  {
   "cell_type": "code",
   "execution_count": 24,
   "metadata": {
    "collapsed": false
   },
   "outputs": [],
   "source": [
    "#Tangential stuff\n",
    "#visualize the ad providers -\n",
    "import matplotlib\n",
    "from numpy.random import randn\n",
    "\n",
    "\n",
    "# Configure notebook (happens automatically on data8.berkeley.edu)\n",
    "%matplotlib inline\n",
    "import matplotlib.pyplot as plt\n",
    "plt.style.use('fivethirtyeight')\n",
    "from datascience import *\n",
    "import numpy as np\n",
    "#\n",
    "extlist = findAdDExtList(adlist)\n",
    "\n",
    "# Make a normed histogram. It'll be multiplied by 100 later.\n",
    "#plt.hist(extlist)\n",
    "xb= dict(fd).keys()\n",
    "yb = list(dict(fd).values())\n",
    "\n"
   ]
  },
  {
   "cell_type": "code",
   "execution_count": 27,
   "metadata": {
    "collapsed": false
   },
   "outputs": [
    {
     "data": {
      "text/html": [
       "<div id=\"2aadb814-2e5b-40cf-8b7f-0713a5d5391e\" style=\"height: 525; width: 100%;\" class=\"plotly-graph-div\"></div><script type=\"text/javascript\">require([\"plotly\"], function(Plotly) { window.PLOTLYENV=window.PLOTLYENV || {};window.PLOTLYENV.BASE_URL=\"https://plot.ly\";Plotly.newPlot(\"2aadb814-2e5b-40cf-8b7f-0713a5d5391e\", [{\"type\": \"bar\", \"y\": [3, 19, 9, 15, 34, 10, 1, 3, 3, 6, 1582, 18, 2, 10, 1, 202, 3, 1, 59, 167, 4, 1, 1, 3, 1, 2, 1, 1, 4, 1, 5, 1, 8, 1, 3, 3, 32, 4, 2, 52, 6, 1, 16, 1, 2, 3, 3, 2, 3, 13, 2, 2, 4, 1, 1, 5, 1, 6, 17, 7, 7, 1, 1, 3, 14, 10, 1], \"x\": [\"sk\", \"it\", \"dk\", \"hu\", \"uk\", \"ua\", \"id\", \"mobi\", \"bg\", \"nz\", \"com\", \"fr\", \"il\", \"biz\", \"tw\", \"net\", \"us\", \"me\", \"cz\", \"de\", \"at\", \"su\", \"in\", \"invalid\", \"xyz\", \"pw\", \"ly\", \"to\", \"cn\", \"la\", \"gr\", \"co\", \"jp\", \"io\", \"be\", \"fi\", \"nl\", \"pt\", \"cc\", \"ru\", \"br\", \"kr\", \"pl\", \"vu\", \"th\", \"es\", \"za\", \"ar\", \"no\", \"se\", \"sg\", \"lv\", \"ch\", \"ae\", \"lt\", \"tv\", \"pk\", \"info\", \"ro\", \"eu\", \"ca\", \"ws\", \"ad\", \"vn\", \"org\", \"au\", \"nu\"]}], {}, {\"linkText\": \"Export to plot.ly\", \"showLink\": true})});</script>"
      ],
      "text/plain": [
       "<IPython.core.display.HTML object>"
      ]
     },
     "metadata": {},
     "output_type": "display_data"
    }
   ],
   "source": [
    "from plotly import __version__\n",
    "from plotly.offline import download_plotlyjs, init_notebook_mode, iplot\n",
    "\n",
    "init_notebook_mode() # run at the start of every ipython notebook to use plotly.offline\n",
    "                     # this injects the plotly.js source files into the notebook\n",
    "from plotly.offline import plot\n",
    "import plotly.graph_objs as go\n",
    "#py.sign_in('ajijohn', '6s0ts09wsg')\n",
    "\n",
    "#For Plotly to work, it needs to be greater than 1.9.0\n",
    "#print(__version__) # requires version >= 1.9.0\n",
    "\n",
    "init_notebook_mode()\n",
    "\n",
    "data = [\n",
    "    go.Bar(\n",
    "        x=list(xb),\n",
    "        y=yb\n",
    "    )\n",
    "]\n",
    "iplot(data)\n",
    "\n",
    "#quite interesting stat\n",
    "'''ad providers - COM/NET/German/Swiss/Russian/UK/Netherlands\n",
    "   Orig\n",
    "\n",
    "'''\n"
   ]
  },
  {
   "cell_type": "code",
   "execution_count": null,
   "metadata": {
    "collapsed": false
   },
   "outputs": [],
   "source": []
  },
  {
   "cell_type": "code",
   "execution_count": 26,
   "metadata": {
    "collapsed": false
   },
   "outputs": [
    {
     "data": {
      "text/html": [
       "<div id=\"2ab053e2-25ef-45fa-b0cc-2e3b4245809d\" style=\"height: 525; width: 100%;\" class=\"plotly-graph-div\"></div><script type=\"text/javascript\">require([\"plotly\"], function(Plotly) { window.PLOTLYENV=window.PLOTLYENV || {};window.PLOTLYENV.BASE_URL=\"https://plot.ly\";Plotly.newPlot(\"2ab053e2-25ef-45fa-b0cc-2e3b4245809d\", [{\"type\": \"scatter\", \"y\": [3, 1, 6], \"x\": [1, 2, 3]}], {}, {\"linkText\": \"Export to plot.ly\", \"showLink\": true})});</script>"
      ],
      "text/plain": [
       "<IPython.core.display.HTML object>"
      ]
     },
     "metadata": {},
     "output_type": "display_data"
    }
   ],
   "source": [
    "from plotly.offline import plot\n",
    "from plotly.graph_objs import Scatter\n",
    "\n",
    "#scatter plot\n",
    "iplot([Scatter(x=[1, 2, 3], y=[3, 1, 6])])"
   ]
  },
  {
   "cell_type": "code",
   "execution_count": 28,
   "metadata": {
    "collapsed": false
   },
   "outputs": [],
   "source": []
  },
  {
   "cell_type": "code",
   "execution_count": null,
   "metadata": {
    "collapsed": true
   },
   "outputs": [],
   "source": []
  },
  {
   "cell_type": "code",
   "execution_count": null,
   "metadata": {
    "collapsed": true
   },
   "outputs": [],
   "source": []
  },
  {
   "cell_type": "code",
   "execution_count": null,
   "metadata": {
    "collapsed": false
   },
   "outputs": [],
   "source": []
  },
  {
   "cell_type": "code",
   "execution_count": null,
   "metadata": {
    "collapsed": false
   },
   "outputs": [],
   "source": []
  },
  {
   "cell_type": "code",
   "execution_count": null,
   "metadata": {
    "collapsed": false
   },
   "outputs": [],
   "source": [
    "import re\n",
    "\n",
    "#regex for page numbers in brackets\n",
    "# anything fro 0 to 9 , 1 or more , replace with nothing\n",
    "gtravels = re.sub(\"\\[[0-9]+\\]\", \"\", gtravels)\n",
    "\n",
    "#regex to replace Roman Numerals following all caps word, up to RN 9 (only 8 chapters)\n",
    "# anything in all caps one or moe like HAPTER 4 \n",
    "# V to VIII\n",
    "# get the period\n",
    "\n",
    "gtravels = re.sub(\"([A-Z]+ (I?V|V?I{1,3})\\.)\", \"\",gtravels)\n",
    "\n",
    "print (gtravels)"
   ]
  },
  {
   "cell_type": "markdown",
   "metadata": {},
   "source": [
    "Let's save this text so we can read it in the corpus later:"
   ]
  },
  {
   "cell_type": "code",
   "execution_count": null,
   "metadata": {
    "collapsed": false
   },
   "outputs": [],
   "source": [
    "import codecs\n",
    "with codecs.open(\"gulliver.txt\", \"w\",\"utf-8\") as f:\n",
    "    f.write(gtravels)"
   ]
  },
  {
   "cell_type": "markdown",
   "metadata": {},
   "source": [
    "## Declaring a corpus in NLTK"
   ]
  },
  {
   "cell_type": "markdown",
   "metadata": {},
   "source": [
    "While you can use NLTK on strings and lists of sentences, it's better to formally declare your corpus."
   ]
  },
  {
   "cell_type": "code",
   "execution_count": null,
   "metadata": {
    "collapsed": false
   },
   "outputs": [],
   "source": [
    "from nltk.corpus import PlaintextCorpusReader\n",
    "\n",
    "corpus_root = \"\" #rel. path\n",
    "my_texts = PlaintextCorpusReader(corpus_root, '.*txt')"
   ]
  },
  {
   "cell_type": "markdown",
   "metadata": {},
   "source": [
    "We now have a text corpus, on which we can run all the basic methods you learned in the introductory sequence. To list all the files in our corpus:"
   ]
  },
  {
   "cell_type": "code",
   "execution_count": null,
   "metadata": {
    "collapsed": false,
    "scrolled": false
   },
   "outputs": [],
   "source": [
    "my_texts.fileids()"
   ]
  },
  {
   "cell_type": "markdown",
   "metadata": {},
   "source": [
    "We can also extract either all the words or all the sentences in list format:"
   ]
  },
  {
   "cell_type": "code",
   "execution_count": null,
   "metadata": {
    "collapsed": false
   },
   "outputs": [],
   "source": [
    "my_texts.words('gulliver.txt')"
   ]
  },
  {
   "cell_type": "code",
   "execution_count": null,
   "metadata": {
    "collapsed": false
   },
   "outputs": [],
   "source": [
    "gsents = my_texts.sents('gulliver.txt')\n",
    "print (gsents)"
   ]
  },
  {
   "cell_type": "markdown",
   "metadata": {},
   "source": [
    "We now have a corpus, or text, from which we can get any of the statistics you learned in Day 3 of the Python workshop. We will review some of these functions once we get some more information"
   ]
  },
  {
   "cell_type": "markdown",
   "metadata": {},
   "source": [
    "# 2) Tagging"
   ]
  },
  {
   "cell_type": "markdown",
   "metadata": {},
   "source": [
    "There are many situations, in which \"tagging\" words (or really anything) may be useful in order to determine or calculate trends, or for further text analysis to extract meaning. We will cover 3 methods of tagging: simple regex, n-gram, and Brill transformation based tagging. Although they will not be covered today, HMM, CRF, and neural networks will be briefly alluded to as additional machine learning models.\n",
    "\n",
    "It is important to note that in Natural Language Processing (NLP), POS (Part of Speech) tagging is the most common use for tagging, but the actual tag can be anything. Other applications include sentiment analysis and NER (Named Entity Recognition). Tagging is simply labeling a word to a specific category via a tuple.\n",
    "\n",
    "Nevertheless, for training more advanced tagging models, POS tagging is nearly essential. If you are defining a machine learning model to predict patterns in your text, these patterns will most likley rely on, among other things, POS features. You will therefore first tag POS and then use the POS as a feature in your model."
   ]
  },
  {
   "cell_type": "markdown",
   "metadata": {},
   "source": [
    "## On a low-level"
   ]
  },
  {
   "cell_type": "markdown",
   "metadata": {},
   "source": [
    "Tagging is creating a tuple of (word, tag) for every word in a text or corpus. For example: \"My name is Chris\" may be tagged for POS as:"
   ]
  },
  {
   "cell_type": "markdown",
   "metadata": {},
   "source": [
    "My/PossessivePronoun name/Noun is/Verb Chris/ProperNoun ./Period\n",
    "\n",
    "*NB: type 'nltk.data.path' to find the path on your computer to your downloaded nltk corpora. You can explore these files to see how large corpora are formatted.*"
   ]
  },
  {
   "cell_type": "markdown",
   "metadata": {},
   "source": [
    "You'll notice how the text is annotated, using a forward slash to match the word to its tag. So how can we get this to a useful form for Python?"
   ]
  },
  {
   "cell_type": "code",
   "execution_count": null,
   "metadata": {
    "collapsed": false
   },
   "outputs": [],
   "source": [
    "from nltk.tag import str2tuple\n",
    "\n",
    "line = \"My/Possessive_Pronoun name/Noun is/Verb Chris/Proper_Noun ./Period\"\n",
    "tagged_sent = [str2tuple(t) for t in line.split()]\n",
    "\n",
    "print (tagged_sent)"
   ]
  },
  {
   "cell_type": "markdown",
   "metadata": {},
   "source": [
    "Further analysis of tags with NLTK requires a *list* of sentences, otherwise you will get an index error on higher level methods."
   ]
  },
  {
   "cell_type": "markdown",
   "metadata": {},
   "source": [
    "Naturally, these tags are a bit verbose, the standard tagging conventions follow the Penn Treebank (more in a second): https://www.ling.upenn.edu/courses/Fall_2003/ling001/penn_treebank_pos.html"
   ]
  },
  {
   "cell_type": "markdown",
   "metadata": {},
   "source": [
    "## Working with a tagged corpus"
   ]
  },
  {
   "cell_type": "markdown",
   "metadata": {},
   "source": [
    "Now that we know how tagging works, let's import a tagged corpus from the NLTK database and see what we can do."
   ]
  },
  {
   "cell_type": "code",
   "execution_count": null,
   "metadata": {
    "collapsed": false
   },
   "outputs": [],
   "source": [
    "from nltk.corpus import brown #if you don't have this downloaded, type nltk.download()\n",
    "brown.tagged_words()"
   ]
  },
  {
   "cell_type": "markdown",
   "metadata": {},
   "source": [
    "*NB: the argument tagset = \"universal\" simplifies the tagset.*"
   ]
  },
  {
   "cell_type": "markdown",
   "metadata": {},
   "source": [
    "Let's find the most frequent parts of speech in the corpus:"
   ]
  },
  {
   "cell_type": "code",
   "execution_count": null,
   "metadata": {
    "collapsed": false,
    "scrolled": false
   },
   "outputs": [],
   "source": [
    "import nltk\n",
    "\n",
    "brown_news_tagged = brown.tagged_words(categories='news') #not universal tagset\n",
    "#tag frequency distribution\n",
    "#AT -article\n",
    "#NN\n",
    "tag_fd = nltk.FreqDist(tag for (word, tag) in brown_news_tagged)\n",
    "tag_fd.most_common()"
   ]
  },
  {
   "cell_type": "markdown",
   "metadata": {},
   "source": [
    "So what do these tags mean?"
   ]
  },
  {
   "cell_type": "code",
   "execution_count": null,
   "metadata": {
    "collapsed": false
   },
   "outputs": [],
   "source": [
    "nltk.help.upenn_tagset()"
   ]
  },
  {
   "cell_type": "markdown",
   "metadata": {},
   "source": [
    "We can also find out what the most common nouns are. For the linguists, there are naturally many subgroups of nouns, let's see what we can get:"
   ]
  },
  {
   "cell_type": "code",
   "execution_count": null,
   "metadata": {
    "collapsed": false
   },
   "outputs": [],
   "source": [
    "# frequency \n",
    "def find_tags(tag_prefix, tagged_text):\n",
    "    cfd = nltk.ConditionalFreqDist((tag, word) for (word, tag) in tagged_text\n",
    "                                  if tag.startswith(tag_prefix))\n",
    "    return dict((tag, cfd[tag].most_common(5)) for tag in cfd.conditions()) #cfd.conditions() yields all tags possibilites\n",
    "\n",
    "tagdict = find_tags('NN', brown_news_tagged)\n",
    "#NN, rest are sub categories\n",
    "\n",
    "for tag in sorted(tagdict):\n",
    "    print(tag, tagdict[tag])"
   ]
  },
  {
   "cell_type": "markdown",
   "metadata": {},
   "source": [
    "We can also look at what linguistic environment words are in, below lists all the words following \"President\":"
   ]
  },
  {
   "cell_type": "code",
   "execution_count": null,
   "metadata": {
    "collapsed": false,
    "scrolled": true
   },
   "outputs": [],
   "source": [
    "brown_news_text = brown.words(categories='news')\n",
    "sorted(set(b for (a, b) in nltk.bigrams(brown_news_text) if a == 'President'))"
   ]
  },
  {
   "cell_type": "markdown",
   "metadata": {},
   "source": [
    "If we are looking to build a classifier, perhaps for author identification, it may be useful to quantify the syntax."
   ]
  },
  {
   "cell_type": "code",
   "execution_count": null,
   "metadata": {
    "collapsed": false
   },
   "outputs": [],
   "source": [
    "# bigrams - every single set of two words\n",
    "# ngrams\n",
    "# pos is 1 \n",
    "# starts with Verb(VB)\n",
    "\n",
    "tags = [b[1] for (a, b) in nltk.bigrams(brown_news_tagged) if a[1].startswith('VB')]\n",
    "fd1 = nltk.FreqDist(tags)\n",
    "fd1.tabulate(10)"
   ]
  },
  {
   "cell_type": "markdown",
   "metadata": {},
   "source": [
    "## Automatic Tagging"
   ]
  },
  {
   "cell_type": "markdown",
   "metadata": {},
   "source": [
    "Now that we know some things we can do with a tagged corpus, how can we tag our own corpus? We will work through regex models, n-gram models, and discuss a couple more advanced models."
   ]
  },
  {
   "cell_type": "markdown",
   "metadata": {},
   "source": [
    "### Regex Tagger"
   ]
  },
  {
   "cell_type": "markdown",
   "metadata": {},
   "source": [
    "Let's write a simple regex tagger for 8 parts of speech. First we need to define the patterns for each part:"
   ]
  },
  {
   "cell_type": "code",
   "execution_count": null,
   "metadata": {
    "collapsed": true
   },
   "outputs": [],
   "source": [
    "# building a regex POS tagger\n",
    "patterns = [\n",
    "     (r'.*ing$', 'VBG'),               # gerunds, ending in 'ing'\n",
    "     (r'.*ed$', 'VBD'),                # simple past , ending in 'ed' past tense\n",
    "     (r'.*\\'s$', 'NN$'),               # possessive nouns, ending in 's possesive \n",
    "     (r'.*s$', 'NNS'),                 # plural nouns - ending in s is plural\n",
    "     (r'.*', 'NN')                     # nouns (default) - \n",
    " ]"
   ]
  },
  {
   "cell_type": "code",
   "execution_count": null,
   "metadata": {
    "collapsed": false
   },
   "outputs": [],
   "source": [
    "gsents"
   ]
  },
  {
   "cell_type": "markdown",
   "metadata": {},
   "source": [
    "Now we build the tagger and we can test it on the first sentence of our *Gulliver's Travels*."
   ]
  },
  {
   "cell_type": "code",
   "execution_count": null,
   "metadata": {
    "collapsed": false
   },
   "outputs": [],
   "source": [
    "regexp_tagger = nltk.RegexpTagger(patterns)\n",
    "regexp_tagger.tag(gsents[0])\n",
    "#99% accuracy"
   ]
  },
  {
   "cell_type": "markdown",
   "metadata": {},
   "source": [
    "That didn't work so well, no worries, this was a very naïve attempt. But we can evaluate the accuracy nonetheless:"
   ]
  },
  {
   "cell_type": "code",
   "execution_count": null,
   "metadata": {
    "collapsed": false
   },
   "outputs": [],
   "source": [
    "brown_tagged_sents = brown.tagged_sents(categories='news')\n",
    "regexp_tagger.evaluate(brown_tagged_sents)"
   ]
  },
  {
   "cell_type": "markdown",
   "metadata": {},
   "source": [
    "### N-Gram Tagging"
   ]
  },
  {
   "cell_type": "markdown",
   "metadata": {},
   "source": [
    "N-Gram tagging is a very basic supervised machine learning technique. It looks at a word and *n* previous words' tags to determine the best tag for the focal word. Because n-gram tagging and other machine learning models require data to train on they are called \"supervised\", because you know the data being given to it. This also means that we must divide the data into training and testing data, because if you test your model on the same data it was trained with, you will have a great degree of bias. Originally, a 90-10 divide was recommended, but standards have now changed to k-fold cross-validation, usually 10 folds."
   ]
  },
  {
   "cell_type": "code",
   "execution_count": null,
   "metadata": {
    "collapsed": false
   },
   "outputs": [],
   "source": [
    "#divide tagged data\n",
    "size = int(len(brown_tagged_sents) * 0.9)\n",
    "train_sents = brown_tagged_sents[:size]\n",
    "test_sents = brown_tagged_sents[size:]\n",
    "\n",
    "#train bigram tagger\n",
    "bigram_tagger = nltk.BigramTagger(train_sents) #word and tag of prev word"
   ]
  },
  {
   "cell_type": "markdown",
   "metadata": {},
   "source": [
    "We can now try this tagger on that sentence again:"
   ]
  },
  {
   "cell_type": "code",
   "execution_count": null,
   "metadata": {
    "collapsed": false
   },
   "outputs": [],
   "source": [
    "bigram_tagger.tag(gsents[0])"
   ]
  },
  {
   "cell_type": "markdown",
   "metadata": {},
   "source": [
    "All of the \"None\" means it didn't know how to tag it because the model was insufficient, as once it encounters an unknown word to tag, the following will also be un-taggable. To fix this we have to implement backoff tagging, or cascading taggers:"
   ]
  },
  {
   "cell_type": "code",
   "execution_count": null,
   "metadata": {
    "collapsed": false
   },
   "outputs": [],
   "source": [
    "t0 = nltk.RegexpTagger(patterns)\n",
    "t1 = nltk.UnigramTagger(train_sents, backoff=t0) #only current word, most likely tag\n",
    "t2 = nltk.BigramTagger(train_sents, backoff=t1)\n",
    "t3 = nltk.TrigramTagger(train_sents, backoff=t2)"
   ]
  },
  {
   "cell_type": "markdown",
   "metadata": {},
   "source": [
    "Now let's try to tag that sentence again:"
   ]
  },
  {
   "cell_type": "code",
   "execution_count": null,
   "metadata": {
    "collapsed": false
   },
   "outputs": [],
   "source": [
    "t3.tag(gsents[0])"
   ]
  },
  {
   "cell_type": "code",
   "execution_count": null,
   "metadata": {
    "collapsed": false
   },
   "outputs": [],
   "source": [
    "t3.evaluate(test_sents)"
   ]
  },
  {
   "cell_type": "markdown",
   "metadata": {},
   "source": [
    "### Transformation-based Brill Tagging"
   ]
  },
  {
   "cell_type": "markdown",
   "metadata": {},
   "source": [
    "There are many different machine learning algorithms out there. The current \"hot\" choice is neural networks, but that is beyond the scope of this workshop. Let's look at a transformation-based tagger included in NLTK, which will help us understand how many machine learning models make decisions."
   ]
  },
  {
   "cell_type": "code",
   "execution_count": null,
   "metadata": {
    "collapsed": false
   },
   "outputs": [],
   "source": [
    "from nltk.tag.brill import *\n",
    "\n",
    "def train_brill_tagger(tagged_sents):\n",
    "    t0 = nltk.RegexpTagger(patterns)\n",
    "    t1 = nltk.UnigramTagger(train_sents, backoff=t0)\n",
    "    t2 = nltk.BigramTagger(train_sents, backoff=t1)\n",
    "    t3 = nltk.TrigramTagger(train_sents, backoff=t2)\n",
    "    Template._cleartemplates()\n",
    "    templates = brill24() #or fntbl37\n",
    "    t4 = nltk.tag.brill_trainer.BrillTaggerTrainer(t3, templates, trace=3)\n",
    "    t4 = t4.train(tagged_sents, max_rules=100)\n",
    "    \n",
    "    return t4\n",
    "\n",
    "tagger = train_brill_tagger(brown_tagged_sents)\n"
   ]
  },
  {
   "cell_type": "markdown",
   "metadata": {},
   "source": [
    "We see that the Brill tagger corrects itself up to a certain threshold based on rules it generated from the data we gave it. Other machine learning models such as Conditional Random Fields (CRF) work in a similar way, in that you tell it what features are important to look at, and it weights these features in writing its rules. Neural networks go more into linear algebra and matrix multiplication, a different approach. Libraries do exist for easy implmentation of neural nets such as pybrain (http://pybrain.org) for general advanced modelling, and nlpnet (http://nilc.icmc.usp.br/nlpnet/index.html) for POS or SRL (Semantic Role Labeling).\n",
    "\n",
    "So let's tag that sentence again with our Brill tagger:"
   ]
  },
  {
   "cell_type": "code",
   "execution_count": null,
   "metadata": {
    "collapsed": false
   },
   "outputs": [],
   "source": [
    "gtagged_sent = tagger.tag(gsents[0])\n",
    "print (gtagged_sent)"
   ]
  },
  {
   "cell_type": "code",
   "execution_count": null,
   "metadata": {
    "collapsed": false
   },
   "outputs": [],
   "source": [
    "tagger.evaluate(test_sents)"
   ]
  },
  {
   "cell_type": "markdown",
   "metadata": {},
   "source": [
    "Let's POS tag our entire text:"
   ]
  },
  {
   "cell_type": "code",
   "execution_count": null,
   "metadata": {
    "collapsed": true
   },
   "outputs": [],
   "source": [
    "#list comprehension\n",
    "g_tagged_all = [tagger.tag(sent) for sent in gsents]"
   ]
  },
  {
   "cell_type": "code",
   "execution_count": null,
   "metadata": {
    "collapsed": false
   },
   "outputs": [],
   "source": [
    "g_tagged_all[:3]"
   ]
  },
  {
   "cell_type": "markdown",
   "metadata": {},
   "source": [
    "What types of adjectives are used?"
   ]
  },
  {
   "cell_type": "code",
   "execution_count": null,
   "metadata": {
    "collapsed": false
   },
   "outputs": [],
   "source": [
    "# flattens the list\n",
    "g_tagged_words = [item for sublist in g_tagged_all for item in sublist]\n",
    "\n",
    "tagdict = find_tags('JJ', g_tagged_words)\n",
    "for tag in sorted(tagdict):\n",
    "    print(tag, tagdict[tag])"
   ]
  },
  {
   "cell_type": "markdown",
   "metadata": {},
   "source": [
    "How about we compare the syntax of Gulliver's Travels to the news corpus:"
   ]
  },
  {
   "cell_type": "code",
   "execution_count": null,
   "metadata": {
    "collapsed": false
   },
   "outputs": [],
   "source": [
    "#pos tags which follows verbs\n",
    "tags = [b[1] for (a, b) in nltk.bigrams(g_tagged_words) if a[1].startswith('VB')]\n",
    "fd2 = nltk.FreqDist(tags)\n",
    "\n",
    "print (\"Gulliver\")\n",
    "fd2.tabulate(10)\n",
    "#PPO Personal Pronoun\n",
    "print ()\n",
    "print (\"News\")\n",
    "fd1.tabulate(10)"
   ]
  },
  {
   "cell_type": "markdown",
   "metadata": {},
   "source": [
    "There are several explanations for the difference. Perhaps due to the familiarity with characters in the novel form, personal pronoun objects (\"me, him, her, etc.\") are more common to follow verbs than articles, which likely attempt to clarify an unknown in a news source."
   ]
  },
  {
   "cell_type": "markdown",
   "metadata": {
    "collapsed": false
   },
   "source": [
    "In developing machine learning models, you may want to know where the model is making errors. This can be done by examining the Confusion Matrix:"
   ]
  },
  {
   "cell_type": "code",
   "execution_count": null,
   "metadata": {
    "collapsed": false
   },
   "outputs": [],
   "source": [
    "def tag_list(tagged_sents):\n",
    "    return [tag for sent in tagged_sents for (word, tag) in sent] #just grabbing a list of all the tags\n",
    "def apply_tagger(tagger, corpus):\n",
    "    return [tagger.tag(nltk.tag.untag(sent)) for sent in corpus] #notice we first untag the sentence\n",
    "\n",
    "gold = tag_list(brown_tagged_sents)\n",
    "test = tag_list(apply_tagger(tagger, brown_tagged_sents))\n",
    "\n",
    "cm = nltk.ConfusionMatrix(gold, test)\n",
    "print(cm.pretty_format(sort_by_count=True, show_percents=True, truncate=10))"
   ]
  },
  {
   "cell_type": "markdown",
   "metadata": {},
   "source": [
    "### Pickling"
   ]
  },
  {
   "cell_type": "markdown",
   "metadata": {},
   "source": [
    "If you want to save your model, or any complex variable in Python, you can use pickle:"
   ]
  },
  {
   "cell_type": "code",
   "execution_count": null,
   "metadata": {
    "collapsed": false
   },
   "outputs": [],
   "source": [
    "from pickle import dump,load\n",
    "\n",
    "with open(\"brilltagger.pkl\", \"wb\") as f:\n",
    "    dump (tagger, f, -1) #-1 calls for a more efficient binary protocol"
   ]
  },
  {
   "cell_type": "code",
   "execution_count": null,
   "metadata": {
    "collapsed": false
   },
   "outputs": [],
   "source": [
    "with open('brilltagger.pkl', 'rb') as f:\n",
    "    tagger = load(f)\n",
    "    \n",
    "type (tagger)"
   ]
  },
  {
   "cell_type": "markdown",
   "metadata": {},
   "source": [
    "## 3) Chunking, grammars, and Named Entity Recognition"
   ]
  },
  {
   "cell_type": "markdown",
   "metadata": {},
   "source": [
    "On a low linguistic level, you may want to map out a sentence visually based on parts of speech, of course this visualization is actually just a navigable data type, which can be used to mine statistics. We have to first define the grammar. We'll just define a noun phrase for English consisting of a determiner, indefinite article, count, or possessive pronoun, an adjective, and noun. Defining the grammar is done similarly to writing regular expressions. We can then draw the map."
   ]
  },
  {
   "cell_type": "code",
   "execution_count": null,
   "metadata": {
    "collapsed": false
   },
   "outputs": [],
   "source": [
    "grammar = r\"\"\"\n",
    "  NP: {<DT|AT|CD|PP\\$>?<JJ>*<PPSS|NN.*>}       \n",
    "  PP: {<IN><NP>}            \n",
    "  VP: {<BEDZ|HVD|VB.*><AT>?<OD>?<NP|PP|CLAUSE>+} \n",
    "  CLAUSE: {<NP><VP>}        \n",
    "  \"\"\"\n",
    "# | is \"or\", a following ? means optional, * is 0 or more, .* is anything following\n",
    "\n",
    "cp = nltk.RegexpParser(grammar)\n",
    "result = cp.parse(gtagged_sent)\n",
    "result #result.draw() for not in python notebook"
   ]
  },
  {
   "cell_type": "code",
   "execution_count": null,
   "metadata": {
    "collapsed": false
   },
   "outputs": [],
   "source": [
    "print (result) #can be traversed using indexes, obviously searched as well"
   ]
  },
  {
   "cell_type": "markdown",
   "metadata": {},
   "source": [
    "With this information, we can then train classifiers for Named Entity Recognition (NER), i.e. identifying people, places, and things. We won't go into detail today, but NLTK already has a trained classfier we can use off-the-shelf:"
   ]
  },
  {
   "cell_type": "code",
   "execution_count": null,
   "metadata": {
    "collapsed": false
   },
   "outputs": [],
   "source": [
    "print (nltk.ne_chunk(gtagged_sent, binary=True))"
   ]
  },
  {
   "cell_type": "markdown",
   "metadata": {},
   "source": [
    "## 4) Document Classification"
   ]
  },
  {
   "cell_type": "markdown",
   "metadata": {},
   "source": [
    "We now download a corpus of movie reviews, which were already labeled as positive or negative. We can build a Naive Bayes Classifier to learn from the annotated data and then predict unseen reviews as positive or negative."
   ]
  },
  {
   "cell_type": "code",
   "execution_count": null,
   "metadata": {
    "collapsed": false
   },
   "outputs": [],
   "source": [
    "import random\n",
    "from nltk.corpus import movie_reviews\n",
    "\n",
    "movie_reviews.categories()"
   ]
  },
  {
   "cell_type": "code",
   "execution_count": null,
   "metadata": {
    "collapsed": false
   },
   "outputs": [],
   "source": [
    "movie_reviews.fileids()"
   ]
  },
  {
   "cell_type": "code",
   "execution_count": null,
   "metadata": {
    "collapsed": false
   },
   "outputs": [],
   "source": [
    "len(movie_reviews.fileids())"
   ]
  },
  {
   "cell_type": "code",
   "execution_count": null,
   "metadata": {
    "collapsed": false
   },
   "outputs": [],
   "source": [
    "movie_reviews.words(\"neg/cv000_29416.txt\")"
   ]
  },
  {
   "cell_type": "code",
   "execution_count": null,
   "metadata": {
    "collapsed": true
   },
   "outputs": [],
   "source": [
    "#\n",
    "documents = [(list(movie_reviews.words(fileid)), category)\n",
    "                for category in movie_reviews.categories()\n",
    "                for fileid in movie_reviews.fileids(category)]\n",
    "#shuffle to avoid bias\n",
    "random.shuffle(documents)"
   ]
  },
  {
   "cell_type": "code",
   "execution_count": null,
   "metadata": {
    "collapsed": false
   },
   "outputs": [],
   "source": [
    "#long ist of tuples\n",
    "documents[0]"
   ]
  },
  {
   "cell_type": "markdown",
   "metadata": {},
   "source": [
    "We will use a relatively simple model of only two features: single words and bigrams. First we need to get a list of the most common words and bigrams in the entire corpus."
   ]
  },
  {
   "cell_type": "code",
   "execution_count": null,
   "metadata": {
    "collapsed": false
   },
   "outputs": [],
   "source": [
    "# most freq positive words\n",
    "# most freq negative words\n",
    "movie_words = [w.lower() for w in movie_reviews.words()]\n",
    "all_words = nltk.FreqDist(movie_words)\n",
    "#most common 2000 words\n",
    "word_features = list(all_words.most_common())[:2000]\n",
    "word_features = [x[0] for x in word_features]\n",
    "\n",
    "all_bis = nltk.bigrams(movie_words)\n",
    "all_bis = nltk.FreqDist(all_bis)\n",
    "bi_features = list(all_bis.most_common())[:2000]\n",
    "bi_features = [x[0] for x in bi_features]\n",
    "bi_features[:10]"
   ]
  },
  {
   "cell_type": "markdown",
   "metadata": {},
   "source": [
    "Now we define features we deem relevant for classifying a document, in our case we will only use the words and bigrams generated above."
   ]
  },
  {
   "cell_type": "code",
   "execution_count": null,
   "metadata": {
    "collapsed": true
   },
   "outputs": [],
   "source": [
    "#tokenized words\n",
    "def document_features(document):\n",
    "    # set - gives unique\n",
    "    document_words = set(document)\n",
    "    document_bis = set(nltk.bigrams(document))\n",
    "    #more features can be added\n",
    "    #pos features can be added\n",
    "    features = {}\n",
    "    for word in word_features:\n",
    "        features['contains({})'.format(word)] = (word in document_words)\n",
    "    for bi in bi_features:\n",
    "        features['contains({})'.format(str(bi))] = (bi in document_bis)\n",
    "    return features"
   ]
  },
  {
   "cell_type": "markdown",
   "metadata": {},
   "source": [
    "We then extract all these features into a tuple with the classification. Divide into training and testing sets, and train the classfier."
   ]
  },
  {
   "cell_type": "code",
   "execution_count": null,
   "metadata": {
    "collapsed": false
   },
   "outputs": [],
   "source": [
    "# d is the review and c is category\n",
    "featuresets = [(document_features(d), c) for (d,c) in documents]\n",
    "featuresets[0]\n",
    "#first 100 would be the test set \n",
    "train_set, test_set = featuresets[100:], featuresets[:100]\n",
    "classifier = nltk.NaiveBayesClassifier.train(train_set)"
   ]
  },
  {
   "cell_type": "code",
   "execution_count": null,
   "metadata": {
    "collapsed": false
   },
   "outputs": [],
   "source": [
    "featuresets[0]"
   ]
  },
  {
   "cell_type": "code",
   "execution_count": null,
   "metadata": {
    "collapsed": false
   },
   "outputs": [],
   "source": [
    "nltk.classify.accuracy(classifier, test_set)"
   ]
  },
  {
   "cell_type": "code",
   "execution_count": null,
   "metadata": {
    "collapsed": false,
    "scrolled": true
   },
   "outputs": [],
   "source": [
    "classifier.show_most_informative_features(30)"
   ]
  },
  {
   "cell_type": "markdown",
   "metadata": {},
   "source": [
    "Now go to the internet, find a movie review, create a tokenized string out of it, and try to classify it!"
   ]
  },
  {
   "cell_type": "markdown",
   "metadata": {},
   "source": [
    "Hint:"
   ]
  },
  {
   "cell_type": "code",
   "execution_count": null,
   "metadata": {
    "collapsed": true
   },
   "outputs": [],
   "source": [
    "my_review = nltk.word_tokenize(\"too wasteful REVIEW\")"
   ]
  },
  {
   "cell_type": "code",
   "execution_count": null,
   "metadata": {
    "collapsed": true
   },
   "outputs": [],
   "source": [
    "rev_doc_feats = document_features(my_review)"
   ]
  },
  {
   "cell_type": "code",
   "execution_count": null,
   "metadata": {
    "collapsed": false
   },
   "outputs": [],
   "source": [
    "classifier.classify(rev_doc_feats)"
   ]
  },
  {
   "cell_type": "code",
   "execution_count": null,
   "metadata": {
    "collapsed": true
   },
   "outputs": [],
   "source": [
    "#scikit learn\n",
    "#SVM - Ac\n",
    "#random forest\n",
    "#NN \n"
   ]
  }
 ],
 "metadata": {
  "kernelspec": {
   "display_name": "Python 3",
   "language": "python",
   "name": "python3"
  },
  "language_info": {
   "codemirror_mode": {
    "name": "ipython",
    "version": 3
   },
   "file_extension": ".py",
   "mimetype": "text/x-python",
   "name": "python",
   "nbconvert_exporter": "python",
   "pygments_lexer": "ipython3",
   "version": "3.5.1"
  }
 },
 "nbformat": 4,
 "nbformat_minor": 0
}
